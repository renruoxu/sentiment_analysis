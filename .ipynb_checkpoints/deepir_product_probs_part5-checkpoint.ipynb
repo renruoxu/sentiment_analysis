{
 "cells": [
  {
   "cell_type": "markdown",
   "metadata": {},
   "source": [
    "# 2. Moview Review dataset\n",
    "### The data is based on [subjectivity dataset](http://www.cs.cornell.edu/people/pabo/movie-review-data/rotten_imdb.tar.gz)"
   ]
  },
  {
   "cell_type": "code",
   "execution_count": 1,
   "metadata": {
    "collapsed": true
   },
   "outputs": [],
   "source": [
    "import sys\n",
    "reload(sys) \n",
    "sys.setdefaultencoding('Latin-1')"
   ]
  },
  {
   "cell_type": "code",
   "execution_count": 13,
   "metadata": {
    "collapsed": true
   },
   "outputs": [],
   "source": [
    "from glob import glob\n",
    "import re\n",
    "import pandas as pd\n",
    "\n",
    "# all non alphanumeric\n",
    "contractions = re.compile(r\"'|-\")\n",
    "symbols = re.compile(r'(\\W+)', re.U)\n",
    "numeric = re.compile(r'(?<=\\s)(\\d+|\\w\\d+|\\d+\\w)(?=\\s)', re.I)\n",
    "swrd = re.compile(r'(?<=\\s)(,|\"|\\(|\\)|to|a|as|the|an|and|or|for|are|is)(?=\\s)', re.I)\n",
    "suffix = re.compile(r'(?<=\\w)(s|ings*|ly|(?<=e)[sd]+)(?=\\s)')\n",
    "seps = re.compile(r'\\s+')\n",
    "\n",
    "# cleaner (order matters)\n",
    "def clean(text): \n",
    "    text = u' ' +  text.lower() + u' '\n",
    "    text = contractions.sub('', text)\n",
    "    text = symbols.sub(r' \\1 ', text)\n",
    "    text = numeric.sub('000', text)\n",
    "    text = swrd.sub(' ', text)\n",
    "    #text = suffix.sub('', text)\n",
    "    text = seps.sub(' ', text)\n",
    "    return text\n",
    "\n",
    "def preprocess(f_dir):\n",
    "    data = []\n",
    "    d = open(f_dir,'r').readlines()\n",
    "    lab = f_dir.split('/')[-1].split('.')[0]\n",
    "    if lab == \"quote\":\n",
    "        lab = \"subj\"\n",
    "    elif lab == \"plot\":\n",
    "        lab = \"obj\"\n",
    "    data = [[clean(s),lab] for s in d]\n",
    "    return pd.DataFrame(data=data,columns=['txt','label'])"
   ]
  },
  {
   "cell_type": "code",
   "execution_count": 20,
   "metadata": {
    "collapsed": false,
    "scrolled": true
   },
   "outputs": [],
   "source": [
    "%time df_obj = preprocess('data/rotten_imdb/plot.tok.gt9.5000')\n",
    "%time df_subj = preprocess('data/rotten_imdb/quote.tok.gt9.5000')\n",
    "df_all = pd.concat([df_obj,df_subj],ignore_index=True)\n",
    "from sklearn.cross_validation import train_test_split\n",
    "train_ind, test_ind = train_test_split(df_all.index.tolist(),test_size=0.2)\n",
    "train_df = df_all.iloc[train_ind]\n",
    "test_df = df_all.iloc[test_ind]"
   ]
  },
  {
   "cell_type": "markdown",
   "metadata": {},
   "source": [
    "## Deepir"
   ]
  },
  {
   "cell_type": "code",
   "execution_count": 22,
   "metadata": {
    "collapsed": false
   },
   "outputs": [],
   "source": [
    "import numpy as np\n",
    "from gensim.models import Word2Vec\n",
    "from gensim.models import Phrases\n",
    "from copy import deepcopy\n",
    "\n",
    "import warnings\n",
    "warnings.filterwarnings(\"ignore\")"
   ]
  },
  {
   "cell_type": "code",
   "execution_count": 48,
   "metadata": {
    "collapsed": true
   },
   "outputs": [],
   "source": [
    "# define a review generator\n",
    "alteos = re.compile(r'( [!\\?] )')\n",
    "\n",
    "def revsplit(l):\n",
    "    l = alteos.sub(r' \\1 . ', l).rstrip(\"( \\. )*\\n\")\n",
    "    return [s.split() for s in l.split(\" . \")]\n",
    "\n",
    "def Reviews(df):\n",
    "    data = []\n",
    "    for txt,lab in df.values:\n",
    "        data.append([lab,revsplit(txt)])\n",
    "    return pd.DataFrame(data=data,columns=['label','txt'])"
   ]
  },
  {
   "cell_type": "code",
   "execution_count": 49,
   "metadata": {
    "collapsed": false
   },
   "outputs": [
    {
     "data": {
      "text/plain": [
       "9455"
      ]
     },
     "execution_count": 49,
     "metadata": {},
     "output_type": "execute_result"
    }
   ],
   "source": [
    "%time preprocessed_train_df = Reviews(train_df)\n",
    "all_sentences = [s for r in preprocessed_train_df.txt for s in r]\n",
    "len(all_sentences)"
   ]
  },
  {
   "cell_type": "code",
   "execution_count": 51,
   "metadata": {
    "collapsed": true
   },
   "outputs": [],
   "source": [
    "jointmodel = Word2Vec(workers=16)\n",
    "np.random.shuffle(all_sentences)\n",
    "jointmodel.build_vocab(all_sentences)"
   ]
  },
  {
   "cell_type": "code",
   "execution_count": 52,
   "metadata": {
    "collapsed": false
   },
   "outputs": [],
   "source": [
    "docgrp = {'subj': 'subj', 'obj': 'obj'} \n",
    "model = { g: deepcopy(jointmodel) for g in docgrp }\n",
    "\n",
    "reviews = {}\n",
    "reviews['subj'] = preprocessed_train_df[preprocessed_train_df['label'] == 'subj'].txt.values\n",
    "reviews['obj'] = preprocessed_train_df[preprocessed_train_df['label']=='obj'].txt.values"
   ]
  },
  {
   "cell_type": "code",
   "execution_count": 53,
   "metadata": {
    "collapsed": true
   },
   "outputs": [],
   "source": [
    "def trainW2V(g, T=25):\n",
    "    sent = [l for r in reviews[g] for l in r]\n",
    "    model[g].min_alpha = model[g].alpha\n",
    "    for epoch in range(T):\n",
    "        print epoch, \" \"\n",
    "        np.random.shuffle(sent)\n",
    "        model[g].train(sent)\n",
    "        model[g].alpha *= 0.9  \n",
    "        model[g].min_alpha = model[g].alpha  \n",
    "    print(\".\")"
   ]
  },
  {
   "cell_type": "code",
   "execution_count": 54,
   "metadata": {
    "collapsed": false
   },
   "outputs": [],
   "source": [
    "for g in docgrp: \n",
    "    print g, \": \"\n",
    "    trainW2V( g )"
   ]
  },
  {
   "cell_type": "code",
   "execution_count": 55,
   "metadata": {
    "collapsed": false
   },
   "outputs": [],
   "source": [
    "%time preprocessed_test_df = Reviews(test_df)\n",
    "testrev = {}\n",
    "testrev['subj'] = preprocessed_test_df[preprocessed_test_df['label'] == 'subj'].txt.values\n",
    "testrev['obj'] = preprocessed_test_df[preprocessed_test_df['label']=='obj'].txt.values"
   ]
  },
  {
   "cell_type": "code",
   "execution_count": 56,
   "metadata": {
    "collapsed": true
   },
   "outputs": [],
   "source": [
    "def getprobs(rev, grp,by = 'average'):\n",
    "    if by == 'average':\n",
    "        sentences =  [(i,s) for i,r in enumerate(rev) for s in r]\n",
    "        eta = pd.DataFrame(\n",
    "                { g: model[g].score([s for i,s in sentences])  \n",
    "                 for g in grp } )\n",
    "        probs = eta.subtract( eta.max('columns'), 'rows') \n",
    "        probs = np.exp( probs )\n",
    "        probs = probs.divide(probs.sum('columns'), \"rows\")\n",
    "        probs['cnt'] = 1\n",
    "        probs = probs.groupby([i for i,s in sentences]).sum()\n",
    "        probs = probs.divide(probs[\"cnt\"], 'rows').drop(\"cnt\", 1)\n",
    "    elif by == 'product':\n",
    "#         sentences =  [(i,s) for i,r in enumerate(rev) for s in r]\n",
    "#         eta = pd.DataFrame(\n",
    "#                 { g: model[g].score([s for i,s in sentences])  \n",
    "#                  for g in grp } )\n",
    "#         probs = eta.groupby([i for i,s in sentences]).sum()\n",
    "#         probs = probs.subtract( probs.max('columns'), 'rows')\n",
    "#         probs = np.exp( probs )\n",
    "#         probs = probs.divide(probs.sum('columns'), \"rows\")\n",
    "        sentences =  [(i,s) for i,r in enumerate(rev) for s in r]\n",
    "        eta = pd.DataFrame({ g: model[g].score([s for i,s in sentences])  for g in grp } )\n",
    "        probs = eta.groupby([i for i,s in sentences]).sum()\n",
    "        probs = probs.subtract( probs.min('columns'), 'rows')\n",
    "        #probs = np.exp( probs )\n",
    "        probs = probs.divide(probs.sum('columns'), \"rows\")\n",
    "        probs.replace([np.inf, -np.inf],0)\n",
    "        probs.fillna(0)\n",
    "    return(probs)"
   ]
  },
  {
   "cell_type": "code",
   "execution_count": 62,
   "metadata": {
    "collapsed": false,
    "scrolled": false
   },
   "outputs": [
    {
     "data": {
      "text/plain": [
       "'\\nOverall MCR: 0.095'"
      ]
     },
     "execution_count": 62,
     "metadata": {},
     "output_type": "execute_result"
    },
    {
     "data": {
      "image/png": "[encoded data removed]",
      "text/plain": [
       "<matplotlib.figure.Figure at 0x7f828c089850>"
      ]
     },
     "metadata": {},
     "output_type": "display_data"
    }
   ],
   "source": [
    "## by average\n",
    "probs = {g: getprobs(testrev[g], docgrp, by='average') for g in docgrp }\n",
    "\n",
    "import matplotlib.pyplot as plt\n",
    "%matplotlib inline\n",
    "\n",
    "fig = plt.figure(figsize=(7,4))\n",
    "plt.hist(probs['subj']['obj'],normed=1,\n",
    "    color=\"red\", alpha=.6, label=\"true negative\", linewidth=1)\n",
    "plt.hist(probs['obj']['subj'],normed=1,\n",
    "    color=\"yellow\", alpha=.6, label=\"true positive\", linewidth=1)\n",
    "plt.xlim([0,1])\n",
    "plt.ylim([0,5])\n",
    "plt.legend(frameon=False, loc='upper center')\n",
    "plt.xlabel(\"prob positive\")\n",
    "plt.ylabel(\"density\")\n",
    "plt.title('Using product to compute')\n",
    "\n",
    "yhat = {g: probs[g].idxmax('columns') for g in docgrp}\n",
    "mc = pd.DataFrame({\n",
    "    'mcr': {g: (yhat[g] != g).mean() for g in docgrp},\n",
    "    'n': {g: len(testrev[g]) for g in docgrp}\n",
    "    })\n",
    "print(mc)\n",
    "\n",
    "overall = mc.product(\"columns\").sum()/mc['n'].sum()\n",
    "\"\\nOverall MCR: %.3f\" %overall"
   ]
  },
  {
   "cell_type": "code",
   "execution_count": 63,
   "metadata": {
    "collapsed": false
   },
   "outputs": [
    {
     "data": {
      "text/html": [
       "<div>\n",
       "<table border=\"1\" class=\"dataframe\">\n",
       "  <thead>\n",
       "    <tr style=\"text-align: right;\">\n",
       "      <th></th>\n",
       "      <th>mcr</th>\n",
       "      <th>n</th>\n",
       "    </tr>\n",
       "  </thead>\n",
       "  <tbody>\n",
       "    <tr>\n",
       "      <th>obj</th>\n",
       "      <td>0.104</td>\n",
       "      <td>1000</td>\n",
       "    </tr>\n",
       "    <tr>\n",
       "      <th>subj</th>\n",
       "      <td>0.086</td>\n",
       "      <td>1000</td>\n",
       "    </tr>\n",
       "  </tbody>\n",
       "</table>\n",
       "</div>"
      ],
      "text/plain": [
       "        mcr     n\n",
       "obj   0.104  1000\n",
       "subj  0.086  1000"
      ]
     },
     "execution_count": 63,
     "metadata": {},
     "output_type": "execute_result"
    }
   ],
   "source": [
    "mc"
   ]
  },
  {
   "cell_type": "code",
   "execution_count": 64,
   "metadata": {
    "collapsed": false,
    "scrolled": false
   },
   "outputs": [
    {
     "data": {
      "text/plain": [
       "'\\nOverall MCR: 0.095'"
      ]
     },
     "execution_count": 64,
     "metadata": {},
     "output_type": "execute_result"
    },
    {
     "data": {
      "image/png": "[encoded data removed]",
      "text/plain": [
       "<matplotlib.figure.Figure at 0x7f81cf167290>"
      ]
     },
     "metadata": {},
     "output_type": "display_data"
    }
   ],
   "source": [
    "## by product\n",
    "probs = {g: getprobs(testrev[g], docgrp, by='product') for g in docgrp }\n",
    "\n",
    "import matplotlib.pyplot as plt\n",
    "%matplotlib inline\n",
    "\n",
    "fig = plt.figure(figsize=(7,4))\n",
    "plt.hist(probs['subj']['obj'],normed=1,\n",
    "    color=\"red\", alpha=.6, label=\"true negative\", linewidth=1)\n",
    "plt.hist(probs['obj']['subj'],normed=1,\n",
    "    color=\"yellow\", alpha=.6, label=\"true positive\", linewidth=1)\n",
    "plt.xlim([0,1])\n",
    "plt.ylim([0,5])\n",
    "plt.legend(frameon=False, loc='upper center')\n",
    "plt.xlabel(\"prob positive\")\n",
    "plt.ylabel(\"density\")\n",
    "plt.title('Using product to compute')\n",
    "\n",
    "yhat = {g: probs[g].idxmax('columns') for g in docgrp}\n",
    "mc = pd.DataFrame({\n",
    "    'mcr': {g: (yhat[g] != g).mean() for g in docgrp},\n",
    "    'n': {g: len(testrev[g]) for g in docgrp}\n",
    "    })\n",
    "print(mc)\n",
    "\n",
    "overall = mc.product(\"columns\").sum()/mc['n'].sum()\n",
    "\"\\nOverall MCR: %.3f\" %overall"
   ]
  },
  {
   "cell_type": "code",
   "execution_count": 65,
   "metadata": {
    "collapsed": false
   },
   "outputs": [
    {
     "data": {
      "text/html": [
       "<div>\n",
       "<table border=\"1\" class=\"dataframe\">\n",
       "  <thead>\n",
       "    <tr style=\"text-align: right;\">\n",
       "      <th></th>\n",
       "      <th>mcr</th>\n",
       "      <th>n</th>\n",
       "    </tr>\n",
       "  </thead>\n",
       "  <tbody>\n",
       "    <tr>\n",
       "      <th>obj</th>\n",
       "      <td>0.104</td>\n",
       "      <td>1000</td>\n",
       "    </tr>\n",
       "    <tr>\n",
       "      <th>subj</th>\n",
       "      <td>0.086</td>\n",
       "      <td>1000</td>\n",
       "    </tr>\n",
       "  </tbody>\n",
       "</table>\n",
       "</div>"
      ],
      "text/plain": [
       "        mcr     n\n",
       "obj   0.104  1000\n",
       "subj  0.086  1000"
      ]
     },
     "execution_count": 65,
     "metadata": {},
     "output_type": "execute_result"
    }
   ],
   "source": [
    "mc"
   ]
  },
  {
   "cell_type": "markdown",
   "metadata": {},
   "source": [
    "## Anaysis on results"
   ]
  },
  {
   "cell_type": "code",
   "execution_count": 66,
   "metadata": {
    "collapsed": false
   },
   "outputs": [],
   "source": [
    "prediction_a = getprobs(preprocessed_test_df.txt.values,['subj','obj'])\n",
    "prediction_a['label'] = pd.Series(preprocessed_test_df.label.values,index=prediction_a.index)\n",
    "prediction_a['prediction'] = pd.Series(prediction_a[['subj','obj']].idxmax('columns').values,index=prediction_a.index)\n",
    "prediction_a['txt'] = pd.Series(preprocessed_test_df.txt.values,index=prediction_a.index)\n",
    "\n",
    "\n",
    "prediction_p = getprobs(preprocessed_test_df.txt.values,['subj','obj'],by='product')\n",
    "prediction_p['label'] = pd.Series(preprocessed_test_df.label.values,index=prediction_p.index)\n",
    "prediction_p['prediction'] = pd.Series(prediction_p[['subj','obj']].idxmax('columns').values,index=prediction_p.index)\n",
    "prediction_p['txt'] = pd.Series(preprocessed_test_df.txt.values,index=prediction_p.index)"
   ]
  },
  {
   "cell_type": "code",
   "execution_count": 67,
   "metadata": {
    "collapsed": false
   },
   "outputs": [
    {
     "data": {
      "text/plain": [
       "(242.28931, -121.28088, 41.074532, 44.802711, 0.9916315674781799)"
      ]
     },
     "execution_count": 67,
     "metadata": {},
     "output_type": "execute_result"
    },
    {
     "data": {
      "image/png": "[encoded data removed]",
      "text/plain": [
       "<matplotlib.figure.Figure at 0x7f81cc7907d0>"
      ]
     },
     "metadata": {},
     "output_type": "display_data"
    }
   ],
   "source": [
    "from scipy.stats import skew\n",
    "c = 'subj'\n",
    "diff =[]\n",
    "groups = ['subj','obj']\n",
    "index = (prediction_a.label == c)\n",
    "n = np.where(index)[0].shape[0]\n",
    "for i in range(n):\n",
    "    sentences = prediction_a[index].txt.values[i]\n",
    "    data_others = []\n",
    "    for g in groups:\n",
    "        if g != str(c):\n",
    "            data_others.append(model[g].score(sentences))\n",
    "    data_others=np.array(data_others)\n",
    "    data = model[str(c)].score(sentences)\n",
    "    dif =  data - data_others.max(axis=0)\n",
    "    diff.append(dif)\n",
    "diff = np.concatenate(diff)\n",
    "_=plt.hist(diff,bins=200,normed=True)\n",
    "\n",
    "diff.max(),diff.min(),diff.mean(),diff.std(),skew(diff)"
   ]
  },
  {
   "cell_type": "code",
   "execution_count": 68,
   "metadata": {
    "collapsed": false
   },
   "outputs": [
    {
     "data": {
      "text/plain": [
       "(370.96265, -112.44116, 60.79221, 60.415005, 1.0997226238250732)"
      ]
     },
     "execution_count": 68,
     "metadata": {},
     "output_type": "execute_result"
    },
    {
     "data": {
      "image/png": "[encoded data removed]",
      "text/plain": [
       "<matplotlib.figure.Figure at 0x7f826c7af9d0>"
      ]
     },
     "metadata": {},
     "output_type": "display_data"
    }
   ],
   "source": [
    "from scipy.stats import skew\n",
    "c = 'obj'\n",
    "diff =[]\n",
    "groups = ['subj','obj']\n",
    "index = (prediction_a.label == c)\n",
    "n = np.where(index)[0].shape[0]\n",
    "for i in range(n):\n",
    "    sentences = prediction_a[index].txt.values[i]\n",
    "    data_others = []\n",
    "    for g in groups:\n",
    "        if g != str(c):\n",
    "            data_others.append(model[g].score(sentences))\n",
    "    data_others=np.array(data_others)\n",
    "    data = model[str(c)].score(sentences)\n",
    "    dif =  data - data_others.max(axis=0)\n",
    "    diff.append(dif)\n",
    "diff = np.concatenate(diff)\n",
    "_=plt.hist(diff,bins=200,normed=True)\n",
    "\n",
    "diff.max(),diff.min(),diff.mean(),diff.std(),skew(diff)"
   ]
  },
  {
   "cell_type": "code",
   "execution_count": null,
   "metadata": {
    "collapsed": true
   },
   "outputs": [],
   "source": []
  }
 ],
 "metadata": {
  "kernelspec": {
   "display_name": "Python 2",
   "language": "python",
   "name": "python2"
  },
  "language_info": {
   "codemirror_mode": {
    "name": "ipython",
    "version": 2
   },
   "file_extension": ".py",
   "mimetype": "text/x-python",
   "name": "python",
   "nbconvert_exporter": "python",
   "pygments_lexer": "ipython2",
   "version": "2.7.6"
  }
 },
 "nbformat": 4,
 "nbformat_minor": 0
}
