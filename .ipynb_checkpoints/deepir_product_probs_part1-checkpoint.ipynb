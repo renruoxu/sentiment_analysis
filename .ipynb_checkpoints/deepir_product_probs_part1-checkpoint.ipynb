{
 "cells": [
  {
   "cell_type": "markdown",
   "metadata": {},
   "source": [
    "# Deepir implementation\n",
    "### The code is based on [deepir](https://github.com/TaddyLab/deepir) with slight modification\n",
    "### Data is based on [Kaggle Yelp Review](https://www.kaggle.com/c/yelp-recruiting/data)"
   ]
  },
  {
   "cell_type": "markdown",
   "metadata": {},
   "source": [
    "# 1. Yelp data"
   ]
  },
  {
   "cell_type": "code",
   "execution_count": 11,
   "metadata": {
    "collapsed": true
   },
   "outputs": [],
   "source": [
    "import re\n",
    "import json\n",
    "import pandas as pd"
   ]
  },
  {
   "cell_type": "markdown",
   "metadata": {},
   "source": [
    "## Preprocessing data "
   ]
  },
  {
   "cell_type": "code",
   "execution_count": 12,
   "metadata": {
    "collapsed": true
   },
   "outputs": [],
   "source": [
    "# all non alphanumeric\n",
    "contractions = re.compile(r\"'|-\")\n",
    "symbols = re.compile(r'(\\W+)', re.U)\n",
    "numeric = re.compile(r'(?<=\\s)(\\d+|\\w\\d+|\\d+\\w)(?=\\s)', re.I)\n",
    "swrd = re.compile(r'(?<=\\s)(,|\"|\\(|\\)|to|a|as|the|an|and|or|for|are|is)(?=\\s)', re.I)\n",
    "suffix = re.compile(r'(?<=\\w)(s|ings*|ly|(?<=e)[sd]+)(?=\\s)')\n",
    "seps = re.compile(r'\\s+')"
   ]
  },
  {
   "cell_type": "code",
   "execution_count": 13,
   "metadata": {
    "collapsed": true
   },
   "outputs": [],
   "source": [
    "# cleaner (order matters)\n",
    "def clean(text): \n",
    "    text = u' ' +  text.lower() + u' '\n",
    "    text = contractions.sub('', text)\n",
    "    text = symbols.sub(r' \\1 ', text)\n",
    "    text = numeric.sub('000', text)\n",
    "    text = swrd.sub(' ', text)\n",
    "    #text = suffix.sub('', text)\n",
    "    text = seps.sub(' ', text)\n",
    "    return text"
   ]
  },
  {
   "cell_type": "code",
   "execution_count": 14,
   "metadata": {
    "collapsed": true
   },
   "outputs": [],
   "source": [
    "def preprocess(f_dir):\n",
    "    data = []\n",
    "    for line in open(f_dir,'r'):\n",
    "        d = json.loads(line)\n",
    "        txt = clean(d['text'])\n",
    "        data.append([d['stars'],txt])\n",
    "    return pd.DataFrame(data=data,columns=['stars','txt'])"
   ]
  },
  {
   "cell_type": "code",
   "execution_count": 16,
   "metadata": {
    "collapsed": false
   },
   "outputs": [
    {
     "name": "stdout",
     "output_type": "stream",
     "text": [
      "CPU times: user 2min 59s, sys: 2.13 s, total: 3min 1s\n",
      "Wall time: 3min 1s\n"
     ]
    }
   ],
   "source": [
    "%time train_df = preprocess('data/yelp_review_small_set/yelp_training_set/yelp_training_set_review.json')"
   ]
  },
  {
   "cell_type": "code",
   "execution_count": 17,
   "metadata": {
    "collapsed": false,
    "scrolled": true
   },
   "outputs": [
    {
     "data": {
      "text/html": [
       "<div>\n",
       "<table border=\"1\" class=\"dataframe\">\n",
       "  <thead>\n",
       "    <tr style=\"text-align: right;\">\n",
       "      <th></th>\n",
       "      <th>stars</th>\n",
       "      <th>txt</th>\n",
       "    </tr>\n",
       "  </thead>\n",
       "  <tbody>\n",
       "    <tr>\n",
       "      <th>0</th>\n",
       "      <td>5</td>\n",
       "      <td>my wife took me here on my birthday breakfast...</td>\n",
       "    </tr>\n",
       "    <tr>\n",
       "      <th>1</th>\n",
       "      <td>5</td>\n",
       "      <td>i have no idea why some people give bad revie...</td>\n",
       "    </tr>\n",
       "    <tr>\n",
       "      <th>2</th>\n",
       "      <td>4</td>\n",
       "      <td>love gyro plate . rice so good i also dig the...</td>\n",
       "    </tr>\n",
       "    <tr>\n",
       "      <th>3</th>\n",
       "      <td>5</td>\n",
       "      <td>rosie dakota i love chaparral dog park !!! it...</td>\n",
       "    </tr>\n",
       "    <tr>\n",
       "      <th>4</th>\n",
       "      <td>5</td>\n",
       "      <td>general manager scott petello good egg !!! no...</td>\n",
       "    </tr>\n",
       "    <tr>\n",
       "      <th>5</th>\n",
       "      <td>4</td>\n",
       "      <td>quiessence simply put beautiful . full window...</td>\n",
       "    </tr>\n",
       "    <tr>\n",
       "      <th>6</th>\n",
       "      <td>5</td>\n",
       "      <td>drop what youre doing drive here . after i at...</td>\n",
       "    </tr>\n",
       "    <tr>\n",
       "      <th>7</th>\n",
       "      <td>4</td>\n",
       "      <td>luckily i didnt have travel far make my conne...</td>\n",
       "    </tr>\n",
       "    <tr>\n",
       "      <th>8</th>\n",
       "      <td>4</td>\n",
       "      <td>definitely come happy hour ! prices amazing s...</td>\n",
       "    </tr>\n",
       "    <tr>\n",
       "      <th>9</th>\n",
       "      <td>5</td>\n",
       "      <td>nobuo shows his unique talents with everythin...</td>\n",
       "    </tr>\n",
       "    <tr>\n",
       "      <th>10</th>\n",
       "      <td>5</td>\n",
       "      <td>oldish man who owns store sweet can be . perh...</td>\n",
       "    </tr>\n",
       "    <tr>\n",
       "      <th>11</th>\n",
       "      <td>5</td>\n",
       "      <td>wonderful vietnamese sandwich shoppe . their ...</td>\n",
       "    </tr>\n",
       "    <tr>\n",
       "      <th>12</th>\n",
       "      <td>5</td>\n",
       "      <td>they have limited time thing going on right n...</td>\n",
       "    </tr>\n",
       "    <tr>\n",
       "      <th>13</th>\n",
       "      <td>4</td>\n",
       "      <td>good tattoo shop . clean space multiple artis...</td>\n",
       "    </tr>\n",
       "    <tr>\n",
       "      <th>14</th>\n",
       "      <td>4</td>\n",
       "      <td>im 000 weeks new phoenix . i looked up irish ...</td>\n",
       "    </tr>\n",
       "    <tr>\n",
       "      <th>15</th>\n",
       "      <td>2</td>\n",
       "      <td>was it worth 000 $ salad small pizza ? absolu...</td>\n",
       "    </tr>\n",
       "    <tr>\n",
       "      <th>16</th>\n",
       "      <td>3</td>\n",
       "      <td>we went here on saturday afternoon this place...</td>\n",
       "    </tr>\n",
       "    <tr>\n",
       "      <th>17</th>\n",
       "      <td>5</td>\n",
       "      <td>okay this best place ever ! i grew up shoppin...</td>\n",
       "    </tr>\n",
       "    <tr>\n",
       "      <th>18</th>\n",
       "      <td>3</td>\n",
       "      <td>i met friend lunch yesterday . loved water fe...</td>\n",
       "    </tr>\n",
       "    <tr>\n",
       "      <th>19</th>\n",
       "      <td>4</td>\n",
       "      <td>theyve gotten better better me in time since ...</td>\n",
       "    </tr>\n",
       "    <tr>\n",
       "      <th>20</th>\n",
       "      <td>3</td>\n",
       "      <td>dvap .... you have go at least once in your l...</td>\n",
       "    </tr>\n",
       "    <tr>\n",
       "      <th>21</th>\n",
       "      <td>5</td>\n",
       "      <td>this place shouldnt even be reviewed because ...</td>\n",
       "    </tr>\n",
       "    <tr>\n",
       "      <th>22</th>\n",
       "      <td>5</td>\n",
       "      <td>first time my friend i went there ... it was ...</td>\n",
       "    </tr>\n",
       "    <tr>\n",
       "      <th>23</th>\n",
       "      <td>1</td>\n",
       "      <td>u can go there n check car out . if u wanna b...</td>\n",
       "    </tr>\n",
       "    <tr>\n",
       "      <th>24</th>\n",
       "      <td>5</td>\n",
       "      <td>i love this place ! i have been coming here a...</td>\n",
       "    </tr>\n",
       "    <tr>\n",
       "      <th>25</th>\n",
       "      <td>4</td>\n",
       "      <td>this place great . nice little ole fashion ho...</td>\n",
       "    </tr>\n",
       "    <tr>\n",
       "      <th>26</th>\n",
       "      <td>5</td>\n",
       "      <td>i love love love this place . my boss who int...</td>\n",
       "    </tr>\n",
       "    <tr>\n",
       "      <th>27</th>\n",
       "      <td>4</td>\n",
       "      <td>not that my review will mean much given more ...</td>\n",
       "    </tr>\n",
       "    <tr>\n",
       "      <th>28</th>\n",
       "      <td>4</td>\n",
       "      <td>came here breakfast yesterday it had been yea...</td>\n",
       "    </tr>\n",
       "    <tr>\n",
       "      <th>29</th>\n",
       "      <td>4</td>\n",
       "      <td>always reliably good . great beer selection w...</td>\n",
       "    </tr>\n",
       "    <tr>\n",
       "      <th>...</th>\n",
       "      <td>...</td>\n",
       "      <td>...</td>\n",
       "    </tr>\n",
       "    <tr>\n",
       "      <th>229877</th>\n",
       "      <td>3</td>\n",
       "      <td>i should start by saying that american mexica...</td>\n",
       "    </tr>\n",
       "    <tr>\n",
       "      <th>229878</th>\n",
       "      <td>5</td>\n",
       "      <td>always amazing</td>\n",
       "    </tr>\n",
       "    <tr>\n",
       "      <th>229879</th>\n",
       "      <td>5</td>\n",
       "      <td>by far best burger i have had in phoenix . me...</td>\n",
       "    </tr>\n",
       "    <tr>\n",
       "      <th>229880</th>\n",
       "      <td>4</td>\n",
       "      <td>good tacos good service kid friendly . well d...</td>\n",
       "    </tr>\n",
       "    <tr>\n",
       "      <th>229881</th>\n",
       "      <td>1</td>\n",
       "      <td>we used restaurant . com $ 000 off of $ 000 m...</td>\n",
       "    </tr>\n",
       "    <tr>\n",
       "      <th>229882</th>\n",
       "      <td>5</td>\n",
       "      <td>ticoz new find us . ive been wanting go here ...</td>\n",
       "    </tr>\n",
       "    <tr>\n",
       "      <th>229883</th>\n",
       "      <td>4</td>\n",
       "      <td>every now then movie comes along changes your...</td>\n",
       "    </tr>\n",
       "    <tr>\n",
       "      <th>229884</th>\n",
       "      <td>1</td>\n",
       "      <td>we ate at arrowhead mall johnny rockets tonig...</td>\n",
       "    </tr>\n",
       "    <tr>\n",
       "      <th>229885</th>\n",
       "      <td>3</td>\n",
       "      <td>we stayed at westin during our stay in scotts...</td>\n",
       "    </tr>\n",
       "    <tr>\n",
       "      <th>229886</th>\n",
       "      <td>1</td>\n",
       "      <td>every time ive been here there problem . toda...</td>\n",
       "    </tr>\n",
       "    <tr>\n",
       "      <th>229887</th>\n",
       "      <td>5</td>\n",
       "      <td>although this joint by far one of best restau...</td>\n",
       "    </tr>\n",
       "    <tr>\n",
       "      <th>229888</th>\n",
       "      <td>5</td>\n",
       "      <td>this realdeal mexican food in arizona . not b...</td>\n",
       "    </tr>\n",
       "    <tr>\n",
       "      <th>229889</th>\n",
       "      <td>3</td>\n",
       "      <td>you want monster sandwich that will challenge...</td>\n",
       "    </tr>\n",
       "    <tr>\n",
       "      <th>229890</th>\n",
       "      <td>5</td>\n",
       "      <td>one of my favorite luxuries ~ although its ac...</td>\n",
       "    </tr>\n",
       "    <tr>\n",
       "      <th>229891</th>\n",
       "      <td>5</td>\n",
       "      <td>first time tonight went on reccommendation of...</td>\n",
       "    </tr>\n",
       "    <tr>\n",
       "      <th>229892</th>\n",
       "      <td>4</td>\n",
       "      <td>great music fun atmosphere ! parking definite...</td>\n",
       "    </tr>\n",
       "    <tr>\n",
       "      <th>229893</th>\n",
       "      <td>4</td>\n",
       "      <td>went lunch at claim jumper let me tell you se...</td>\n",
       "    </tr>\n",
       "    <tr>\n",
       "      <th>229894</th>\n",
       "      <td>5</td>\n",
       "      <td>i have passed by yen sushi &amp; sake bar several...</td>\n",
       "    </tr>\n",
       "    <tr>\n",
       "      <th>229895</th>\n",
       "      <td>4</td>\n",
       "      <td>after reading yelp reviews i was looking forw...</td>\n",
       "    </tr>\n",
       "    <tr>\n",
       "      <th>229896</th>\n",
       "      <td>2</td>\n",
       "      <td>pros : great tasting koolaid but then again h...</td>\n",
       "    </tr>\n",
       "    <tr>\n",
       "      <th>229897</th>\n",
       "      <td>2</td>\n",
       "      <td>no we just stopped serving breakfast . only v...</td>\n",
       "    </tr>\n",
       "    <tr>\n",
       "      <th>229898</th>\n",
       "      <td>2</td>\n",
       "      <td>i have been wanting try cowboy ciao while now...</td>\n",
       "    </tr>\n",
       "    <tr>\n",
       "      <th>229899</th>\n",
       "      <td>5</td>\n",
       "      <td>los olivos great ! i am huge fan of any car w...</td>\n",
       "    </tr>\n",
       "    <tr>\n",
       "      <th>229900</th>\n",
       "      <td>1</td>\n",
       "      <td>coffee was good . i had two egg breakfast ask...</td>\n",
       "    </tr>\n",
       "    <tr>\n",
       "      <th>229901</th>\n",
       "      <td>3</td>\n",
       "      <td>im sorry this but i must admit i was pretty d...</td>\n",
       "    </tr>\n",
       "    <tr>\n",
       "      <th>229902</th>\n",
       "      <td>2</td>\n",
       "      <td>i really wanted like this place because its s...</td>\n",
       "    </tr>\n",
       "    <tr>\n",
       "      <th>229903</th>\n",
       "      <td>1</td>\n",
       "      <td>my husband i stayed here two nights . of cour...</td>\n",
       "    </tr>\n",
       "    <tr>\n",
       "      <th>229904</th>\n",
       "      <td>4</td>\n",
       "      <td>cool atmosphere . lot of beers on tap good fo...</td>\n",
       "    </tr>\n",
       "    <tr>\n",
       "      <th>229905</th>\n",
       "      <td>3</td>\n",
       "      <td>i have take star off spotty service i receive...</td>\n",
       "    </tr>\n",
       "    <tr>\n",
       "      <th>229906</th>\n",
       "      <td>5</td>\n",
       "      <td>so cool yo .</td>\n",
       "    </tr>\n",
       "  </tbody>\n",
       "</table>\n",
       "<p>229907 rows × 2 columns</p>\n",
       "</div>"
      ],
      "text/plain": [
       "        stars                                                txt\n",
       "0           5   my wife took me here on my birthday breakfast...\n",
       "1           5   i have no idea why some people give bad revie...\n",
       "2           4   love gyro plate . rice so good i also dig the...\n",
       "3           5   rosie dakota i love chaparral dog park !!! it...\n",
       "4           5   general manager scott petello good egg !!! no...\n",
       "5           4   quiessence simply put beautiful . full window...\n",
       "6           5   drop what youre doing drive here . after i at...\n",
       "7           4   luckily i didnt have travel far make my conne...\n",
       "8           4   definitely come happy hour ! prices amazing s...\n",
       "9           5   nobuo shows his unique talents with everythin...\n",
       "10          5   oldish man who owns store sweet can be . perh...\n",
       "11          5   wonderful vietnamese sandwich shoppe . their ...\n",
       "12          5   they have limited time thing going on right n...\n",
       "13          4   good tattoo shop . clean space multiple artis...\n",
       "14          4   im 000 weeks new phoenix . i looked up irish ...\n",
       "15          2   was it worth 000 $ salad small pizza ? absolu...\n",
       "16          3   we went here on saturday afternoon this place...\n",
       "17          5   okay this best place ever ! i grew up shoppin...\n",
       "18          3   i met friend lunch yesterday . loved water fe...\n",
       "19          4   theyve gotten better better me in time since ...\n",
       "20          3   dvap .... you have go at least once in your l...\n",
       "21          5   this place shouldnt even be reviewed because ...\n",
       "22          5   first time my friend i went there ... it was ...\n",
       "23          1   u can go there n check car out . if u wanna b...\n",
       "24          5   i love this place ! i have been coming here a...\n",
       "25          4   this place great . nice little ole fashion ho...\n",
       "26          5   i love love love this place . my boss who int...\n",
       "27          4   not that my review will mean much given more ...\n",
       "28          4   came here breakfast yesterday it had been yea...\n",
       "29          4   always reliably good . great beer selection w...\n",
       "...       ...                                                ...\n",
       "229877      3   i should start by saying that american mexica...\n",
       "229878      5                                    always amazing \n",
       "229879      5   by far best burger i have had in phoenix . me...\n",
       "229880      4   good tacos good service kid friendly . well d...\n",
       "229881      1   we used restaurant . com $ 000 off of $ 000 m...\n",
       "229882      5   ticoz new find us . ive been wanting go here ...\n",
       "229883      4   every now then movie comes along changes your...\n",
       "229884      1   we ate at arrowhead mall johnny rockets tonig...\n",
       "229885      3   we stayed at westin during our stay in scotts...\n",
       "229886      1   every time ive been here there problem . toda...\n",
       "229887      5   although this joint by far one of best restau...\n",
       "229888      5   this realdeal mexican food in arizona . not b...\n",
       "229889      3   you want monster sandwich that will challenge...\n",
       "229890      5   one of my favorite luxuries ~ although its ac...\n",
       "229891      5   first time tonight went on reccommendation of...\n",
       "229892      4   great music fun atmosphere ! parking definite...\n",
       "229893      4   went lunch at claim jumper let me tell you se...\n",
       "229894      5   i have passed by yen sushi & sake bar several...\n",
       "229895      4   after reading yelp reviews i was looking forw...\n",
       "229896      2   pros : great tasting koolaid but then again h...\n",
       "229897      2   no we just stopped serving breakfast . only v...\n",
       "229898      2   i have been wanting try cowboy ciao while now...\n",
       "229899      5   los olivos great ! i am huge fan of any car w...\n",
       "229900      1   coffee was good . i had two egg breakfast ask...\n",
       "229901      3   im sorry this but i must admit i was pretty d...\n",
       "229902      2   i really wanted like this place because its s...\n",
       "229903      1   my husband i stayed here two nights . of cour...\n",
       "229904      4   cool atmosphere . lot of beers on tap good fo...\n",
       "229905      3   i have take star off spotty service i receive...\n",
       "229906      5                                      so cool yo . \n",
       "\n",
       "[229907 rows x 2 columns]"
      ]
     },
     "execution_count": 17,
     "metadata": {},
     "output_type": "execute_result"
    }
   ],
   "source": [
    "train_df"
   ]
  },
  {
   "cell_type": "code",
   "execution_count": 18,
   "metadata": {
    "collapsed": false
   },
   "outputs": [
    {
     "name": "stdout",
     "output_type": "stream",
     "text": [
      "CPU times: user 15.8 s, sys: 218 ms, total: 16 s\n",
      "Wall time: 16 s\n"
     ]
    }
   ],
   "source": [
    "%time test_df = preprocess('data/yelp_review_small_set/yelp_test_set/yelp_test_set_review.json')"
   ]
  },
  {
   "cell_type": "code",
   "execution_count": 19,
   "metadata": {
    "collapsed": false,
    "scrolled": true
   },
   "outputs": [
    {
     "data": {
      "text/html": [
       "<div>\n",
       "<table border=\"1\" class=\"dataframe\">\n",
       "  <thead>\n",
       "    <tr style=\"text-align: right;\">\n",
       "      <th></th>\n",
       "      <th>stars</th>\n",
       "      <th>txt</th>\n",
       "    </tr>\n",
       "  </thead>\n",
       "  <tbody>\n",
       "    <tr>\n",
       "      <th>0</th>\n",
       "      <td>5</td>\n",
       "      <td>nice place big patio . now offering live sket...</td>\n",
       "    </tr>\n",
       "    <tr>\n",
       "      <th>1</th>\n",
       "      <td>5</td>\n",
       "      <td>friendly staff . make sure you order gyro pla...</td>\n",
       "    </tr>\n",
       "    <tr>\n",
       "      <th>2</th>\n",
       "      <td>5</td>\n",
       "      <td>love love love this place breakfast . they al...</td>\n",
       "    </tr>\n",
       "    <tr>\n",
       "      <th>3</th>\n",
       "      <td>1</td>\n",
       "      <td>disgusting sandwich . i should have known bet...</td>\n",
       "    </tr>\n",
       "    <tr>\n",
       "      <th>4</th>\n",
       "      <td>4</td>\n",
       "      <td>always fan of cafe zupas their very friendly ...</td>\n",
       "    </tr>\n",
       "    <tr>\n",
       "      <th>5</th>\n",
       "      <td>5</td>\n",
       "      <td>when i first get there i check lot see deals ...</td>\n",
       "    </tr>\n",
       "    <tr>\n",
       "      <th>6</th>\n",
       "      <td>4</td>\n",
       "      <td>great salsa especially if you mix red green t...</td>\n",
       "    </tr>\n",
       "    <tr>\n",
       "      <th>7</th>\n",
       "      <td>4</td>\n",
       "      <td>ajs unsweeted tea selection amazing ! with so...</td>\n",
       "    </tr>\n",
       "    <tr>\n",
       "      <th>8</th>\n",
       "      <td>4</td>\n",
       "      <td>i stop in here from time time with friend who...</td>\n",
       "    </tr>\n",
       "    <tr>\n",
       "      <th>9</th>\n",
       "      <td>2</td>\n",
       "      <td>ugh . i want love this place like some of my ...</td>\n",
       "    </tr>\n",
       "    <tr>\n",
       "      <th>10</th>\n",
       "      <td>1</td>\n",
       "      <td>we check secret garden from outside we though...</td>\n",
       "    </tr>\n",
       "    <tr>\n",
       "      <th>11</th>\n",
       "      <td>5</td>\n",
       "      <td>bomb again !!</td>\n",
       "    </tr>\n",
       "    <tr>\n",
       "      <th>12</th>\n",
       "      <td>5</td>\n",
       "      <td>we went thirteen north today . i tried fish t...</td>\n",
       "    </tr>\n",
       "    <tr>\n",
       "      <th>13</th>\n",
       "      <td>5</td>\n",
       "      <td>buried deep in heart seedy underbelly of incr...</td>\n",
       "    </tr>\n",
       "    <tr>\n",
       "      <th>14</th>\n",
       "      <td>2</td>\n",
       "      <td>new menu tried steak onion panini with horser...</td>\n",
       "    </tr>\n",
       "    <tr>\n",
       "      <th>15</th>\n",
       "      <td>5</td>\n",
       "      <td>big portions fresh high quality ingredients g...</td>\n",
       "    </tr>\n",
       "    <tr>\n",
       "      <th>16</th>\n",
       "      <td>5</td>\n",
       "      <td>skatepark here pretty nice it has couple of b...</td>\n",
       "    </tr>\n",
       "    <tr>\n",
       "      <th>17</th>\n",
       "      <td>4</td>\n",
       "      <td>well i went here probably week ago . i like i...</td>\n",
       "    </tr>\n",
       "    <tr>\n",
       "      <th>18</th>\n",
       "      <td>4</td>\n",
       "      <td>great sandwiches other goodies .</td>\n",
       "    </tr>\n",
       "    <tr>\n",
       "      <th>19</th>\n",
       "      <td>5</td>\n",
       "      <td>came here my bachelorette party had so much f...</td>\n",
       "    </tr>\n",
       "    <tr>\n",
       "      <th>20</th>\n",
       "      <td>1</td>\n",
       "      <td>awful experience with charlotte office . band...</td>\n",
       "    </tr>\n",
       "    <tr>\n",
       "      <th>21</th>\n",
       "      <td>1</td>\n",
       "      <td>000 palms has always been my little oasis in ...</td>\n",
       "    </tr>\n",
       "    <tr>\n",
       "      <th>22</th>\n",
       "      <td>5</td>\n",
       "      <td>we have been here few times its great every t...</td>\n",
       "    </tr>\n",
       "    <tr>\n",
       "      <th>23</th>\n",
       "      <td>3</td>\n",
       "      <td>yes food good i will say that servers overly ...</td>\n",
       "    </tr>\n",
       "    <tr>\n",
       "      <th>24</th>\n",
       "      <td>1</td>\n",
       "      <td>unsanitary unsafe extraordinarily shady disho...</td>\n",
       "    </tr>\n",
       "    <tr>\n",
       "      <th>25</th>\n",
       "      <td>5</td>\n",
       "      <td>here i am : twentysomething lady trying eat h...</td>\n",
       "    </tr>\n",
       "    <tr>\n",
       "      <th>26</th>\n",
       "      <td>5</td>\n",
       "      <td>tonight was our first time nicks diner 000 . ...</td>\n",
       "    </tr>\n",
       "    <tr>\n",
       "      <th>27</th>\n",
       "      <td>5</td>\n",
       "      <td>this great place runners pick up supplies whe...</td>\n",
       "    </tr>\n",
       "    <tr>\n",
       "      <th>28</th>\n",
       "      <td>3</td>\n",
       "      <td>i was so so so sad when i wanted place go ord...</td>\n",
       "    </tr>\n",
       "    <tr>\n",
       "      <th>29</th>\n",
       "      <td>5</td>\n",
       "      <td>after reading few reviews online i decided ma...</td>\n",
       "    </tr>\n",
       "    <tr>\n",
       "      <th>...</th>\n",
       "      <td>...</td>\n",
       "      <td>...</td>\n",
       "    </tr>\n",
       "    <tr>\n",
       "      <th>22926</th>\n",
       "      <td>4</td>\n",
       "      <td>this was first time i had ever been t . g . i...</td>\n",
       "    </tr>\n",
       "    <tr>\n",
       "      <th>22927</th>\n",
       "      <td>5</td>\n",
       "      <td>best fish tacos i had in az ! workers were re...</td>\n",
       "    </tr>\n",
       "    <tr>\n",
       "      <th>22928</th>\n",
       "      <td>5</td>\n",
       "      <td>what absolutely awesome party planning place ...</td>\n",
       "    </tr>\n",
       "    <tr>\n",
       "      <th>22929</th>\n",
       "      <td>5</td>\n",
       "      <td>excellent at very reasonable price . i order ...</td>\n",
       "    </tr>\n",
       "    <tr>\n",
       "      <th>22930</th>\n",
       "      <td>2</td>\n",
       "      <td>stopped here after hike on pinnacle due its p...</td>\n",
       "    </tr>\n",
       "    <tr>\n",
       "      <th>22931</th>\n",
       "      <td>5</td>\n",
       "      <td>friendly place great traditional american foo...</td>\n",
       "    </tr>\n",
       "    <tr>\n",
       "      <th>22932</th>\n",
       "      <td>1</td>\n",
       "      <td>i scheduled appointment with dr . he never ca...</td>\n",
       "    </tr>\n",
       "    <tr>\n",
       "      <th>22933</th>\n",
       "      <td>5</td>\n",
       "      <td>wow .... i have been oreganos many times in m...</td>\n",
       "    </tr>\n",
       "    <tr>\n",
       "      <th>22934</th>\n",
       "      <td>5</td>\n",
       "      <td>in scottsdale conference it appears that phoe...</td>\n",
       "    </tr>\n",
       "    <tr>\n",
       "      <th>22935</th>\n",
       "      <td>5</td>\n",
       "      <td>orange blossom ale best weird beer ive ever h...</td>\n",
       "    </tr>\n",
       "    <tr>\n",
       "      <th>22936</th>\n",
       "      <td>2</td>\n",
       "      <td>i like service my drinks came really fast . w...</td>\n",
       "    </tr>\n",
       "    <tr>\n",
       "      <th>22937</th>\n",
       "      <td>5</td>\n",
       "      <td>excellent place went here twice in week . tha...</td>\n",
       "    </tr>\n",
       "    <tr>\n",
       "      <th>22938</th>\n",
       "      <td>2</td>\n",
       "      <td>i really dont like giving such low stars on y...</td>\n",
       "    </tr>\n",
       "    <tr>\n",
       "      <th>22939</th>\n",
       "      <td>5</td>\n",
       "      <td>awesome food great presentation wonderful out...</td>\n",
       "    </tr>\n",
       "    <tr>\n",
       "      <th>22940</th>\n",
       "      <td>3</td>\n",
       "      <td>my boyfriend i stopped in breakfast buffet on...</td>\n",
       "    </tr>\n",
       "    <tr>\n",
       "      <th>22941</th>\n",
       "      <td>4</td>\n",
       "      <td>i will go out of my way go this hi health loc...</td>\n",
       "    </tr>\n",
       "    <tr>\n",
       "      <th>22942</th>\n",
       "      <td>4</td>\n",
       "      <td>these guys consistently do really good job su...</td>\n",
       "    </tr>\n",
       "    <tr>\n",
       "      <th>22943</th>\n",
       "      <td>4</td>\n",
       "      <td>our large family came on mothers day . we fel...</td>\n",
       "    </tr>\n",
       "    <tr>\n",
       "      <th>22944</th>\n",
       "      <td>4</td>\n",
       "      <td>i will give this place solid four stars . gre...</td>\n",
       "    </tr>\n",
       "    <tr>\n",
       "      <th>22945</th>\n",
       "      <td>5</td>\n",
       "      <td>chef laprad moved i always have been moved by...</td>\n",
       "    </tr>\n",
       "    <tr>\n",
       "      <th>22946</th>\n",
       "      <td>5</td>\n",
       "      <td>this was our 1st trip midwestern meats we wil...</td>\n",
       "    </tr>\n",
       "    <tr>\n",
       "      <th>22947</th>\n",
       "      <td>5</td>\n",
       "      <td>latest addiction triple hummus platter with a...</td>\n",
       "    </tr>\n",
       "    <tr>\n",
       "      <th>22948</th>\n",
       "      <td>3</td>\n",
       "      <td>we came here while visiting town fiesta bowl ...</td>\n",
       "    </tr>\n",
       "    <tr>\n",
       "      <th>22949</th>\n",
       "      <td>4</td>\n",
       "      <td>ok i want start off saying that this indeed 9...</td>\n",
       "    </tr>\n",
       "    <tr>\n",
       "      <th>22950</th>\n",
       "      <td>2</td>\n",
       "      <td>have had pricy glass of wine at bar one thurs...</td>\n",
       "    </tr>\n",
       "    <tr>\n",
       "      <th>22951</th>\n",
       "      <td>4</td>\n",
       "      <td>wine bar i would have expected more bytheglas...</td>\n",
       "    </tr>\n",
       "    <tr>\n",
       "      <th>22952</th>\n",
       "      <td>4</td>\n",
       "      <td>this place has awesome kimchi chigae kalbi ok...</td>\n",
       "    </tr>\n",
       "    <tr>\n",
       "      <th>22953</th>\n",
       "      <td>5</td>\n",
       "      <td>love this place ! i recently did search local...</td>\n",
       "    </tr>\n",
       "    <tr>\n",
       "      <th>22954</th>\n",
       "      <td>4</td>\n",
       "      <td>excellent ! inexpensive hot fresh food . wort...</td>\n",
       "    </tr>\n",
       "    <tr>\n",
       "      <th>22955</th>\n",
       "      <td>3</td>\n",
       "      <td>we come here often our favorite dish eat beef...</td>\n",
       "    </tr>\n",
       "  </tbody>\n",
       "</table>\n",
       "<p>22956 rows × 2 columns</p>\n",
       "</div>"
      ],
      "text/plain": [
       "       stars                                                txt\n",
       "0          5   nice place big patio . now offering live sket...\n",
       "1          5   friendly staff . make sure you order gyro pla...\n",
       "2          5   love love love this place breakfast . they al...\n",
       "3          1   disgusting sandwich . i should have known bet...\n",
       "4          4   always fan of cafe zupas their very friendly ...\n",
       "5          5   when i first get there i check lot see deals ...\n",
       "6          4   great salsa especially if you mix red green t...\n",
       "7          4   ajs unsweeted tea selection amazing ! with so...\n",
       "8          4   i stop in here from time time with friend who...\n",
       "9          2   ugh . i want love this place like some of my ...\n",
       "10         1   we check secret garden from outside we though...\n",
       "11         5                                     bomb again !! \n",
       "12         5   we went thirteen north today . i tried fish t...\n",
       "13         5   buried deep in heart seedy underbelly of incr...\n",
       "14         2   new menu tried steak onion panini with horser...\n",
       "15         5   big portions fresh high quality ingredients g...\n",
       "16         5   skatepark here pretty nice it has couple of b...\n",
       "17         4   well i went here probably week ago . i like i...\n",
       "18         4                  great sandwiches other goodies . \n",
       "19         5   came here my bachelorette party had so much f...\n",
       "20         1   awful experience with charlotte office . band...\n",
       "21         1   000 palms has always been my little oasis in ...\n",
       "22         5   we have been here few times its great every t...\n",
       "23         3   yes food good i will say that servers overly ...\n",
       "24         1   unsanitary unsafe extraordinarily shady disho...\n",
       "25         5   here i am : twentysomething lady trying eat h...\n",
       "26         5   tonight was our first time nicks diner 000 . ...\n",
       "27         5   this great place runners pick up supplies whe...\n",
       "28         3   i was so so so sad when i wanted place go ord...\n",
       "29         5   after reading few reviews online i decided ma...\n",
       "...      ...                                                ...\n",
       "22926      4   this was first time i had ever been t . g . i...\n",
       "22927      5   best fish tacos i had in az ! workers were re...\n",
       "22928      5   what absolutely awesome party planning place ...\n",
       "22929      5   excellent at very reasonable price . i order ...\n",
       "22930      2   stopped here after hike on pinnacle due its p...\n",
       "22931      5   friendly place great traditional american foo...\n",
       "22932      1   i scheduled appointment with dr . he never ca...\n",
       "22933      5   wow .... i have been oreganos many times in m...\n",
       "22934      5   in scottsdale conference it appears that phoe...\n",
       "22935      5   orange blossom ale best weird beer ive ever h...\n",
       "22936      2   i like service my drinks came really fast . w...\n",
       "22937      5   excellent place went here twice in week . tha...\n",
       "22938      2   i really dont like giving such low stars on y...\n",
       "22939      5   awesome food great presentation wonderful out...\n",
       "22940      3   my boyfriend i stopped in breakfast buffet on...\n",
       "22941      4   i will go out of my way go this hi health loc...\n",
       "22942      4   these guys consistently do really good job su...\n",
       "22943      4   our large family came on mothers day . we fel...\n",
       "22944      4   i will give this place solid four stars . gre...\n",
       "22945      5   chef laprad moved i always have been moved by...\n",
       "22946      5   this was our 1st trip midwestern meats we wil...\n",
       "22947      5   latest addiction triple hummus platter with a...\n",
       "22948      3   we came here while visiting town fiesta bowl ...\n",
       "22949      4   ok i want start off saying that this indeed 9...\n",
       "22950      2   have had pricy glass of wine at bar one thurs...\n",
       "22951      4   wine bar i would have expected more bytheglas...\n",
       "22952      4   this place has awesome kimchi chigae kalbi ok...\n",
       "22953      5   love this place ! i recently did search local...\n",
       "22954      4   excellent ! inexpensive hot fresh food . wort...\n",
       "22955      3   we come here often our favorite dish eat beef...\n",
       "\n",
       "[22956 rows x 2 columns]"
      ]
     },
     "execution_count": 19,
     "metadata": {},
     "output_type": "execute_result"
    }
   ],
   "source": [
    "test_df"
   ]
  },
  {
   "cell_type": "markdown",
   "metadata": {},
   "source": [
    "## Re-write of deepir"
   ]
  },
  {
   "cell_type": "code",
   "execution_count": 20,
   "metadata": {
    "collapsed": false
   },
   "outputs": [
    {
     "name": "stdout",
     "output_type": "stream",
     "text": [
      "Couldn't import dot_parser, loading of dot files will not be possible.\n"
     ]
    },
    {
     "name": "stderr",
     "output_type": "stream",
     "text": [
      "Using gpu device 0: Quadro K2000 (CNMeM is disabled)\n"
     ]
    }
   ],
   "source": [
    "import numpy as np\n",
    "from gensim.models import Word2Vec\n",
    "from gensim.models import Phrases\n",
    "from copy import deepcopy\n",
    "\n",
    "import warnings\n",
    "warnings.filterwarnings(\"ignore\")"
   ]
  },
  {
   "cell_type": "code",
   "execution_count": 21,
   "metadata": {
    "collapsed": true
   },
   "outputs": [],
   "source": [
    "# define a review generator\n",
    "alteos = re.compile(r'( [!\\?] )')\n",
    "\n",
    "def revsplit(l):\n",
    "    l = alteos.sub(r' \\1 . ', l).rstrip(\"( \\. )*\\n\")\n",
    "    return [s.split() for s in l.split(\" . \")]\n",
    "\n",
    "def YelpReviews(df):\n",
    "    data = []\n",
    "    for star,txt in df.values:\n",
    "        data.append([star,revsplit(txt)])\n",
    "    return pd.DataFrame(data=data,columns=['stars','txt'])"
   ]
  },
  {
   "cell_type": "code",
   "execution_count": 22,
   "metadata": {
    "collapsed": false
   },
   "outputs": [
    {
     "name": "stdout",
     "output_type": "stream",
     "text": [
      "CPU times: user 15.3 s, sys: 1.54 s, total: 16.9 s\n",
      "Wall time: 16.8 s\n"
     ]
    }
   ],
   "source": [
    "%time preprocessed_train_df = YelpReviews(train_df)"
   ]
  },
  {
   "cell_type": "code",
   "execution_count": 23,
   "metadata": {
    "collapsed": false
   },
   "outputs": [
    {
     "data": {
      "text/plain": [
       "2027394"
      ]
     },
     "execution_count": 23,
     "metadata": {},
     "output_type": "execute_result"
    }
   ],
   "source": [
    "all_sentences = [s for r in preprocessed_train_df.txt for s in r]\n",
    "len(all_sentences)"
   ]
  },
  {
   "cell_type": "raw",
   "metadata": {
    "collapsed": false
   },
   "source": [
    "reviews = {}\n",
    "reviews['neg'] = preprocessed_train_df[preprocessed_train_df['stars'].isin([1,2])].txt.values\n",
    "reviews['pos'] = preprocessed_train_df[preprocessed_train_df['stars']==5].txt.values"
   ]
  },
  {
   "cell_type": "code",
   "execution_count": 28,
   "metadata": {
    "collapsed": false
   },
   "outputs": [],
   "source": [
    "jointmodel = Word2Vec(workers=-1)\n",
    "np.random.shuffle(all_sentences)\n",
    "jointmodel.build_vocab(all_sentences)"
   ]
  },
  {
   "cell_type": "raw",
   "metadata": {
    "collapsed": true
   },
   "source": [
    "docgrp = {'neg': [1,2], 'pos': [5]} \n",
    "model = { g: deepcopy(jointmodel) for g in docgrp }"
   ]
  },
  {
   "cell_type": "code",
   "execution_count": 24,
   "metadata": {
    "collapsed": false
   },
   "outputs": [],
   "source": [
    "def trainW2V(g, T=25):\n",
    "    sent = [l for r in reviews[g] for l in r]\n",
    "    model[g].min_alpha = model[g].alpha\n",
    "    for epoch in range(T):\n",
    "        print epoch, \" \"\n",
    "        np.random.shuffle(sent)\n",
    "        model[g].train(sent)\n",
    "        model[g].alpha *= 0.9  \n",
    "        model[g].min_alpha = model[g].alpha  \n",
    "    print(\".\")"
   ]
  },
  {
   "cell_type": "raw",
   "metadata": {
    "collapsed": false,
    "scrolled": true
   },
   "source": [
    "for g in docgrp: \n",
    "    print g, \": \"\n",
    "    trainW2V( g )"
   ]
  },
  {
   "cell_type": "raw",
   "metadata": {
    "collapsed": false
   },
   "source": [
    "def nearby(word, g):\n",
    "    print(word)\n",
    "    print \"%s:\"%str(g)\n",
    "    for (w,v) in model[g].most_similar([word]):\n",
    "        print w\n",
    "    print\n",
    "    print"
   ]
  },
  {
   "cell_type": "raw",
   "metadata": {
    "collapsed": false
   },
   "source": [
    "for g in docgrp: nearby(\"food\", g)\n",
    "for g in docgrp: nearby(\"service\", g)\n",
    "for g in docgrp: nearby(\"value\", g)"
   ]
  },
  {
   "cell_type": "raw",
   "metadata": {
    "collapsed": false
   },
   "source": [
    "%time preprocessed_test_df = YelpReviews(test_df)\n",
    "testrev = {}\n",
    "testrev['neg'] = preprocessed_test_df[preprocessed_test_df['stars'].isin([1,2])].txt.values\n",
    "testrev['pos'] = preprocessed_test_df[preprocessed_test_df['stars']==5].txt.values"
   ]
  },
  {
   "cell_type": "code",
   "execution_count": 25,
   "metadata": {
    "collapsed": true
   },
   "outputs": [],
   "source": [
    "def getprobs(rev, grp,by = 'average'):\n",
    "    if by == 'average':\n",
    "        sentences =  [(i,s) for i,r in enumerate(rev) for s in r]\n",
    "        eta = pd.DataFrame(\n",
    "                { g: model[g].score([s for i,s in sentences])  \n",
    "                 for g in grp } )\n",
    "        probs = eta.subtract( eta.max('columns'), 'rows') \n",
    "        probs = np.exp( probs )\n",
    "        probs = probs.divide(probs.sum('columns'), \"rows\")\n",
    "        probs['cnt'] = 1\n",
    "        probs = probs.groupby([i for i,s in sentences]).sum()\n",
    "        probs = probs.divide(probs[\"cnt\"], 'rows').drop(\"cnt\", 1)\n",
    "    elif by == 'product':\n",
    "#         sentences =  [(i,s) for i,r in enumerate(rev) for s in r]\n",
    "#         eta = pd.DataFrame(\n",
    "#                 { g: model[g].score([s for i,s in sentences])  \n",
    "#                  for g in grp } )\n",
    "#         probs = eta.groupby([i for i,s in sentences]).sum()\n",
    "#         probs = probs.subtract( probs.max('columns'), 'rows')\n",
    "#         probs = np.exp( probs )\n",
    "#         probs = probs.divide(probs.sum('columns'), \"rows\")\n",
    "        sentences =  [(i,s) for i,r in enumerate(rev) for s in r]\n",
    "        eta = pd.DataFrame(\n",
    "                { g: model[g].score([s for i,s in sentences])  \n",
    "                 for g in grp } )\n",
    "        probs = eta.groupby([i for i,s in sentences]).sum()\n",
    "        probs = probs.subtract( probs.min('columns'), 'rows')\n",
    "        #probs = np.exp( probs )\n",
    "        probs = probs.divide(probs.sum('columns'), \"rows\")\n",
    "    return(probs)"
   ]
  },
  {
   "cell_type": "raw",
   "metadata": {
    "collapsed": false
   },
   "source": [
    "probs = {g: getprobs(testrev[g], docgrp, by='average') for g in docgrp }\n",
    "\n",
    "import matplotlib.pyplot as plt\n",
    "%matplotlib inline\n",
    "\n",
    "fig = plt.figure(figsize=(7,4))\n",
    "plt.hist(probs['neg']['pos'],normed=1,\n",
    "    color=\"red\", alpha=.6, label=\"true negative\", linewidth=1)\n",
    "plt.hist(probs['pos']['pos'],normed=1,\n",
    "    color=\"yellow\", alpha=.6, label=\"true positive\", linewidth=1)\n",
    "plt.xlim([0,1])\n",
    "plt.ylim([0,5])\n",
    "plt.legend(frameon=False, loc='upper center')\n",
    "plt.xlabel(\"prob positive\")\n",
    "plt.ylabel(\"density\")\n",
    "plt.title('Using product to compute')\n",
    "\n",
    "yhat = {g: probs[g].idxmax('columns') for g in docgrp}\n",
    "mc = pd.DataFrame({\n",
    "    'mcr': {g: (yhat[g] != g).mean() for g in docgrp},\n",
    "    'n': {g: len(testrev[g]) for g in docgrp}\n",
    "    })\n",
    "print(mc)\n",
    "\n",
    "overall = mc.product(\"columns\").sum()/mc['n'].sum()\n",
    "print(\"\\nOverall MCR: %.3f\" %overall)"
   ]
  },
  {
   "cell_type": "raw",
   "metadata": {
    "collapsed": false
   },
   "source": [
    "probs = {g: getprobs(testrev[g], docgrp, by='product') for g in docgrp }\n",
    "\n",
    "import matplotlib.pyplot as plt\n",
    "%matplotlib inline\n",
    "\n",
    "fig = plt.figure(figsize=(7,4))\n",
    "plt.hist(probs['neg']['pos'],normed=1,\n",
    "    color=\"red\", alpha=.6, label=\"true negative\", linewidth=1)\n",
    "plt.hist(probs['pos']['pos'],normed=1,\n",
    "    color=\"yellow\", alpha=.6, label=\"true positive\", linewidth=1)\n",
    "plt.xlim([0,1])\n",
    "plt.ylim([0,5])\n",
    "plt.legend(frameon=False, loc='upper center')\n",
    "plt.xlabel(\"prob positive\")\n",
    "plt.ylabel(\"density\")\n",
    "plt.title('Using product to compute')\n",
    "\n",
    "yhat = {g: probs[g].idxmax('columns') for g in docgrp}\n",
    "mc = pd.DataFrame({\n",
    "    'mcr': {g: (yhat[g] != g).mean() for g in docgrp},\n",
    "    'n': {g: len(testrev[g]) for g in docgrp}\n",
    "    })\n",
    "print(mc)\n",
    "\n",
    "overall = mc.product(\"columns\").sum()/mc['n'].sum()\n",
    "print(\"\\nOverall MCR: %.3f\" %overall)"
   ]
  },
  {
   "cell_type": "raw",
   "metadata": {
    "collapsed": false
   },
   "source": [
    "svec = np.concatenate((probs['neg']['pos'],probs['pos']['pos']), axis=0)\n",
    "allrev = [[w for s in r for w in s] for r in np.concatenate((testrev['neg'],testrev['pos']))]"
   ]
  },
  {
   "cell_type": "raw",
   "metadata": {
    "collapsed": false,
    "scrolled": true
   },
   "source": [
    "import pandas as pd\n",
    "diff = pd.Series( svec )\n",
    "tops = diff.order(ascending=False)[:5]\n",
    "print(\"TOPS\\n\")\n",
    "for i in tops.index:\n",
    "    print \" \".join(allrev[i])\n",
    "    print\n",
    "bots = diff.order()[:5]\n",
    "print(\"BOTTOMS\\n\")\n",
    "for i in bots.index:\n",
    "    print \" \".join(allrev[i])\n",
    "    print\n"
   ]
  },
  {
   "cell_type": "markdown",
   "metadata": {},
   "source": [
    "### classification by log product probability-- task c"
   ]
  },
  {
   "cell_type": "code",
   "execution_count": 26,
   "metadata": {
    "collapsed": false
   },
   "outputs": [
    {
     "data": {
      "text/plain": [
       "{'1': 1, '2': 2, '3': 3, '4': 4, '5': 5}"
      ]
     },
     "execution_count": 26,
     "metadata": {},
     "output_type": "execute_result"
    }
   ],
   "source": [
    "docgrp_fine = {str(i) : i for i in range(1,6)} \n",
    "docgrp_fine"
   ]
  },
  {
   "cell_type": "code",
   "execution_count": 29,
   "metadata": {
    "collapsed": false,
    "scrolled": true
   },
   "outputs": [
    {
     "name": "stdout",
     "output_type": "stream",
     "text": [
      "1 :\n",
      "0"
     ]
    },
    {
     "name": "stderr",
     "output_type": "stream",
     "text": [
      "WARNING:gensim.models.word2vec:supplied example count (177154) did not equal expected count (2027394)\n"
     ]
    },
    {
     "name": "stdout",
     "output_type": "stream",
     "text": [
      "  \n",
      "1"
     ]
    },
    {
     "name": "stderr",
     "output_type": "stream",
     "text": [
      "WARNING:gensim.models.word2vec:supplied example count (177154) did not equal expected count (2027394)\n"
     ]
    },
    {
     "name": "stdout",
     "output_type": "stream",
     "text": [
      "  \n",
      "2"
     ]
    },
    {
     "name": "stderr",
     "output_type": "stream",
     "text": [
      "WARNING:gensim.models.word2vec:supplied example count (177154) did not equal expected count (2027394)\n"
     ]
    },
    {
     "name": "stdout",
     "output_type": "stream",
     "text": [
      "  \n",
      "3"
     ]
    },
    {
     "name": "stderr",
     "output_type": "stream",
     "text": [
      "WARNING:gensim.models.word2vec:supplied example count (177154) did not equal expected count (2027394)\n"
     ]
    },
    {
     "name": "stdout",
     "output_type": "stream",
     "text": [
      "  \n",
      "4"
     ]
    },
    {
     "name": "stderr",
     "output_type": "stream",
     "text": [
      "WARNING:gensim.models.word2vec:supplied example count (177154) did not equal expected count (2027394)\n"
     ]
    },
    {
     "name": "stdout",
     "output_type": "stream",
     "text": [
      "  \n",
      "5"
     ]
    },
    {
     "name": "stderr",
     "output_type": "stream",
     "text": [
      "WARNING:gensim.models.word2vec:supplied example count (177154) did not equal expected count (2027394)\n"
     ]
    },
    {
     "name": "stdout",
     "output_type": "stream",
     "text": [
      "  \n",
      "6"
     ]
    },
    {
     "name": "stderr",
     "output_type": "stream",
     "text": [
      "WARNING:gensim.models.word2vec:supplied example count (177154) did not equal expected count (2027394)\n"
     ]
    },
    {
     "name": "stdout",
     "output_type": "stream",
     "text": [
      "  \n",
      "7"
     ]
    },
    {
     "name": "stderr",
     "output_type": "stream",
     "text": [
      "WARNING:gensim.models.word2vec:supplied example count (177154) did not equal expected count (2027394)\n"
     ]
    },
    {
     "name": "stdout",
     "output_type": "stream",
     "text": [
      "  \n",
      "8"
     ]
    },
    {
     "name": "stderr",
     "output_type": "stream",
     "text": [
      "WARNING:gensim.models.word2vec:supplied example count (177154) did not equal expected count (2027394)\n"
     ]
    },
    {
     "name": "stdout",
     "output_type": "stream",
     "text": [
      "  \n",
      "9"
     ]
    },
    {
     "name": "stderr",
     "output_type": "stream",
     "text": [
      "WARNING:gensim.models.word2vec:supplied example count (177154) did not equal expected count (2027394)\n"
     ]
    },
    {
     "name": "stdout",
     "output_type": "stream",
     "text": [
      "  \n",
      "10"
     ]
    },
    {
     "name": "stderr",
     "output_type": "stream",
     "text": [
      "WARNING:gensim.models.word2vec:supplied example count (177154) did not equal expected count (2027394)\n"
     ]
    },
    {
     "name": "stdout",
     "output_type": "stream",
     "text": [
      "  \n",
      "11"
     ]
    },
    {
     "name": "stderr",
     "output_type": "stream",
     "text": [
      "WARNING:gensim.models.word2vec:supplied example count (177154) did not equal expected count (2027394)\n"
     ]
    },
    {
     "name": "stdout",
     "output_type": "stream",
     "text": [
      "  \n",
      "12"
     ]
    },
    {
     "name": "stderr",
     "output_type": "stream",
     "text": [
      "WARNING:gensim.models.word2vec:supplied example count (177154) did not equal expected count (2027394)\n"
     ]
    },
    {
     "name": "stdout",
     "output_type": "stream",
     "text": [
      "  \n",
      "13"
     ]
    },
    {
     "name": "stderr",
     "output_type": "stream",
     "text": [
      "WARNING:gensim.models.word2vec:supplied example count (177154) did not equal expected count (2027394)\n"
     ]
    },
    {
     "name": "stdout",
     "output_type": "stream",
     "text": [
      "  \n",
      "14"
     ]
    },
    {
     "name": "stderr",
     "output_type": "stream",
     "text": [
      "WARNING:gensim.models.word2vec:supplied example count (177154) did not equal expected count (2027394)\n"
     ]
    },
    {
     "name": "stdout",
     "output_type": "stream",
     "text": [
      "  \n",
      "15"
     ]
    },
    {
     "name": "stderr",
     "output_type": "stream",
     "text": [
      "WARNING:gensim.models.word2vec:supplied example count (177154) did not equal expected count (2027394)\n"
     ]
    },
    {
     "name": "stdout",
     "output_type": "stream",
     "text": [
      "  \n",
      "16"
     ]
    },
    {
     "name": "stderr",
     "output_type": "stream",
     "text": [
      "WARNING:gensim.models.word2vec:supplied example count (177154) did not equal expected count (2027394)\n"
     ]
    },
    {
     "name": "stdout",
     "output_type": "stream",
     "text": [
      "  \n",
      "17"
     ]
    },
    {
     "name": "stderr",
     "output_type": "stream",
     "text": [
      "WARNING:gensim.models.word2vec:supplied example count (177154) did not equal expected count (2027394)\n"
     ]
    },
    {
     "name": "stdout",
     "output_type": "stream",
     "text": [
      "  \n",
      "18"
     ]
    },
    {
     "name": "stderr",
     "output_type": "stream",
     "text": [
      "WARNING:gensim.models.word2vec:supplied example count (177154) did not equal expected count (2027394)\n"
     ]
    },
    {
     "name": "stdout",
     "output_type": "stream",
     "text": [
      "  \n",
      "19"
     ]
    },
    {
     "name": "stderr",
     "output_type": "stream",
     "text": [
      "WARNING:gensim.models.word2vec:supplied example count (177154) did not equal expected count (2027394)\n"
     ]
    },
    {
     "name": "stdout",
     "output_type": "stream",
     "text": [
      "  \n",
      "20"
     ]
    },
    {
     "name": "stderr",
     "output_type": "stream",
     "text": [
      "WARNING:gensim.models.word2vec:supplied example count (177154) did not equal expected count (2027394)\n"
     ]
    },
    {
     "name": "stdout",
     "output_type": "stream",
     "text": [
      "  \n",
      "21"
     ]
    },
    {
     "name": "stderr",
     "output_type": "stream",
     "text": [
      "WARNING:gensim.models.word2vec:supplied example count (177154) did not equal expected count (2027394)\n"
     ]
    },
    {
     "name": "stdout",
     "output_type": "stream",
     "text": [
      "  \n",
      "22"
     ]
    },
    {
     "name": "stderr",
     "output_type": "stream",
     "text": [
      "WARNING:gensim.models.word2vec:supplied example count (177154) did not equal expected count (2027394)\n"
     ]
    },
    {
     "name": "stdout",
     "output_type": "stream",
     "text": [
      "  \n",
      "23"
     ]
    },
    {
     "name": "stderr",
     "output_type": "stream",
     "text": [
      "WARNING:gensim.models.word2vec:supplied example count (177154) did not equal expected count (2027394)\n"
     ]
    },
    {
     "name": "stdout",
     "output_type": "stream",
     "text": [
      "  \n",
      "24"
     ]
    },
    {
     "name": "stderr",
     "output_type": "stream",
     "text": [
      "WARNING:gensim.models.word2vec:supplied example count (177154) did not equal expected count (2027394)\n"
     ]
    },
    {
     "name": "stdout",
     "output_type": "stream",
     "text": [
      "  \n",
      ".\n",
      "3 :\n",
      "0"
     ]
    },
    {
     "name": "stderr",
     "output_type": "stream",
     "text": [
      "WARNING:gensim.models.word2vec:supplied example count (337542) did not equal expected count (2027394)\n"
     ]
    },
    {
     "name": "stdout",
     "output_type": "stream",
     "text": [
      "  \n",
      "1"
     ]
    },
    {
     "name": "stderr",
     "output_type": "stream",
     "text": [
      "WARNING:gensim.models.word2vec:supplied example count (337542) did not equal expected count (2027394)\n"
     ]
    },
    {
     "name": "stdout",
     "output_type": "stream",
     "text": [
      "  \n",
      "2"
     ]
    },
    {
     "name": "stderr",
     "output_type": "stream",
     "text": [
      "WARNING:gensim.models.word2vec:supplied example count (337542) did not equal expected count (2027394)\n"
     ]
    },
    {
     "name": "stdout",
     "output_type": "stream",
     "text": [
      "  \n",
      "3"
     ]
    },
    {
     "name": "stderr",
     "output_type": "stream",
     "text": [
      "WARNING:gensim.models.word2vec:supplied example count (337542) did not equal expected count (2027394)\n"
     ]
    },
    {
     "name": "stdout",
     "output_type": "stream",
     "text": [
      "  \n",
      "4"
     ]
    },
    {
     "name": "stderr",
     "output_type": "stream",
     "text": [
      "WARNING:gensim.models.word2vec:supplied example count (337542) did not equal expected count (2027394)\n"
     ]
    },
    {
     "name": "stdout",
     "output_type": "stream",
     "text": [
      "  \n",
      "5"
     ]
    },
    {
     "name": "stderr",
     "output_type": "stream",
     "text": [
      "WARNING:gensim.models.word2vec:supplied example count (337542) did not equal expected count (2027394)\n"
     ]
    },
    {
     "name": "stdout",
     "output_type": "stream",
     "text": [
      "  \n",
      "6"
     ]
    },
    {
     "name": "stderr",
     "output_type": "stream",
     "text": [
      "WARNING:gensim.models.word2vec:supplied example count (337542) did not equal expected count (2027394)\n"
     ]
    },
    {
     "name": "stdout",
     "output_type": "stream",
     "text": [
      "  \n",
      "7"
     ]
    },
    {
     "name": "stderr",
     "output_type": "stream",
     "text": [
      "WARNING:gensim.models.word2vec:supplied example count (337542) did not equal expected count (2027394)\n"
     ]
    },
    {
     "name": "stdout",
     "output_type": "stream",
     "text": [
      "  \n",
      "8"
     ]
    },
    {
     "name": "stderr",
     "output_type": "stream",
     "text": [
      "WARNING:gensim.models.word2vec:supplied example count (337542) did not equal expected count (2027394)\n"
     ]
    },
    {
     "name": "stdout",
     "output_type": "stream",
     "text": [
      "  \n",
      "9"
     ]
    },
    {
     "name": "stderr",
     "output_type": "stream",
     "text": [
      "WARNING:gensim.models.word2vec:supplied example count (337542) did not equal expected count (2027394)\n"
     ]
    },
    {
     "name": "stdout",
     "output_type": "stream",
     "text": [
      "  \n",
      "10"
     ]
    },
    {
     "name": "stderr",
     "output_type": "stream",
     "text": [
      "WARNING:gensim.models.word2vec:supplied example count (337542) did not equal expected count (2027394)\n"
     ]
    },
    {
     "name": "stdout",
     "output_type": "stream",
     "text": [
      "  \n",
      "11"
     ]
    },
    {
     "name": "stderr",
     "output_type": "stream",
     "text": [
      "WARNING:gensim.models.word2vec:supplied example count (337542) did not equal expected count (2027394)\n"
     ]
    },
    {
     "name": "stdout",
     "output_type": "stream",
     "text": [
      "  \n",
      "12"
     ]
    },
    {
     "name": "stderr",
     "output_type": "stream",
     "text": [
      "WARNING:gensim.models.word2vec:supplied example count (337542) did not equal expected count (2027394)\n"
     ]
    },
    {
     "name": "stdout",
     "output_type": "stream",
     "text": [
      "  \n",
      "13"
     ]
    },
    {
     "name": "stderr",
     "output_type": "stream",
     "text": [
      "WARNING:gensim.models.word2vec:supplied example count (337542) did not equal expected count (2027394)\n"
     ]
    },
    {
     "name": "stdout",
     "output_type": "stream",
     "text": [
      "  \n",
      "14"
     ]
    },
    {
     "name": "stderr",
     "output_type": "stream",
     "text": [
      "WARNING:gensim.models.word2vec:supplied example count (337542) did not equal expected count (2027394)\n"
     ]
    },
    {
     "name": "stdout",
     "output_type": "stream",
     "text": [
      "  \n",
      "15"
     ]
    },
    {
     "name": "stderr",
     "output_type": "stream",
     "text": [
      "WARNING:gensim.models.word2vec:supplied example count (337542) did not equal expected count (2027394)\n"
     ]
    },
    {
     "name": "stdout",
     "output_type": "stream",
     "text": [
      "  \n",
      "16"
     ]
    },
    {
     "name": "stderr",
     "output_type": "stream",
     "text": [
      "WARNING:gensim.models.word2vec:supplied example count (337542) did not equal expected count (2027394)\n"
     ]
    },
    {
     "name": "stdout",
     "output_type": "stream",
     "text": [
      "  \n",
      "17"
     ]
    },
    {
     "name": "stderr",
     "output_type": "stream",
     "text": [
      "WARNING:gensim.models.word2vec:supplied example count (337542) did not equal expected count (2027394)\n"
     ]
    },
    {
     "name": "stdout",
     "output_type": "stream",
     "text": [
      "  \n",
      "18"
     ]
    },
    {
     "name": "stderr",
     "output_type": "stream",
     "text": [
      "WARNING:gensim.models.word2vec:supplied example count (337542) did not equal expected count (2027394)\n"
     ]
    },
    {
     "name": "stdout",
     "output_type": "stream",
     "text": [
      "  \n",
      "19"
     ]
    },
    {
     "name": "stderr",
     "output_type": "stream",
     "text": [
      "WARNING:gensim.models.word2vec:supplied example count (337542) did not equal expected count (2027394)\n"
     ]
    },
    {
     "name": "stdout",
     "output_type": "stream",
     "text": [
      "  \n",
      "20"
     ]
    },
    {
     "name": "stderr",
     "output_type": "stream",
     "text": [
      "WARNING:gensim.models.word2vec:supplied example count (337542) did not equal expected count (2027394)\n"
     ]
    },
    {
     "name": "stdout",
     "output_type": "stream",
     "text": [
      "  \n",
      "21"
     ]
    },
    {
     "name": "stderr",
     "output_type": "stream",
     "text": [
      "WARNING:gensim.models.word2vec:supplied example count (337542) did not equal expected count (2027394)\n"
     ]
    },
    {
     "name": "stdout",
     "output_type": "stream",
     "text": [
      "  \n",
      "22"
     ]
    },
    {
     "name": "stderr",
     "output_type": "stream",
     "text": [
      "WARNING:gensim.models.word2vec:supplied example count (337542) did not equal expected count (2027394)\n"
     ]
    },
    {
     "name": "stdout",
     "output_type": "stream",
     "text": [
      "  \n",
      "23"
     ]
    },
    {
     "name": "stderr",
     "output_type": "stream",
     "text": [
      "WARNING:gensim.models.word2vec:supplied example count (337542) did not equal expected count (2027394)\n"
     ]
    },
    {
     "name": "stdout",
     "output_type": "stream",
     "text": [
      "  \n",
      "24"
     ]
    },
    {
     "name": "stderr",
     "output_type": "stream",
     "text": [
      "WARNING:gensim.models.word2vec:supplied example count (337542) did not equal expected count (2027394)\n"
     ]
    },
    {
     "name": "stdout",
     "output_type": "stream",
     "text": [
      "  \n",
      ".\n",
      "2 :\n",
      "0"
     ]
    },
    {
     "name": "stderr",
     "output_type": "stream",
     "text": [
      "WARNING:gensim.models.word2vec:supplied example count (219741) did not equal expected count (2027394)\n"
     ]
    },
    {
     "name": "stdout",
     "output_type": "stream",
     "text": [
      "  \n",
      "1"
     ]
    },
    {
     "name": "stderr",
     "output_type": "stream",
     "text": [
      "WARNING:gensim.models.word2vec:supplied example count (219741) did not equal expected count (2027394)\n"
     ]
    },
    {
     "name": "stdout",
     "output_type": "stream",
     "text": [
      "  \n",
      "2"
     ]
    },
    {
     "name": "stderr",
     "output_type": "stream",
     "text": [
      "WARNING:gensim.models.word2vec:supplied example count (219741) did not equal expected count (2027394)\n"
     ]
    },
    {
     "name": "stdout",
     "output_type": "stream",
     "text": [
      "  \n",
      "3"
     ]
    },
    {
     "name": "stderr",
     "output_type": "stream",
     "text": [
      "WARNING:gensim.models.word2vec:supplied example count (219741) did not equal expected count (2027394)\n"
     ]
    },
    {
     "name": "stdout",
     "output_type": "stream",
     "text": [
      "  \n",
      "4"
     ]
    },
    {
     "name": "stderr",
     "output_type": "stream",
     "text": [
      "WARNING:gensim.models.word2vec:supplied example count (219741) did not equal expected count (2027394)\n"
     ]
    },
    {
     "name": "stdout",
     "output_type": "stream",
     "text": [
      "  \n",
      "5"
     ]
    },
    {
     "name": "stderr",
     "output_type": "stream",
     "text": [
      "WARNING:gensim.models.word2vec:supplied example count (219741) did not equal expected count (2027394)\n"
     ]
    },
    {
     "name": "stdout",
     "output_type": "stream",
     "text": [
      "  \n",
      "6"
     ]
    },
    {
     "name": "stderr",
     "output_type": "stream",
     "text": [
      "WARNING:gensim.models.word2vec:supplied example count (219741) did not equal expected count (2027394)\n"
     ]
    },
    {
     "name": "stdout",
     "output_type": "stream",
     "text": [
      "  \n",
      "7"
     ]
    },
    {
     "name": "stderr",
     "output_type": "stream",
     "text": [
      "WARNING:gensim.models.word2vec:supplied example count (219741) did not equal expected count (2027394)\n"
     ]
    },
    {
     "name": "stdout",
     "output_type": "stream",
     "text": [
      "  \n",
      "8"
     ]
    },
    {
     "name": "stderr",
     "output_type": "stream",
     "text": [
      "WARNING:gensim.models.word2vec:supplied example count (219741) did not equal expected count (2027394)\n"
     ]
    },
    {
     "name": "stdout",
     "output_type": "stream",
     "text": [
      "  \n",
      "9"
     ]
    },
    {
     "name": "stderr",
     "output_type": "stream",
     "text": [
      "WARNING:gensim.models.word2vec:supplied example count (219741) did not equal expected count (2027394)\n"
     ]
    },
    {
     "name": "stdout",
     "output_type": "stream",
     "text": [
      "  \n",
      "10"
     ]
    },
    {
     "name": "stderr",
     "output_type": "stream",
     "text": [
      "WARNING:gensim.models.word2vec:supplied example count (219741) did not equal expected count (2027394)\n"
     ]
    },
    {
     "name": "stdout",
     "output_type": "stream",
     "text": [
      "  \n",
      "11"
     ]
    },
    {
     "name": "stderr",
     "output_type": "stream",
     "text": [
      "WARNING:gensim.models.word2vec:supplied example count (219741) did not equal expected count (2027394)\n"
     ]
    },
    {
     "name": "stdout",
     "output_type": "stream",
     "text": [
      "  \n",
      "12"
     ]
    },
    {
     "name": "stderr",
     "output_type": "stream",
     "text": [
      "WARNING:gensim.models.word2vec:supplied example count (219741) did not equal expected count (2027394)\n"
     ]
    },
    {
     "name": "stdout",
     "output_type": "stream",
     "text": [
      "  \n",
      "13"
     ]
    },
    {
     "name": "stderr",
     "output_type": "stream",
     "text": [
      "WARNING:gensim.models.word2vec:supplied example count (219741) did not equal expected count (2027394)\n"
     ]
    },
    {
     "name": "stdout",
     "output_type": "stream",
     "text": [
      "  \n",
      "14"
     ]
    },
    {
     "name": "stderr",
     "output_type": "stream",
     "text": [
      "WARNING:gensim.models.word2vec:supplied example count (219741) did not equal expected count (2027394)\n"
     ]
    },
    {
     "name": "stdout",
     "output_type": "stream",
     "text": [
      "  \n",
      "15"
     ]
    },
    {
     "name": "stderr",
     "output_type": "stream",
     "text": [
      "WARNING:gensim.models.word2vec:supplied example count (219741) did not equal expected count (2027394)\n"
     ]
    },
    {
     "name": "stdout",
     "output_type": "stream",
     "text": [
      "  \n",
      "16"
     ]
    },
    {
     "name": "stderr",
     "output_type": "stream",
     "text": [
      "WARNING:gensim.models.word2vec:supplied example count (219741) did not equal expected count (2027394)\n"
     ]
    },
    {
     "name": "stdout",
     "output_type": "stream",
     "text": [
      "  \n",
      "17"
     ]
    },
    {
     "name": "stderr",
     "output_type": "stream",
     "text": [
      "WARNING:gensim.models.word2vec:supplied example count (219741) did not equal expected count (2027394)\n"
     ]
    },
    {
     "name": "stdout",
     "output_type": "stream",
     "text": [
      "  \n",
      "18"
     ]
    },
    {
     "name": "stderr",
     "output_type": "stream",
     "text": [
      "WARNING:gensim.models.word2vec:supplied example count (219741) did not equal expected count (2027394)\n"
     ]
    },
    {
     "name": "stdout",
     "output_type": "stream",
     "text": [
      "  \n",
      "19"
     ]
    },
    {
     "name": "stderr",
     "output_type": "stream",
     "text": [
      "WARNING:gensim.models.word2vec:supplied example count (219741) did not equal expected count (2027394)\n"
     ]
    },
    {
     "name": "stdout",
     "output_type": "stream",
     "text": [
      "  \n",
      "20"
     ]
    },
    {
     "name": "stderr",
     "output_type": "stream",
     "text": [
      "WARNING:gensim.models.word2vec:supplied example count (219741) did not equal expected count (2027394)\n"
     ]
    },
    {
     "name": "stdout",
     "output_type": "stream",
     "text": [
      "  \n",
      "21"
     ]
    },
    {
     "name": "stderr",
     "output_type": "stream",
     "text": [
      "WARNING:gensim.models.word2vec:supplied example count (219741) did not equal expected count (2027394)\n"
     ]
    },
    {
     "name": "stdout",
     "output_type": "stream",
     "text": [
      "  \n",
      "22"
     ]
    },
    {
     "name": "stderr",
     "output_type": "stream",
     "text": [
      "WARNING:gensim.models.word2vec:supplied example count (219741) did not equal expected count (2027394)\n"
     ]
    },
    {
     "name": "stdout",
     "output_type": "stream",
     "text": [
      "  \n",
      "23"
     ]
    },
    {
     "name": "stderr",
     "output_type": "stream",
     "text": [
      "WARNING:gensim.models.word2vec:supplied example count (219741) did not equal expected count (2027394)\n"
     ]
    },
    {
     "name": "stdout",
     "output_type": "stream",
     "text": [
      "  \n",
      "24"
     ]
    },
    {
     "name": "stderr",
     "output_type": "stream",
     "text": [
      "WARNING:gensim.models.word2vec:supplied example count (219741) did not equal expected count (2027394)\n"
     ]
    },
    {
     "name": "stdout",
     "output_type": "stream",
     "text": [
      "  \n",
      ".\n",
      "5 :\n",
      "0"
     ]
    },
    {
     "name": "stderr",
     "output_type": "stream",
     "text": [
      "WARNING:gensim.models.word2vec:supplied example count (607791) did not equal expected count (2027394)\n"
     ]
    },
    {
     "name": "stdout",
     "output_type": "stream",
     "text": [
      "  \n",
      "1"
     ]
    },
    {
     "name": "stderr",
     "output_type": "stream",
     "text": [
      "WARNING:gensim.models.word2vec:supplied example count (607791) did not equal expected count (2027394)\n"
     ]
    },
    {
     "name": "stdout",
     "output_type": "stream",
     "text": [
      "  \n",
      "2"
     ]
    },
    {
     "name": "stderr",
     "output_type": "stream",
     "text": [
      "WARNING:gensim.models.word2vec:supplied example count (607791) did not equal expected count (2027394)\n"
     ]
    },
    {
     "name": "stdout",
     "output_type": "stream",
     "text": [
      "  \n",
      "3"
     ]
    },
    {
     "name": "stderr",
     "output_type": "stream",
     "text": [
      "WARNING:gensim.models.word2vec:supplied example count (607791) did not equal expected count (2027394)\n"
     ]
    },
    {
     "name": "stdout",
     "output_type": "stream",
     "text": [
      "  \n",
      "4"
     ]
    },
    {
     "name": "stderr",
     "output_type": "stream",
     "text": [
      "WARNING:gensim.models.word2vec:supplied example count (607791) did not equal expected count (2027394)\n"
     ]
    },
    {
     "name": "stdout",
     "output_type": "stream",
     "text": [
      "  \n",
      "5"
     ]
    },
    {
     "name": "stderr",
     "output_type": "stream",
     "text": [
      "WARNING:gensim.models.word2vec:supplied example count (607791) did not equal expected count (2027394)\n"
     ]
    },
    {
     "name": "stdout",
     "output_type": "stream",
     "text": [
      "  \n",
      "6"
     ]
    },
    {
     "name": "stderr",
     "output_type": "stream",
     "text": [
      "WARNING:gensim.models.word2vec:supplied example count (607791) did not equal expected count (2027394)\n"
     ]
    },
    {
     "name": "stdout",
     "output_type": "stream",
     "text": [
      "  \n",
      "7"
     ]
    },
    {
     "name": "stderr",
     "output_type": "stream",
     "text": [
      "WARNING:gensim.models.word2vec:supplied example count (607791) did not equal expected count (2027394)\n"
     ]
    },
    {
     "name": "stdout",
     "output_type": "stream",
     "text": [
      "  \n",
      "8"
     ]
    },
    {
     "name": "stderr",
     "output_type": "stream",
     "text": [
      "WARNING:gensim.models.word2vec:supplied example count (607791) did not equal expected count (2027394)\n"
     ]
    },
    {
     "name": "stdout",
     "output_type": "stream",
     "text": [
      "  \n",
      "9"
     ]
    },
    {
     "name": "stderr",
     "output_type": "stream",
     "text": [
      "WARNING:gensim.models.word2vec:supplied example count (607791) did not equal expected count (2027394)\n"
     ]
    },
    {
     "name": "stdout",
     "output_type": "stream",
     "text": [
      "  \n",
      "10"
     ]
    },
    {
     "name": "stderr",
     "output_type": "stream",
     "text": [
      "WARNING:gensim.models.word2vec:supplied example count (607791) did not equal expected count (2027394)\n"
     ]
    },
    {
     "name": "stdout",
     "output_type": "stream",
     "text": [
      "  \n",
      "11"
     ]
    },
    {
     "name": "stderr",
     "output_type": "stream",
     "text": [
      "WARNING:gensim.models.word2vec:supplied example count (607791) did not equal expected count (2027394)\n"
     ]
    },
    {
     "name": "stdout",
     "output_type": "stream",
     "text": [
      "  \n",
      "12"
     ]
    },
    {
     "name": "stderr",
     "output_type": "stream",
     "text": [
      "WARNING:gensim.models.word2vec:supplied example count (607791) did not equal expected count (2027394)\n"
     ]
    },
    {
     "name": "stdout",
     "output_type": "stream",
     "text": [
      "  \n",
      "13"
     ]
    },
    {
     "name": "stderr",
     "output_type": "stream",
     "text": [
      "WARNING:gensim.models.word2vec:supplied example count (607791) did not equal expected count (2027394)\n"
     ]
    },
    {
     "name": "stdout",
     "output_type": "stream",
     "text": [
      "  \n",
      "14"
     ]
    },
    {
     "name": "stderr",
     "output_type": "stream",
     "text": [
      "WARNING:gensim.models.word2vec:supplied example count (607791) did not equal expected count (2027394)\n"
     ]
    },
    {
     "name": "stdout",
     "output_type": "stream",
     "text": [
      "  \n",
      "15"
     ]
    },
    {
     "name": "stderr",
     "output_type": "stream",
     "text": [
      "WARNING:gensim.models.word2vec:supplied example count (607791) did not equal expected count (2027394)\n"
     ]
    },
    {
     "name": "stdout",
     "output_type": "stream",
     "text": [
      "  \n",
      "16"
     ]
    },
    {
     "name": "stderr",
     "output_type": "stream",
     "text": [
      "WARNING:gensim.models.word2vec:supplied example count (607791) did not equal expected count (2027394)\n"
     ]
    },
    {
     "name": "stdout",
     "output_type": "stream",
     "text": [
      "  \n",
      "17"
     ]
    },
    {
     "name": "stderr",
     "output_type": "stream",
     "text": [
      "WARNING:gensim.models.word2vec:supplied example count (607791) did not equal expected count (2027394)\n"
     ]
    },
    {
     "name": "stdout",
     "output_type": "stream",
     "text": [
      "  \n",
      "18"
     ]
    },
    {
     "name": "stderr",
     "output_type": "stream",
     "text": [
      "WARNING:gensim.models.word2vec:supplied example count (607791) did not equal expected count (2027394)\n"
     ]
    },
    {
     "name": "stdout",
     "output_type": "stream",
     "text": [
      "  \n",
      "19"
     ]
    },
    {
     "name": "stderr",
     "output_type": "stream",
     "text": [
      "WARNING:gensim.models.word2vec:supplied example count (607791) did not equal expected count (2027394)\n"
     ]
    },
    {
     "name": "stdout",
     "output_type": "stream",
     "text": [
      "  \n",
      "20"
     ]
    },
    {
     "name": "stderr",
     "output_type": "stream",
     "text": [
      "WARNING:gensim.models.word2vec:supplied example count (607791) did not equal expected count (2027394)\n"
     ]
    },
    {
     "name": "stdout",
     "output_type": "stream",
     "text": [
      "  \n",
      "21"
     ]
    },
    {
     "name": "stderr",
     "output_type": "stream",
     "text": [
      "WARNING:gensim.models.word2vec:supplied example count (607791) did not equal expected count (2027394)\n"
     ]
    },
    {
     "name": "stdout",
     "output_type": "stream",
     "text": [
      "  \n",
      "22"
     ]
    },
    {
     "name": "stderr",
     "output_type": "stream",
     "text": [
      "WARNING:gensim.models.word2vec:supplied example count (607791) did not equal expected count (2027394)\n"
     ]
    },
    {
     "name": "stdout",
     "output_type": "stream",
     "text": [
      "  \n",
      "23"
     ]
    },
    {
     "name": "stderr",
     "output_type": "stream",
     "text": [
      "WARNING:gensim.models.word2vec:supplied example count (607791) did not equal expected count (2027394)\n"
     ]
    },
    {
     "name": "stdout",
     "output_type": "stream",
     "text": [
      "  \n",
      "24"
     ]
    },
    {
     "name": "stderr",
     "output_type": "stream",
     "text": [
      "WARNING:gensim.models.word2vec:supplied example count (607791) did not equal expected count (2027394)\n"
     ]
    },
    {
     "name": "stdout",
     "output_type": "stream",
     "text": [
      "  \n",
      ".\n",
      "4 :\n",
      "0"
     ]
    },
    {
     "name": "stderr",
     "output_type": "stream",
     "text": [
      "WARNING:gensim.models.word2vec:supplied example count (685166) did not equal expected count (2027394)\n"
     ]
    },
    {
     "name": "stdout",
     "output_type": "stream",
     "text": [
      "  \n",
      "1"
     ]
    },
    {
     "name": "stderr",
     "output_type": "stream",
     "text": [
      "WARNING:gensim.models.word2vec:supplied example count (685166) did not equal expected count (2027394)\n"
     ]
    },
    {
     "name": "stdout",
     "output_type": "stream",
     "text": [
      "  \n",
      "2"
     ]
    },
    {
     "name": "stderr",
     "output_type": "stream",
     "text": [
      "WARNING:gensim.models.word2vec:supplied example count (685166) did not equal expected count (2027394)\n"
     ]
    },
    {
     "name": "stdout",
     "output_type": "stream",
     "text": [
      "  \n",
      "3"
     ]
    },
    {
     "name": "stderr",
     "output_type": "stream",
     "text": [
      "WARNING:gensim.models.word2vec:supplied example count (685166) did not equal expected count (2027394)\n"
     ]
    },
    {
     "name": "stdout",
     "output_type": "stream",
     "text": [
      "  \n",
      "4"
     ]
    },
    {
     "name": "stderr",
     "output_type": "stream",
     "text": [
      "WARNING:gensim.models.word2vec:supplied example count (685166) did not equal expected count (2027394)\n"
     ]
    },
    {
     "name": "stdout",
     "output_type": "stream",
     "text": [
      "  \n",
      "5"
     ]
    },
    {
     "name": "stderr",
     "output_type": "stream",
     "text": [
      "WARNING:gensim.models.word2vec:supplied example count (685166) did not equal expected count (2027394)\n"
     ]
    },
    {
     "name": "stdout",
     "output_type": "stream",
     "text": [
      "  \n",
      "6"
     ]
    },
    {
     "name": "stderr",
     "output_type": "stream",
     "text": [
      "WARNING:gensim.models.word2vec:supplied example count (685166) did not equal expected count (2027394)\n"
     ]
    },
    {
     "name": "stdout",
     "output_type": "stream",
     "text": [
      "  \n",
      "7"
     ]
    },
    {
     "name": "stderr",
     "output_type": "stream",
     "text": [
      "WARNING:gensim.models.word2vec:supplied example count (685166) did not equal expected count (2027394)\n"
     ]
    },
    {
     "name": "stdout",
     "output_type": "stream",
     "text": [
      "  \n",
      "8"
     ]
    },
    {
     "name": "stderr",
     "output_type": "stream",
     "text": [
      "WARNING:gensim.models.word2vec:supplied example count (685166) did not equal expected count (2027394)\n"
     ]
    },
    {
     "name": "stdout",
     "output_type": "stream",
     "text": [
      "  \n",
      "9"
     ]
    },
    {
     "name": "stderr",
     "output_type": "stream",
     "text": [
      "WARNING:gensim.models.word2vec:supplied example count (685166) did not equal expected count (2027394)\n"
     ]
    },
    {
     "name": "stdout",
     "output_type": "stream",
     "text": [
      "  \n",
      "10"
     ]
    },
    {
     "name": "stderr",
     "output_type": "stream",
     "text": [
      "WARNING:gensim.models.word2vec:supplied example count (685166) did not equal expected count (2027394)\n"
     ]
    },
    {
     "name": "stdout",
     "output_type": "stream",
     "text": [
      "  \n",
      "11"
     ]
    },
    {
     "name": "stderr",
     "output_type": "stream",
     "text": [
      "WARNING:gensim.models.word2vec:supplied example count (685166) did not equal expected count (2027394)\n"
     ]
    },
    {
     "name": "stdout",
     "output_type": "stream",
     "text": [
      "  \n",
      "12"
     ]
    },
    {
     "name": "stderr",
     "output_type": "stream",
     "text": [
      "WARNING:gensim.models.word2vec:supplied example count (685166) did not equal expected count (2027394)\n"
     ]
    },
    {
     "name": "stdout",
     "output_type": "stream",
     "text": [
      "  \n",
      "13"
     ]
    },
    {
     "name": "stderr",
     "output_type": "stream",
     "text": [
      "WARNING:gensim.models.word2vec:supplied example count (685166) did not equal expected count (2027394)\n"
     ]
    },
    {
     "name": "stdout",
     "output_type": "stream",
     "text": [
      "  \n",
      "14"
     ]
    },
    {
     "name": "stderr",
     "output_type": "stream",
     "text": [
      "WARNING:gensim.models.word2vec:supplied example count (685166) did not equal expected count (2027394)\n"
     ]
    },
    {
     "name": "stdout",
     "output_type": "stream",
     "text": [
      "  \n",
      "15"
     ]
    },
    {
     "name": "stderr",
     "output_type": "stream",
     "text": [
      "WARNING:gensim.models.word2vec:supplied example count (685166) did not equal expected count (2027394)\n"
     ]
    },
    {
     "name": "stdout",
     "output_type": "stream",
     "text": [
      "  \n",
      "16"
     ]
    },
    {
     "name": "stderr",
     "output_type": "stream",
     "text": [
      "WARNING:gensim.models.word2vec:supplied example count (685166) did not equal expected count (2027394)\n"
     ]
    },
    {
     "name": "stdout",
     "output_type": "stream",
     "text": [
      "  \n",
      "17"
     ]
    },
    {
     "name": "stderr",
     "output_type": "stream",
     "text": [
      "WARNING:gensim.models.word2vec:supplied example count (685166) did not equal expected count (2027394)\n"
     ]
    },
    {
     "name": "stdout",
     "output_type": "stream",
     "text": [
      "  \n",
      "18"
     ]
    },
    {
     "name": "stderr",
     "output_type": "stream",
     "text": [
      "WARNING:gensim.models.word2vec:supplied example count (685166) did not equal expected count (2027394)\n"
     ]
    },
    {
     "name": "stdout",
     "output_type": "stream",
     "text": [
      "  \n",
      "19"
     ]
    },
    {
     "name": "stderr",
     "output_type": "stream",
     "text": [
      "WARNING:gensim.models.word2vec:supplied example count (685166) did not equal expected count (2027394)\n"
     ]
    },
    {
     "name": "stdout",
     "output_type": "stream",
     "text": [
      "  \n",
      "20"
     ]
    },
    {
     "name": "stderr",
     "output_type": "stream",
     "text": [
      "WARNING:gensim.models.word2vec:supplied example count (685166) did not equal expected count (2027394)\n"
     ]
    },
    {
     "name": "stdout",
     "output_type": "stream",
     "text": [
      "  \n",
      "21"
     ]
    },
    {
     "name": "stderr",
     "output_type": "stream",
     "text": [
      "WARNING:gensim.models.word2vec:supplied example count (685166) did not equal expected count (2027394)\n"
     ]
    },
    {
     "name": "stdout",
     "output_type": "stream",
     "text": [
      "  \n",
      "22"
     ]
    },
    {
     "name": "stderr",
     "output_type": "stream",
     "text": [
      "WARNING:gensim.models.word2vec:supplied example count (685166) did not equal expected count (2027394)\n"
     ]
    },
    {
     "name": "stdout",
     "output_type": "stream",
     "text": [
      "  \n",
      "23"
     ]
    },
    {
     "name": "stderr",
     "output_type": "stream",
     "text": [
      "WARNING:gensim.models.word2vec:supplied example count (685166) did not equal expected count (2027394)\n"
     ]
    },
    {
     "name": "stdout",
     "output_type": "stream",
     "text": [
      "  \n",
      "24"
     ]
    },
    {
     "name": "stderr",
     "output_type": "stream",
     "text": [
      "WARNING:gensim.models.word2vec:supplied example count (685166) did not equal expected count (2027394)\n"
     ]
    },
    {
     "name": "stdout",
     "output_type": "stream",
     "text": [
      "  \n",
      ".\n"
     ]
    }
   ],
   "source": [
    "model = {}\n",
    "reviews = {}\n",
    "model = { g: deepcopy(jointmodel) for g in docgrp_fine }\n",
    "for g in docgrp_fine:\n",
    "    print g, \":\"\n",
    "    reviews[g] = preprocessed_train_df[preprocessed_train_df['stars']==docgrp_fine[g]].txt\n",
    "    model[g] = deepcopy(jointmodel)\n",
    "    trainW2V( g,T=25 )"
   ]
  },
  {
   "cell_type": "code",
   "execution_count": 30,
   "metadata": {
    "collapsed": false
   },
   "outputs": [
    {
     "name": "stdout",
     "output_type": "stream",
     "text": [
      "CPU times: user 1.19 s, sys: 192 ms, total: 1.38 s\n",
      "Wall time: 1.29 s\n",
      "        mcr     n\n",
      "1  0.253782  2380\n",
      "2  0.656082  2047\n",
      "3  0.640576  2849\n",
      "4  0.550923  6883\n",
      "5  0.264408  8797\n",
      "\n",
      "Overall Fine-Scale MCR: 0.431\n"
     ]
    }
   ],
   "source": [
    "## by average 25 iterations\n",
    "%time preprocessed_test_df = YelpReviews(test_df)\n",
    "testrev = {}\n",
    "probs = {}\n",
    "yhat = {}\n",
    "for g in docgrp_fine:\n",
    "    testrev[g] =  preprocessed_test_df[preprocessed_test_df['stars']==docgrp_fine[g]].txt.values\n",
    "    probs[g] = getprobs(testrev[g], docgrp_fine)\n",
    "    yhat[g] = probs[g].idxmax(\"columns\")\n",
    "\n",
    "mc_fine = pd.DataFrame({\n",
    "    'mcr': {g: (yhat[g] != g).mean() for g in docgrp_fine},\n",
    "    'n': {g: len(testrev[g]) for g in docgrp_fine}\n",
    "    })\n",
    "print(mc_fine)\n",
    "\n",
    "ntest = mc_fine['n'].sum()\n",
    "overall_fine = mc_fine.product(\"columns\").sum()/ntest\n",
    "print(\"\\nOverall Fine-Scale MCR: %.3f\" %overall_fine)"
   ]
  },
  {
   "cell_type": "code",
   "execution_count": 31,
   "metadata": {
    "collapsed": false,
    "scrolled": true
   },
   "outputs": [
    {
     "name": "stdout",
     "output_type": "stream",
     "text": [
      "        mcr     n\n",
      "1  0.301681  2380\n",
      "2  0.606742  2047\n",
      "3  0.595648  2849\n",
      "4  0.462880  6883\n",
      "5  0.316585  8797\n",
      "\n",
      "Overall Fine-Scale MCR: 0.419\n"
     ]
    }
   ],
   "source": [
    "## by product 25 iterations\n",
    "for g in docgrp_fine:\n",
    "    testrev[g] =  preprocessed_test_df[preprocessed_test_df['stars']==docgrp_fine[g]].txt.values\n",
    "    probs[g] = getprobs(testrev[g], docgrp_fine, by='product')\n",
    "    yhat[g] = probs[g].idxmax(\"columns\")\n",
    "\n",
    "mc_fine = pd.DataFrame({\n",
    "    'mcr': {g: (yhat[g] != g).mean() for g in docgrp_fine},\n",
    "    'n': {g: len(testrev[g]) for g in docgrp_fine}\n",
    "    })\n",
    "print(mc_fine)\n",
    "\n",
    "ntest = mc_fine['n'].sum()\n",
    "overall_fine = mc_fine.product(\"columns\").sum()/ntest\n",
    "print(\"\\nOverall Fine-Scale MCR: %.3f\" %overall_fine)"
   ]
  },
  {
   "cell_type": "code",
   "execution_count": 43,
   "metadata": {
    "collapsed": false
   },
   "outputs": [],
   "source": [
    "groups = ['1','2','3','4','5']\n",
    "prediction_a = getprobs(preprocessed_test_df.txt.values,groups)\n",
    "prediction_a['label'] = pd.Series(preprocessed_test_df.stars.values,index=prediction_a.index)\n",
    "prediction_a['prediction'] = pd.Series(prediction_a[groups].idxmax('columns').values,index=prediction_a.index).astype(np.float64)\n",
    "prediction_a['txt'] = pd.Series(preprocessed_test_df.txt.values,index=prediction_a.index)\n",
    "\n",
    "\n",
    "prediction_p = getprobs(preprocessed_test_df.txt.values,groups,by='product')\n",
    "prediction_p['label'] = pd.Series(preprocessed_test_df.stars.values,index=prediction_p.index)\n",
    "prediction_p['prediction'] = pd.Series(prediction_p[groups].idxmax('columns').values,index=prediction_p.index).astype(np.float64)\n",
    "prediction_p['txt'] = pd.Series(preprocessed_test_df.txt.values,index=prediction_p.index)"
   ]
  },
  {
   "cell_type": "code",
   "execution_count": 44,
   "metadata": {
    "collapsed": false
   },
   "outputs": [
    {
     "data": {
      "text/plain": [
       "array([[1776,  636,  327,  297,  383],\n",
       "       [ 386,  704,  385,  158,   72],\n",
       "       [ 104,  479, 1024,  841,  200],\n",
       "       [  43,  137,  782, 3091, 1671],\n",
       "       [  71,   91,  331, 2496, 6471]])"
      ]
     },
     "execution_count": 44,
     "metadata": {},
     "output_type": "execute_result"
    }
   ],
   "source": [
    "from sklearn.metrics import confusion_matrix\n",
    "confusion_matrix(prediction_a.prediction.values,prediction_a.label.values)"
   ]
  },
  {
   "cell_type": "code",
   "execution_count": 45,
   "metadata": {
    "collapsed": false
   },
   "outputs": [
    {
     "data": {
      "text/plain": [
       "array([[   0,    9,    4,    3,    4,    9],\n",
       "       [   0, 1662,  458,  227,  196,  321],\n",
       "       [   0,  497,  805,  408,  152,   60],\n",
       "       [   0,  119,  573, 1152,  901,  183],\n",
       "       [   0,   45,  154,  831, 3697, 2212],\n",
       "       [   0,   48,   53,  228, 1933, 6012]])"
      ]
     },
     "execution_count": 45,
     "metadata": {},
     "output_type": "execute_result"
    }
   ],
   "source": [
    "confusion_matrix(prediction_p.prediction.values.astype(np.int),prediction_p.label.values)"
   ]
  },
  {
   "cell_type": "code",
   "execution_count": null,
   "metadata": {
    "collapsed": true
   },
   "outputs": [],
   "source": []
  }
 ],
 "metadata": {
  "kernelspec": {
   "display_name": "Python 2",
   "language": "python",
   "name": "python2"
  },
  "language_info": {
   "codemirror_mode": {
    "name": "ipython",
    "version": 2
   },
   "file_extension": ".py",
   "mimetype": "text/x-python",
   "name": "python",
   "nbconvert_exporter": "python",
   "pygments_lexer": "ipython2",
   "version": "2.7.6"
  }
 },
 "nbformat": 4,
 "nbformat_minor": 0
}
