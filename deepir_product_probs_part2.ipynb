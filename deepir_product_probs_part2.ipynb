{
 "cells": [
  {
   "cell_type": "markdown",
   "metadata": {},
   "source": [
    "# 2. Moview Review dataset\n",
    "### The data is based on [plority dataset v2.0](http://www.cs.cornell.edu/people/pabo/movie-review-data/mix20_rand700_tokens_cleaned.zip)"
   ]
  },
  {
   "cell_type": "code",
   "execution_count": 1,
   "metadata": {
    "collapsed": true
   },
   "outputs": [],
   "source": [
    "from glob import glob\n",
    "import re\n",
    "import pandas as pd\n",
    "\n",
    "# all non alphanumeric\n",
    "contractions = re.compile(r\"'|-\")\n",
    "symbols = re.compile(r'(\\W+)', re.U)\n",
    "numeric = re.compile(r'(?<=\\s)(\\d+|\\w\\d+|\\d+\\w)(?=\\s)', re.I)\n",
    "swrd = re.compile(r'(?<=\\s)(,|\"|\\(|\\)|to|a|as|the|an|and|or|for|are|is)(?=\\s)', re.I)\n",
    "suffix = re.compile(r'(?<=\\w)(s|ings*|ly|(?<=e)[sd]+)(?=\\s)')\n",
    "seps = re.compile(r'\\s+')\n",
    "\n",
    "# cleaner (order matters)\n",
    "def clean(text): \n",
    "    text = u' ' +  text.lower() + u' '\n",
    "    text = contractions.sub('', text)\n",
    "    text = symbols.sub(r' \\1 ', text)\n",
    "    text = numeric.sub('000', text)\n",
    "    text = swrd.sub(' ', text)\n",
    "    #text = suffix.sub('', text)\n",
    "    text = seps.sub(' ', text)\n",
    "    return text\n",
    "\n",
    "def preprocess(f_dir):\n",
    "    data = []\n",
    "    for f in glob(f_dir + '*/*.txt'):\n",
    "        d = open(f,'r').read()\n",
    "        lab = f.split('/')[-2]\n",
    "        txt = clean(d)\n",
    "        data.append([lab,txt])\n",
    "    return pd.DataFrame(data=data,columns=['label','txt'])"
   ]
  },
  {
   "cell_type": "code",
   "execution_count": null,
   "metadata": {
    "collapsed": false
   },
   "outputs": [],
   "source": [
    "df = preprocess('data/review_polarity/txt_sentoken/')\n",
    "from sklearn.cross_validation import train_test_split\n",
    "train_ind, test_ind = train_test_split(df.index.tolist(),test_size=0.3)\n",
    "train_df = df.iloc[train_ind]\n",
    "test_df = df.iloc[test_ind]"
   ]
  },
  {
   "cell_type": "markdown",
   "metadata": {},
   "source": [
    "## Deepir"
   ]
  },
  {
   "cell_type": "code",
   "execution_count": 17,
   "metadata": {
    "collapsed": false
   },
   "outputs": [
    {
     "name": "stdout",
     "output_type": "stream",
     "text": [
      "Couldn't import dot_parser, loading of dot files will not be possible.\n"
     ]
    }
   ],
   "source": [
    "import numpy as np\n",
    "from gensim.models import Word2Vec\n",
    "from gensim.models import Phrases\n",
    "from copy import deepcopy\n",
    "\n",
    "import warnings\n",
    "warnings.filterwarnings(\"ignore\")"
   ]
  },
  {
   "cell_type": "code",
   "execution_count": 20,
   "metadata": {
    "collapsed": true
   },
   "outputs": [],
   "source": [
    "# define a review generator\n",
    "alteos = re.compile(r'( [!\\?] )')\n",
    "\n",
    "def revsplit(l):\n",
    "    l = alteos.sub(r' \\1 . ', l).rstrip(\"( \\. )*\\n\")\n",
    "    return [s.split() for s in l.split(\" . \")]\n",
    "\n",
    "def Reviews(df):\n",
    "    data = []\n",
    "    for lab,txt in df.values:\n",
    "        data.append([lab,revsplit(txt)])\n",
    "    return pd.DataFrame(data=data,columns=['label','txt'])"
   ]
  },
  {
   "cell_type": "code",
   "execution_count": 21,
   "metadata": {
    "collapsed": false
   },
   "outputs": [
    {
     "name": "stdout",
     "output_type": "stream",
     "text": [
      "CPU times: user 196 ms, sys: 24 ms, total: 220 ms\n",
      "Wall time: 212 ms\n"
     ]
    },
    {
     "data": {
      "text/plain": [
       "47935"
      ]
     },
     "execution_count": 21,
     "metadata": {},
     "output_type": "execute_result"
    }
   ],
   "source": [
    "%time preprocessed_train_df = Reviews(train_df)\n",
    "all_sentences = [s for r in preprocessed_train_df.txt for s in r]\n",
    "len(all_sentences)"
   ]
  },
  {
   "cell_type": "code",
   "execution_count": 22,
   "metadata": {
    "collapsed": true
   },
   "outputs": [],
   "source": [
    "jointmodel = Word2Vec(workers=16)\n",
    "np.random.shuffle(all_sentences)\n",
    "jointmodel.build_vocab(all_sentences)"
   ]
  },
  {
   "cell_type": "code",
   "execution_count": 29,
   "metadata": {
    "collapsed": false
   },
   "outputs": [],
   "source": [
    "docgrp = {'neg': 'neg', 'pos': 'pos'} \n",
    "model = { g: deepcopy(jointmodel) for g in docgrp }\n",
    "\n",
    "reviews = {}\n",
    "reviews['neg'] = preprocessed_train_df[preprocessed_train_df['label'] == 'neg'].txt.values\n",
    "reviews['pos'] = preprocessed_train_df[preprocessed_train_df['label']=='pos'].txt.values"
   ]
  },
  {
   "cell_type": "code",
   "execution_count": 30,
   "metadata": {
    "collapsed": true
   },
   "outputs": [],
   "source": [
    "def trainW2V(g, T=20):\n",
    "    sent = [l for r in reviews[g] for l in r]\n",
    "    model[g].min_alpha = model[g].alpha\n",
    "    for epoch in range(T):\n",
    "        print epoch, \" \"\n",
    "        np.random.shuffle(sent)\n",
    "        model[g].train(sent)\n",
    "        model[g].alpha *= 0.9  \n",
    "        model[g].min_alpha = model[g].alpha  \n",
    "    print(\".\")"
   ]
  },
  {
   "cell_type": "code",
   "execution_count": 31,
   "metadata": {
    "collapsed": false
   },
   "outputs": [
    {
     "name": "stderr",
     "output_type": "stream",
     "text": [
      "WARNING:gensim.models.word2vec:supplied example count (23487) did not equal expected count (47935)\n"
     ]
    },
    {
     "name": "stdout",
     "output_type": "stream",
     "text": [
      "neg : \n",
      "0  \n",
      "1"
     ]
    },
    {
     "name": "stderr",
     "output_type": "stream",
     "text": [
      "WARNING:gensim.models.word2vec:supplied example count (23487) did not equal expected count (47935)\n"
     ]
    },
    {
     "name": "stdout",
     "output_type": "stream",
     "text": [
      "  \n",
      "2"
     ]
    },
    {
     "name": "stderr",
     "output_type": "stream",
     "text": [
      "WARNING:gensim.models.word2vec:supplied example count (23487) did not equal expected count (47935)\n"
     ]
    },
    {
     "name": "stdout",
     "output_type": "stream",
     "text": [
      "  \n",
      "3"
     ]
    },
    {
     "name": "stderr",
     "output_type": "stream",
     "text": [
      "WARNING:gensim.models.word2vec:supplied example count (23487) did not equal expected count (47935)\n"
     ]
    },
    {
     "name": "stdout",
     "output_type": "stream",
     "text": [
      "  \n",
      "4"
     ]
    },
    {
     "name": "stderr",
     "output_type": "stream",
     "text": [
      "WARNING:gensim.models.word2vec:supplied example count (23487) did not equal expected count (47935)\n"
     ]
    },
    {
     "name": "stdout",
     "output_type": "stream",
     "text": [
      "  \n",
      "5"
     ]
    },
    {
     "name": "stderr",
     "output_type": "stream",
     "text": [
      "WARNING:gensim.models.word2vec:supplied example count (23487) did not equal expected count (47935)\n"
     ]
    },
    {
     "name": "stdout",
     "output_type": "stream",
     "text": [
      "  \n",
      "6"
     ]
    },
    {
     "name": "stderr",
     "output_type": "stream",
     "text": [
      "WARNING:gensim.models.word2vec:supplied example count (23487) did not equal expected count (47935)\n"
     ]
    },
    {
     "name": "stdout",
     "output_type": "stream",
     "text": [
      "  \n",
      "7"
     ]
    },
    {
     "name": "stderr",
     "output_type": "stream",
     "text": [
      "WARNING:gensim.models.word2vec:supplied example count (23487) did not equal expected count (47935)\n"
     ]
    },
    {
     "name": "stdout",
     "output_type": "stream",
     "text": [
      "  \n",
      "8"
     ]
    },
    {
     "name": "stderr",
     "output_type": "stream",
     "text": [
      "WARNING:gensim.models.word2vec:supplied example count (23487) did not equal expected count (47935)\n"
     ]
    },
    {
     "name": "stdout",
     "output_type": "stream",
     "text": [
      "  \n",
      "9"
     ]
    },
    {
     "name": "stderr",
     "output_type": "stream",
     "text": [
      "WARNING:gensim.models.word2vec:supplied example count (23487) did not equal expected count (47935)\n"
     ]
    },
    {
     "name": "stdout",
     "output_type": "stream",
     "text": [
      "  \n",
      "10"
     ]
    },
    {
     "name": "stderr",
     "output_type": "stream",
     "text": [
      "WARNING:gensim.models.word2vec:supplied example count (23487) did not equal expected count (47935)\n"
     ]
    },
    {
     "name": "stdout",
     "output_type": "stream",
     "text": [
      "  \n",
      "11"
     ]
    },
    {
     "name": "stderr",
     "output_type": "stream",
     "text": [
      "WARNING:gensim.models.word2vec:supplied example count (23487) did not equal expected count (47935)\n"
     ]
    },
    {
     "name": "stdout",
     "output_type": "stream",
     "text": [
      "  \n",
      "12"
     ]
    },
    {
     "name": "stderr",
     "output_type": "stream",
     "text": [
      "WARNING:gensim.models.word2vec:supplied example count (23487) did not equal expected count (47935)\n"
     ]
    },
    {
     "name": "stdout",
     "output_type": "stream",
     "text": [
      "  \n",
      "13"
     ]
    },
    {
     "name": "stderr",
     "output_type": "stream",
     "text": [
      "WARNING:gensim.models.word2vec:supplied example count (23487) did not equal expected count (47935)\n"
     ]
    },
    {
     "name": "stdout",
     "output_type": "stream",
     "text": [
      "  \n",
      "14"
     ]
    },
    {
     "name": "stderr",
     "output_type": "stream",
     "text": [
      "WARNING:gensim.models.word2vec:supplied example count (23487) did not equal expected count (47935)\n"
     ]
    },
    {
     "name": "stdout",
     "output_type": "stream",
     "text": [
      "  \n",
      "15"
     ]
    },
    {
     "name": "stderr",
     "output_type": "stream",
     "text": [
      "WARNING:gensim.models.word2vec:supplied example count (23487) did not equal expected count (47935)\n"
     ]
    },
    {
     "name": "stdout",
     "output_type": "stream",
     "text": [
      "  \n",
      "16"
     ]
    },
    {
     "name": "stderr",
     "output_type": "stream",
     "text": [
      "WARNING:gensim.models.word2vec:supplied example count (23487) did not equal expected count (47935)\n"
     ]
    },
    {
     "name": "stdout",
     "output_type": "stream",
     "text": [
      "  \n",
      "17"
     ]
    },
    {
     "name": "stderr",
     "output_type": "stream",
     "text": [
      "WARNING:gensim.models.word2vec:supplied example count (23487) did not equal expected count (47935)\n"
     ]
    },
    {
     "name": "stdout",
     "output_type": "stream",
     "text": [
      "  \n",
      "18"
     ]
    },
    {
     "name": "stderr",
     "output_type": "stream",
     "text": [
      "WARNING:gensim.models.word2vec:supplied example count (23487) did not equal expected count (47935)\n"
     ]
    },
    {
     "name": "stdout",
     "output_type": "stream",
     "text": [
      "  \n",
      "19"
     ]
    },
    {
     "name": "stderr",
     "output_type": "stream",
     "text": [
      "WARNING:gensim.models.word2vec:supplied example count (23487) did not equal expected count (47935)\n"
     ]
    },
    {
     "name": "stdout",
     "output_type": "stream",
     "text": [
      "  \n",
      "."
     ]
    },
    {
     "name": "stderr",
     "output_type": "stream",
     "text": [
      "WARNING:gensim.models.word2vec:supplied example count (24448) did not equal expected count (47935)\n"
     ]
    },
    {
     "name": "stdout",
     "output_type": "stream",
     "text": [
      "\n",
      "pos : \n",
      "0  \n",
      "1"
     ]
    },
    {
     "name": "stderr",
     "output_type": "stream",
     "text": [
      "WARNING:gensim.models.word2vec:supplied example count (24448) did not equal expected count (47935)\n"
     ]
    },
    {
     "name": "stdout",
     "output_type": "stream",
     "text": [
      "  \n",
      "2"
     ]
    },
    {
     "name": "stderr",
     "output_type": "stream",
     "text": [
      "WARNING:gensim.models.word2vec:supplied example count (24448) did not equal expected count (47935)\n"
     ]
    },
    {
     "name": "stdout",
     "output_type": "stream",
     "text": [
      "  \n",
      "3"
     ]
    },
    {
     "name": "stderr",
     "output_type": "stream",
     "text": [
      "WARNING:gensim.models.word2vec:supplied example count (24448) did not equal expected count (47935)\n"
     ]
    },
    {
     "name": "stdout",
     "output_type": "stream",
     "text": [
      "  \n",
      "4"
     ]
    },
    {
     "name": "stderr",
     "output_type": "stream",
     "text": [
      "WARNING:gensim.models.word2vec:supplied example count (24448) did not equal expected count (47935)\n"
     ]
    },
    {
     "name": "stdout",
     "output_type": "stream",
     "text": [
      "  \n",
      "5"
     ]
    },
    {
     "name": "stderr",
     "output_type": "stream",
     "text": [
      "WARNING:gensim.models.word2vec:supplied example count (24448) did not equal expected count (47935)\n"
     ]
    },
    {
     "name": "stdout",
     "output_type": "stream",
     "text": [
      "  \n",
      "6"
     ]
    },
    {
     "name": "stderr",
     "output_type": "stream",
     "text": [
      "WARNING:gensim.models.word2vec:supplied example count (24448) did not equal expected count (47935)\n"
     ]
    },
    {
     "name": "stdout",
     "output_type": "stream",
     "text": [
      "  \n",
      "7"
     ]
    },
    {
     "name": "stderr",
     "output_type": "stream",
     "text": [
      "WARNING:gensim.models.word2vec:supplied example count (24448) did not equal expected count (47935)\n"
     ]
    },
    {
     "name": "stdout",
     "output_type": "stream",
     "text": [
      "  \n",
      "8"
     ]
    },
    {
     "name": "stderr",
     "output_type": "stream",
     "text": [
      "WARNING:gensim.models.word2vec:supplied example count (24448) did not equal expected count (47935)\n"
     ]
    },
    {
     "name": "stdout",
     "output_type": "stream",
     "text": [
      "  \n",
      "9"
     ]
    },
    {
     "name": "stderr",
     "output_type": "stream",
     "text": [
      "WARNING:gensim.models.word2vec:supplied example count (24448) did not equal expected count (47935)\n"
     ]
    },
    {
     "name": "stdout",
     "output_type": "stream",
     "text": [
      "  \n",
      "10"
     ]
    },
    {
     "name": "stderr",
     "output_type": "stream",
     "text": [
      "WARNING:gensim.models.word2vec:supplied example count (24448) did not equal expected count (47935)\n"
     ]
    },
    {
     "name": "stdout",
     "output_type": "stream",
     "text": [
      "  \n",
      "11"
     ]
    },
    {
     "name": "stderr",
     "output_type": "stream",
     "text": [
      "WARNING:gensim.models.word2vec:supplied example count (24448) did not equal expected count (47935)\n"
     ]
    },
    {
     "name": "stdout",
     "output_type": "stream",
     "text": [
      "  \n",
      "12"
     ]
    },
    {
     "name": "stderr",
     "output_type": "stream",
     "text": [
      "WARNING:gensim.models.word2vec:supplied example count (24448) did not equal expected count (47935)\n"
     ]
    },
    {
     "name": "stdout",
     "output_type": "stream",
     "text": [
      "  \n",
      "13"
     ]
    },
    {
     "name": "stderr",
     "output_type": "stream",
     "text": [
      "WARNING:gensim.models.word2vec:supplied example count (24448) did not equal expected count (47935)\n"
     ]
    },
    {
     "name": "stdout",
     "output_type": "stream",
     "text": [
      "  \n",
      "14"
     ]
    },
    {
     "name": "stderr",
     "output_type": "stream",
     "text": [
      "WARNING:gensim.models.word2vec:supplied example count (24448) did not equal expected count (47935)\n"
     ]
    },
    {
     "name": "stdout",
     "output_type": "stream",
     "text": [
      "  \n",
      "15"
     ]
    },
    {
     "name": "stderr",
     "output_type": "stream",
     "text": [
      "WARNING:gensim.models.word2vec:supplied example count (24448) did not equal expected count (47935)\n"
     ]
    },
    {
     "name": "stdout",
     "output_type": "stream",
     "text": [
      "  \n",
      "16"
     ]
    },
    {
     "name": "stderr",
     "output_type": "stream",
     "text": [
      "WARNING:gensim.models.word2vec:supplied example count (24448) did not equal expected count (47935)\n"
     ]
    },
    {
     "name": "stdout",
     "output_type": "stream",
     "text": [
      "  \n",
      "17"
     ]
    },
    {
     "name": "stderr",
     "output_type": "stream",
     "text": [
      "WARNING:gensim.models.word2vec:supplied example count (24448) did not equal expected count (47935)\n"
     ]
    },
    {
     "name": "stdout",
     "output_type": "stream",
     "text": [
      "  \n",
      "18"
     ]
    },
    {
     "name": "stderr",
     "output_type": "stream",
     "text": [
      "WARNING:gensim.models.word2vec:supplied example count (24448) did not equal expected count (47935)\n"
     ]
    },
    {
     "name": "stdout",
     "output_type": "stream",
     "text": [
      "  \n",
      "19"
     ]
    },
    {
     "name": "stderr",
     "output_type": "stream",
     "text": [
      "WARNING:gensim.models.word2vec:supplied example count (24448) did not equal expected count (47935)\n"
     ]
    },
    {
     "name": "stdout",
     "output_type": "stream",
     "text": [
      "  \n",
      ".\n"
     ]
    }
   ],
   "source": [
    "for g in docgrp: \n",
    "    print g, \": \"\n",
    "    trainW2V( g )"
   ]
  },
  {
   "cell_type": "code",
   "execution_count": 32,
   "metadata": {
    "collapsed": false
   },
   "outputs": [
    {
     "name": "stdout",
     "output_type": "stream",
     "text": [
      "CPU times: user 136 ms, sys: 4 ms, total: 140 ms\n",
      "Wall time: 134 ms\n"
     ]
    }
   ],
   "source": [
    "%time preprocessed_test_df = Reviews(test_df)\n",
    "testrev = {}\n",
    "testrev['neg'] = preprocessed_test_df[preprocessed_test_df['label'] == 'neg'].txt.values\n",
    "testrev['pos'] = preprocessed_test_df[preprocessed_test_df['label']=='pos'].txt.values"
   ]
  },
  {
   "cell_type": "code",
   "execution_count": 33,
   "metadata": {
    "collapsed": true
   },
   "outputs": [],
   "source": [
    "def getprobs(rev, grp,by = 'average'):\n",
    "    if by == 'average':\n",
    "        sentences =  [(i,s) for i,r in enumerate(rev) for s in r]\n",
    "        eta = pd.DataFrame(\n",
    "                { g: model[g].score([s for i,s in sentences])  \n",
    "                 for g in grp } )\n",
    "        probs = eta.subtract( eta.max('columns'), 'rows') \n",
    "        probs = np.exp( probs )\n",
    "        probs = probs.divide(probs.sum('columns'), \"rows\")\n",
    "        probs['cnt'] = 1\n",
    "        probs = probs.groupby([i for i,s in sentences]).sum()\n",
    "        probs = probs.divide(probs[\"cnt\"], 'rows').drop(\"cnt\", 1)\n",
    "    elif by == 'product':\n",
    "        sentences =  [(i,s) for i,r in enumerate(rev) for s in r]\n",
    "        eta = pd.DataFrame(\n",
    "                { g: model[g].score([s for i,s in sentences])  \n",
    "                 for g in grp } )\n",
    "        probs = eta.groupby([i for i,s in sentences]).sum()\n",
    "        probs = probs.subtract( probs.max('columns'), 'rows')\n",
    "        probs = np.exp( probs )\n",
    "        probs = probs.divide(probs.sum('columns'), \"rows\")\n",
    "    return(probs)"
   ]
  },
  {
   "cell_type": "code",
   "execution_count": 34,
   "metadata": {
    "collapsed": false
   },
   "outputs": [
    {
     "name": "stdout",
     "output_type": "stream",
     "text": [
      "          mcr    n\n",
      "neg  0.182410  307\n",
      "pos  0.187713  293\n",
      "\n",
      "Overall MCR: 0.185\n"
     ]
    },
    {
     "data": {
      "image/png": "[encoded data removed]",
      "text/plain": [
       "<matplotlib.figure.Figure at 0x7fb3c2b659d0>"
      ]
     },
     "metadata": {},
     "output_type": "display_data"
    }
   ],
   "source": [
    "## by average\n",
    "probs = {g: getprobs(testrev[g], docgrp, by='average') for g in docgrp }\n",
    "\n",
    "import matplotlib.pyplot as plt\n",
    "%matplotlib inline\n",
    "\n",
    "fig = plt.figure(figsize=(7,4))\n",
    "plt.hist(probs['neg']['pos'],normed=1,\n",
    "    color=\"red\", alpha=.6, label=\"true negative\", linewidth=1)\n",
    "plt.hist(probs['pos']['pos'],normed=1,\n",
    "    color=\"yellow\", alpha=.6, label=\"true positive\", linewidth=1)\n",
    "plt.xlim([0,1])\n",
    "plt.ylim([0,5])\n",
    "plt.legend(frameon=False, loc='upper center')\n",
    "plt.xlabel(\"prob positive\")\n",
    "plt.ylabel(\"density\")\n",
    "plt.title('Using product to compute')\n",
    "\n",
    "yhat = {g: probs[g].idxmax('columns') for g in docgrp}\n",
    "mc = pd.DataFrame({\n",
    "    'mcr': {g: (yhat[g] != g).mean() for g in docgrp},\n",
    "    'n': {g: len(testrev[g]) for g in docgrp}\n",
    "    })\n",
    "print(mc)\n",
    "\n",
    "overall = mc.product(\"columns\").sum()/mc['n'].sum()\n",
    "print(\"\\nOverall MCR: %.3f\" %overall)"
   ]
  },
  {
   "cell_type": "code",
   "execution_count": 35,
   "metadata": {
    "collapsed": false
   },
   "outputs": [
    {
     "name": "stdout",
     "output_type": "stream",
     "text": [
      "          mcr    n\n",
      "neg  0.185668  307\n",
      "pos  0.146758  293\n",
      "\n",
      "Overall MCR: 0.167\n"
     ]
    },
    {
     "data": {
      "image/png": "[encoded data removed]",
      "text/plain": [
       "<matplotlib.figure.Figure at 0x7fb3c26c2090>"
      ]
     },
     "metadata": {},
     "output_type": "display_data"
    }
   ],
   "source": [
    "## by product\n",
    "probs = {g: getprobs(testrev[g], docgrp, by='product') for g in docgrp }\n",
    "\n",
    "import matplotlib.pyplot as plt\n",
    "%matplotlib inline\n",
    "\n",
    "fig = plt.figure(figsize=(7,4))\n",
    "plt.hist(probs['neg']['pos'],normed=1,\n",
    "    color=\"red\", alpha=.6, label=\"true negative\", linewidth=1)\n",
    "plt.hist(probs['pos']['pos'],normed=1,\n",
    "    color=\"yellow\", alpha=.6, label=\"true positive\", linewidth=1)\n",
    "plt.xlim([0,1])\n",
    "plt.ylim([0,5])\n",
    "plt.legend(frameon=False, loc='upper center')\n",
    "plt.xlabel(\"prob positive\")\n",
    "plt.ylabel(\"density\")\n",
    "plt.title('Using product to compute')\n",
    "\n",
    "yhat = {g: probs[g].idxmax('columns') for g in docgrp}\n",
    "mc = pd.DataFrame({\n",
    "    'mcr': {g: (yhat[g] != g).mean() for g in docgrp},\n",
    "    'n': {g: len(testrev[g]) for g in docgrp}\n",
    "    })\n",
    "print(mc)\n",
    "\n",
    "overall = mc.product(\"columns\").sum()/mc['n'].sum()\n",
    "print(\"\\nOverall MCR: %.3f\" %overall)"
   ]
  },
  {
   "cell_type": "code",
   "execution_count": null,
   "metadata": {
    "collapsed": true
   },
   "outputs": [],
   "source": []
  }
 ],
 "metadata": {
  "kernelspec": {
   "display_name": "Python 2",
   "language": "python",
   "name": "python2"
  },
  "language_info": {
   "codemirror_mode": {
    "name": "ipython",
    "version": 2
   },
   "file_extension": ".py",
   "mimetype": "text/x-python",
   "name": "python",
   "nbconvert_exporter": "python",
   "pygments_lexer": "ipython2",
   "version": "2.7.9"
  }
 },
 "nbformat": 4,
 "nbformat_minor": 0
}
