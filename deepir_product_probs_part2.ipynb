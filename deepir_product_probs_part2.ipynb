{
 "cells": [
  {
   "cell_type": "markdown",
   "metadata": {},
   "source": [
    "# 2. Moview Review dataset\n",
    "### The data is based on [plority dataset v2.0](http://www.cs.cornell.edu/people/pabo/movie-review-data/mix20_rand700_tokens_cleaned.zip)"
   ]
  },
  {
   "cell_type": "code",
   "execution_count": 1,
   "metadata": {
    "collapsed": true
   },
   "outputs": [],
   "source": [
    "import sys\n",
    "reload(sys) \n",
    "sys.setdefaultencoding('Latin-1')"
   ]
  },
  {
   "cell_type": "code",
   "execution_count": 2,
   "metadata": {
    "collapsed": true
   },
   "outputs": [],
   "source": [
    "from glob import glob\n",
    "import re\n",
    "import pandas as pd\n",
    "\n",
    "# all non alphanumeric\n",
    "contractions = re.compile(r\"'|-\")\n",
    "symbols = re.compile(r'(\\W+)', re.U)\n",
    "numeric = re.compile(r'(?<=\\s)(\\d+|\\w\\d+|\\d+\\w)(?=\\s)', re.I)\n",
    "swrd = re.compile(r'(?<=\\s)(,|\"|\\(|\\)|to|a|as|the|an|and|or|for|are|is)(?=\\s)', re.I)\n",
    "suffix = re.compile(r'(?<=\\w)(s|ings*|ly|(?<=e)[sd]+)(?=\\s)')\n",
    "seps = re.compile(r'\\s+')\n",
    "\n",
    "# cleaner (order matters)\n",
    "def clean(text): \n",
    "    text = u' ' +  text.lower() + u' '\n",
    "    text = contractions.sub('', text)\n",
    "    text = symbols.sub(r' \\1 ', text)\n",
    "    text = numeric.sub('000', text)\n",
    "    text = swrd.sub(' ', text)\n",
    "    #text = suffix.sub('', text)\n",
    "    text = seps.sub(' ', text)\n",
    "    return text\n",
    "\n",
    "def preprocess(f_dir):\n",
    "    data = []\n",
    "    for f in glob(f_dir + '*/*.txt'):\n",
    "        d = open(f,'r').read()\n",
    "        lab = f.split('/')[-2]\n",
    "        txt = clean(d)\n",
    "        data.append([lab,txt])\n",
    "    return pd.DataFrame(data=data,columns=['label','txt'])"
   ]
  },
  {
   "cell_type": "code",
   "execution_count": 3,
   "metadata": {
    "collapsed": false
   },
   "outputs": [],
   "source": [
    "df = preprocess('data/mix20_rand700_tokens_cleaned/tokens/')\n",
    "from sklearn.cross_validation import train_test_split\n",
    "train_ind, test_ind = train_test_split(df.index.tolist(),test_size=0.3)\n",
    "train_df = df.iloc[train_ind]\n",
    "test_df = df.iloc[test_ind]"
   ]
  },
  {
   "cell_type": "markdown",
   "metadata": {},
   "source": [
    "## Deepir"
   ]
  },
  {
   "cell_type": "code",
   "execution_count": 4,
   "metadata": {
    "collapsed": false
   },
   "outputs": [],
   "source": [
    "import numpy as np\n",
    "from gensim.models import Word2Vec\n",
    "from gensim.models import Phrases\n",
    "from copy import deepcopy\n",
    "\n",
    "import warnings\n",
    "warnings.filterwarnings(\"ignore\")"
   ]
  },
  {
   "cell_type": "code",
   "execution_count": 5,
   "metadata": {
    "collapsed": true
   },
   "outputs": [],
   "source": [
    "# define a review generator\n",
    "alteos = re.compile(r'( [!\\?] )')\n",
    "\n",
    "def revsplit(l):\n",
    "    l = alteos.sub(r' \\1 . ', l).rstrip(\"( \\. )*\\n\")\n",
    "    return [s.split() for s in l.split(\" . \")]\n",
    "\n",
    "def Reviews(df):\n",
    "    data = []\n",
    "    for lab,txt in df.values:\n",
    "        data.append([lab,revsplit(txt)])\n",
    "    return pd.DataFrame(data=data,columns=['label','txt'])"
   ]
  },
  {
   "cell_type": "code",
   "execution_count": 6,
   "metadata": {
    "collapsed": false
   },
   "outputs": [
    {
     "data": {
      "text/plain": [
       "34964"
      ]
     },
     "execution_count": 6,
     "metadata": {},
     "output_type": "execute_result"
    }
   ],
   "source": [
    "%time preprocessed_train_df = Reviews(train_df)\n",
    "all_sentences = [s for r in preprocessed_train_df.txt for s in r]\n",
    "len(all_sentences)"
   ]
  },
  {
   "cell_type": "code",
   "execution_count": 7,
   "metadata": {
    "collapsed": true
   },
   "outputs": [],
   "source": [
    "jointmodel = Word2Vec(workers=16)\n",
    "np.random.shuffle(all_sentences)\n",
    "jointmodel.build_vocab(all_sentences)"
   ]
  },
  {
   "cell_type": "code",
   "execution_count": 8,
   "metadata": {
    "collapsed": false
   },
   "outputs": [],
   "source": [
    "docgrp = {'neg': 'neg', 'pos': 'pos'} \n",
    "model = { g: deepcopy(jointmodel) for g in docgrp }\n",
    "\n",
    "reviews = {}\n",
    "reviews['neg'] = preprocessed_train_df[preprocessed_train_df['label'] == 'neg'].txt.values\n",
    "reviews['pos'] = preprocessed_train_df[preprocessed_train_df['label']=='pos'].txt.values"
   ]
  },
  {
   "cell_type": "code",
   "execution_count": 9,
   "metadata": {
    "collapsed": true
   },
   "outputs": [],
   "source": [
    "def trainW2V(g, T=25):\n",
    "    sent = [l for r in reviews[g] for l in r]\n",
    "    model[g].min_alpha = model[g].alpha\n",
    "    for epoch in range(T):\n",
    "        print epoch, \" \"\n",
    "        np.random.shuffle(sent)\n",
    "        model[g].train(sent)\n",
    "        model[g].alpha *= 0.9  \n",
    "        model[g].min_alpha = model[g].alpha  \n",
    "    print(\".\")"
   ]
  },
  {
   "cell_type": "code",
   "execution_count": 10,
   "metadata": {
    "collapsed": false
   },
   "outputs": [],
   "source": [
    "for g in docgrp: \n",
    "    print g, \": \"\n",
    "    trainW2V( g )"
   ]
  },
  {
   "cell_type": "code",
   "execution_count": 11,
   "metadata": {
    "collapsed": false
   },
   "outputs": [],
   "source": [
    "%time preprocessed_test_df = Reviews(test_df)\n",
    "testrev = {}\n",
    "testrev['neg'] = preprocessed_test_df[preprocessed_test_df['label'] == 'neg'].txt.values\n",
    "testrev['pos'] = preprocessed_test_df[preprocessed_test_df['label']=='pos'].txt.values"
   ]
  },
  {
   "cell_type": "code",
   "execution_count": null,
   "metadata": {
    "collapsed": false
   },
   "outputs": [],
   "source": []
  },
  {
   "cell_type": "code",
   "execution_count": 13,
   "metadata": {
    "collapsed": true
   },
   "outputs": [],
   "source": [
    "def getprobs(rev, grp,by = 'average'):\n",
    "    if by == 'average':\n",
    "        sentences =  [(i,s) for i,r in enumerate(rev) for s in r]\n",
    "        eta = pd.DataFrame(\n",
    "                { g: model[g].score([s for i,s in sentences])  \n",
    "                 for g in grp } )\n",
    "        probs = eta.subtract( eta.max('columns'), 'rows') \n",
    "        probs = np.exp( probs )\n",
    "        probs = probs.divide(probs.sum('columns'), \"rows\")\n",
    "        probs['cnt'] = 1\n",
    "        probs = probs.groupby([i for i,s in sentences]).sum()\n",
    "        probs = probs.divide(probs[\"cnt\"], 'rows').drop(\"cnt\", 1)\n",
    "    elif by == 'product':\n",
    "#         sentences =  [(i,s) for i,r in enumerate(rev) for s in r]\n",
    "#         eta = pd.DataFrame(\n",
    "#                 { g: model[g].score([s for i,s in sentences])  \n",
    "#                  for g in grp } )\n",
    "#         probs = eta.groupby([i for i,s in sentences]).sum()\n",
    "#         probs = probs.subtract( probs.max('columns'), 'rows')\n",
    "#         probs = np.exp( probs )\n",
    "#         probs = probs.divide(probs.sum('columns'), \"rows\")\n",
    "        sentences =  [(i,s) for i,r in enumerate(rev) for s in r]\n",
    "        eta = pd.DataFrame(\n",
    "                { g: model[g].score([s for i,s in sentences])  \n",
    "                 for g in grp } )\n",
    "        probs = eta.groupby([i for i,s in sentences]).sum()\n",
    "        probs = probs.subtract( probs.min('columns'), 'rows')\n",
    "        #probs = np.exp( probs )\n",
    "        probs = probs.divide(probs.sum('columns'), \"rows\")\n",
    "    return(probs)"
   ]
  },
  {
   "cell_type": "code",
   "execution_count": 14,
   "metadata": {
    "collapsed": false,
    "scrolled": false
   },
   "outputs": [
    {
     "data": {
      "text/plain": [
       "'\\nOverall MCR: 0.190'"
      ]
     },
     "execution_count": 14,
     "metadata": {},
     "output_type": "execute_result"
    },
    {
     "data": {
      "image/png": "[encoded data removed]",
      "text/plain": [
       "<matplotlib.figure.Figure at 0x7f384cafca50>"
      ]
     },
     "metadata": {},
     "output_type": "display_data"
    }
   ],
   "source": [
    "## by average\n",
    "probs = {g: getprobs(testrev[g], docgrp, by='average') for g in docgrp }\n",
    "\n",
    "import matplotlib.pyplot as plt\n",
    "%matplotlib inline\n",
    "\n",
    "fig = plt.figure(figsize=(7,4))\n",
    "plt.hist(probs['neg']['pos'],normed=1,\n",
    "    color=\"red\", alpha=.6, label=\"true negative\", linewidth=1)\n",
    "plt.hist(probs['pos']['pos'],normed=1,\n",
    "    color=\"yellow\", alpha=.6, label=\"true positive\", linewidth=1)\n",
    "plt.xlim([0,1])\n",
    "plt.ylim([0,5])\n",
    "plt.legend(frameon=False, loc='upper center')\n",
    "plt.xlabel(\"prob positive\")\n",
    "plt.ylabel(\"density\")\n",
    "plt.title('Using product to compute')\n",
    "\n",
    "yhat = {g: probs[g].idxmax('columns') for g in docgrp}\n",
    "mc = pd.DataFrame({\n",
    "    'mcr': {g: (yhat[g] != g).mean() for g in docgrp},\n",
    "    'n': {g: len(testrev[g]) for g in docgrp}\n",
    "    })\n",
    "print(mc)\n",
    "\n",
    "overall = mc.product(\"columns\").sum()/mc['n'].sum()\n",
    "\"\\nOverall MCR: %.3f\" %overall"
   ]
  },
  {
   "cell_type": "code",
   "execution_count": 18,
   "metadata": {
    "collapsed": false
   },
   "outputs": [
    {
     "data": {
      "text/html": [
       "<div>\n",
       "<table border=\"1\" class=\"dataframe\">\n",
       "  <thead>\n",
       "    <tr style=\"text-align: right;\">\n",
       "      <th></th>\n",
       "      <th>mcr</th>\n",
       "      <th>n</th>\n",
       "    </tr>\n",
       "  </thead>\n",
       "  <tbody>\n",
       "    <tr>\n",
       "      <th>neg</th>\n",
       "      <td>0.242857</td>\n",
       "      <td>210</td>\n",
       "    </tr>\n",
       "    <tr>\n",
       "      <th>pos</th>\n",
       "      <td>0.157143</td>\n",
       "      <td>210</td>\n",
       "    </tr>\n",
       "  </tbody>\n",
       "</table>\n",
       "</div>"
      ],
      "text/plain": [
       "          mcr    n\n",
       "neg  0.242857  210\n",
       "pos  0.157143  210"
      ]
     },
     "execution_count": 18,
     "metadata": {},
     "output_type": "execute_result"
    }
   ],
   "source": [
    "mc"
   ]
  },
  {
   "cell_type": "code",
   "execution_count": 15,
   "metadata": {
    "collapsed": false,
    "scrolled": false
   },
   "outputs": [
    {
     "data": {
      "text/plain": [
       "'\\nOverall MCR: 0.200'"
      ]
     },
     "execution_count": 15,
     "metadata": {},
     "output_type": "execute_result"
    },
    {
     "data": {
      "image/png": "[encoded data removed]",
      "text/plain": [
       "<matplotlib.figure.Figure at 0x7f384d53d750>"
      ]
     },
     "metadata": {},
     "output_type": "display_data"
    }
   ],
   "source": [
    "## by product\n",
    "probs = {g: getprobs(testrev[g], docgrp, by='product') for g in docgrp }\n",
    "\n",
    "import matplotlib.pyplot as plt\n",
    "%matplotlib inline\n",
    "\n",
    "fig = plt.figure(figsize=(7,4))\n",
    "plt.hist(probs['neg']['pos'],normed=1,\n",
    "    color=\"red\", alpha=.6, label=\"true negative\", linewidth=1)\n",
    "plt.hist(probs['pos']['pos'],normed=1,\n",
    "    color=\"yellow\", alpha=.6, label=\"true positive\", linewidth=1)\n",
    "plt.xlim([0,1])\n",
    "plt.ylim([0,5])\n",
    "plt.legend(frameon=False, loc='upper center')\n",
    "plt.xlabel(\"prob positive\")\n",
    "plt.ylabel(\"density\")\n",
    "plt.title('Using product to compute')\n",
    "\n",
    "yhat = {g: probs[g].idxmax('columns') for g in docgrp}\n",
    "mc = pd.DataFrame({\n",
    "    'mcr': {g: (yhat[g] != g).mean() for g in docgrp},\n",
    "    'n': {g: len(testrev[g]) for g in docgrp}\n",
    "    })\n",
    "print(mc)\n",
    "\n",
    "overall = mc.product(\"columns\").sum()/mc['n'].sum()\n",
    "\"\\nOverall MCR: %.3f\" %overall"
   ]
  },
  {
   "cell_type": "code",
   "execution_count": 19,
   "metadata": {
    "collapsed": false
   },
   "outputs": [
    {
     "data": {
      "text/html": [
       "<div>\n",
       "<table border=\"1\" class=\"dataframe\">\n",
       "  <thead>\n",
       "    <tr style=\"text-align: right;\">\n",
       "      <th></th>\n",
       "      <th>mcr</th>\n",
       "      <th>n</th>\n",
       "    </tr>\n",
       "  </thead>\n",
       "  <tbody>\n",
       "    <tr>\n",
       "      <th>neg</th>\n",
       "      <td>0.242857</td>\n",
       "      <td>210</td>\n",
       "    </tr>\n",
       "    <tr>\n",
       "      <th>pos</th>\n",
       "      <td>0.157143</td>\n",
       "      <td>210</td>\n",
       "    </tr>\n",
       "  </tbody>\n",
       "</table>\n",
       "</div>"
      ],
      "text/plain": [
       "          mcr    n\n",
       "neg  0.242857  210\n",
       "pos  0.157143  210"
      ]
     },
     "execution_count": 19,
     "metadata": {},
     "output_type": "execute_result"
    }
   ],
   "source": [
    "mc"
   ]
  },
  {
   "cell_type": "markdown",
   "metadata": {},
   "source": [
    "## Anaysis on results"
   ]
  },
  {
   "cell_type": "code",
   "execution_count": 16,
   "metadata": {
    "collapsed": false
   },
   "outputs": [],
   "source": [
    "prediction_a = getprobs(preprocessed_test_df.txt.values,['pos','neg'])\n",
    "prediction_a['label'] = pd.Series(preprocessed_test_df.label.values,index=prediction_a.index)\n",
    "prediction_a['prediction'] = pd.Series(prediction_a[['neg','pos']].idxmax('columns').values,index=prediction_a.index)\n",
    "prediction_a['txt'] = pd.Series(preprocessed_test_df.txt.values,index=prediction_a.index)\n",
    "\n",
    "\n",
    "prediction_p = getprobs(preprocessed_test_df.txt.values,['pos','neg'],by='product')\n",
    "prediction_p['label'] = pd.Series(preprocessed_test_df.label.values,index=prediction_p.index)\n",
    "prediction_p['prediction'] = pd.Series(prediction_p[['neg','pos']].idxmax('columns').values,index=prediction_p.index)\n",
    "prediction_p['txt'] = pd.Series(preprocessed_test_df.txt.values,index=prediction_p.index)"
   ]
  },
  {
   "cell_type": "code",
   "execution_count": 17,
   "metadata": {
    "collapsed": false,
    "scrolled": false
   },
   "outputs": [
    {
     "data": {
      "text/plain": [
       "<matplotlib.legend.Legend at 0x7f3849703e50>"
      ]
     },
     "execution_count": 17,
     "metadata": {},
     "output_type": "execute_result"
    },
    {
     "data": {
      "image/png": "[encoded data removed]",
      "text/plain": [
       "<matplotlib.figure.Figure at 0x7f38503f8750>"
      ]
     },
     "metadata": {},
     "output_type": "display_data"
    },
    {
     "data": {
      "image/png": "[encoded data removed]",
      "text/plain": [
       "<matplotlib.figure.Figure at 0x7f3848169110>"
      ]
     },
     "metadata": {},
     "output_type": "display_data"
    }
   ],
   "source": [
    "## both wrong\n",
    "index_ww = (prediction_a.prediction != prediction_a.label) & (prediction_p.prediction != prediction_p.label)\n",
    "plt.hist(prediction_a[index_ww]['pos'].values,alpha=0.7,color='r')\n",
    "plt.hist(prediction_a[index_ww]['neg'].values,alpha=0.7,color='y')\n",
    "plt.legend(['pos','neg'])\n",
    "plt.figure()\n",
    "plt.hist(prediction_p[index_ww]['pos'].values,alpha=0.7,color='r')\n",
    "plt.hist(prediction_p[index_ww]['neg'].values,alpha=0.7,color='y')\n",
    "plt.legend(['pos','neg'])"
   ]
  },
  {
   "cell_type": "raw",
   "metadata": {
    "collapsed": false
   },
   "source": [
    "#average correct, product wrong\n",
    "\n",
    "index_rw = (prediction_a.prediction == prediction_a.label) & (prediction_p.prediction != prediction_p.label)\n",
    "plt.hist(prediction_a[index_rw]['pos'].values,alpha=0.7,color='r')\n",
    "plt.hist(prediction_a[index_rw]['neg'].values,alpha=0.7,color='y')\n",
    "plt.legend(['pos','neg'])\n",
    "plt.figure()\n",
    "plt.hist(prediction_p[index_rw]['pos'].values,alpha=0.7,color='r')\n",
    "plt.hist(prediction_p[index_rw]['neg'].values,alpha=0.7,color='y')\n",
    "plt.legend(['pos','neg'])"
   ]
  },
  {
   "cell_type": "code",
   "execution_count": null,
   "metadata": {
    "collapsed": true
   },
   "outputs": [],
   "source": []
  }
 ],
 "metadata": {
  "kernelspec": {
   "display_name": "Python 2",
   "language": "python",
   "name": "python2"
  },
  "language_info": {
   "codemirror_mode": {
    "name": "ipython",
    "version": 2
   },
   "file_extension": ".py",
   "mimetype": "text/x-python",
   "name": "python",
   "nbconvert_exporter": "python",
   "pygments_lexer": "ipython2",
   "version": "2.7.6"
  }
 },
 "nbformat": 4,
 "nbformat_minor": 0
}
