{
 "cells": [
  {
   "cell_type": "markdown",
   "metadata": {},
   "source": [
    "# Deepir implementation\n",
    "### The code is based on [deepir](https://github.com/TaddyLab/deepir) with slight modification\n",
    "### Data is based on [Kaggle Yelp Review](https://www.kaggle.com/c/yelp-recruiting/data)"
   ]
  },
  {
   "cell_type": "markdown",
   "metadata": {},
   "source": [
    "# 1. Yelp data"
   ]
  },
  {
   "cell_type": "code",
   "execution_count": 1,
   "metadata": {
    "collapsed": true
   },
   "outputs": [],
   "source": [
    "import re\n",
    "import json\n",
    "import pandas as pd"
   ]
  },
  {
   "cell_type": "markdown",
   "metadata": {},
   "source": [
    "## Preprocessing data "
   ]
  },
  {
   "cell_type": "code",
   "execution_count": 2,
   "metadata": {
    "collapsed": true
   },
   "outputs": [],
   "source": [
    "# all non alphanumeric\n",
    "contractions = re.compile(r\"'|-\")\n",
    "symbols = re.compile(r'(\\W+)', re.U)\n",
    "numeric = re.compile(r'(?<=\\s)(\\d+|\\w\\d+|\\d+\\w)(?=\\s)', re.I)\n",
    "swrd = re.compile(r'(?<=\\s)(,|\"|\\(|\\)|to|a|as|the|an|and|or|for|are|is)(?=\\s)', re.I)\n",
    "suffix = re.compile(r'(?<=\\w)(s|ings*|ly|(?<=e)[sd]+)(?=\\s)')\n",
    "seps = re.compile(r'\\s+')"
   ]
  },
  {
   "cell_type": "code",
   "execution_count": 3,
   "metadata": {
    "collapsed": true
   },
   "outputs": [],
   "source": [
    "# cleaner (order matters)\n",
    "def clean(text): \n",
    "    text = u' ' +  text.lower() + u' '\n",
    "    text = contractions.sub('', text)\n",
    "    text = symbols.sub(r' \\1 ', text)\n",
    "    text = numeric.sub('000', text)\n",
    "    text = swrd.sub(' ', text)\n",
    "    #text = suffix.sub('', text)\n",
    "    text = seps.sub(' ', text)\n",
    "    return text"
   ]
  },
  {
   "cell_type": "code",
   "execution_count": 4,
   "metadata": {
    "collapsed": true
   },
   "outputs": [],
   "source": [
    "def preprocess(f_dir):\n",
    "    data = []\n",
    "    for line in open(f_dir,'r'):\n",
    "        d = json.loads(line)\n",
    "        txt = clean(d['text'])\n",
    "        data.append([d['stars'],txt])\n",
    "    return pd.DataFrame(data=data,columns=['stars','txt'])"
   ]
  },
  {
   "cell_type": "code",
   "execution_count": 5,
   "metadata": {
    "collapsed": false
   },
   "outputs": [
    {
     "name": "stdout",
     "output_type": "stream",
     "text": [
      "CPU times: user 3min 37s, sys: 1.45 s, total: 3min 38s\n",
      "Wall time: 3min 38s\n"
     ]
    }
   ],
   "source": [
    "%time train_df = preprocess('data/yelp_review_small_set/yelp_training_set/yelp_training_set_review.json')"
   ]
  },
  {
   "cell_type": "code",
   "execution_count": 6,
   "metadata": {
    "collapsed": false,
    "scrolled": true
   },
   "outputs": [
    {
     "data": {
      "text/html": [
       "<div>\n",
       "<table border=\"1\" class=\"dataframe\">\n",
       "  <thead>\n",
       "    <tr style=\"text-align: right;\">\n",
       "      <th></th>\n",
       "      <th>stars</th>\n",
       "      <th>txt</th>\n",
       "    </tr>\n",
       "  </thead>\n",
       "  <tbody>\n",
       "    <tr>\n",
       "      <th>0</th>\n",
       "      <td>5</td>\n",
       "      <td>my wife took me here on my birthday breakfast...</td>\n",
       "    </tr>\n",
       "    <tr>\n",
       "      <th>1</th>\n",
       "      <td>5</td>\n",
       "      <td>i have no idea why some people give bad revie...</td>\n",
       "    </tr>\n",
       "    <tr>\n",
       "      <th>2</th>\n",
       "      <td>4</td>\n",
       "      <td>love gyro plate . rice so good i also dig the...</td>\n",
       "    </tr>\n",
       "    <tr>\n",
       "      <th>3</th>\n",
       "      <td>5</td>\n",
       "      <td>rosie dakota i love chaparral dog park !!! it...</td>\n",
       "    </tr>\n",
       "    <tr>\n",
       "      <th>4</th>\n",
       "      <td>5</td>\n",
       "      <td>general manager scott petello good egg !!! no...</td>\n",
       "    </tr>\n",
       "    <tr>\n",
       "      <th>5</th>\n",
       "      <td>4</td>\n",
       "      <td>quiessence simply put beautiful . full window...</td>\n",
       "    </tr>\n",
       "    <tr>\n",
       "      <th>6</th>\n",
       "      <td>5</td>\n",
       "      <td>drop what youre doing drive here . after i at...</td>\n",
       "    </tr>\n",
       "    <tr>\n",
       "      <th>7</th>\n",
       "      <td>4</td>\n",
       "      <td>luckily i didnt have travel far make my conne...</td>\n",
       "    </tr>\n",
       "    <tr>\n",
       "      <th>8</th>\n",
       "      <td>4</td>\n",
       "      <td>definitely come happy hour ! prices amazing s...</td>\n",
       "    </tr>\n",
       "    <tr>\n",
       "      <th>9</th>\n",
       "      <td>5</td>\n",
       "      <td>nobuo shows his unique talents with everythin...</td>\n",
       "    </tr>\n",
       "    <tr>\n",
       "      <th>10</th>\n",
       "      <td>5</td>\n",
       "      <td>oldish man who owns store sweet can be . perh...</td>\n",
       "    </tr>\n",
       "    <tr>\n",
       "      <th>11</th>\n",
       "      <td>5</td>\n",
       "      <td>wonderful vietnamese sandwich shoppe . their ...</td>\n",
       "    </tr>\n",
       "    <tr>\n",
       "      <th>12</th>\n",
       "      <td>5</td>\n",
       "      <td>they have limited time thing going on right n...</td>\n",
       "    </tr>\n",
       "    <tr>\n",
       "      <th>13</th>\n",
       "      <td>4</td>\n",
       "      <td>good tattoo shop . clean space multiple artis...</td>\n",
       "    </tr>\n",
       "    <tr>\n",
       "      <th>14</th>\n",
       "      <td>4</td>\n",
       "      <td>im 000 weeks new phoenix . i looked up irish ...</td>\n",
       "    </tr>\n",
       "    <tr>\n",
       "      <th>15</th>\n",
       "      <td>2</td>\n",
       "      <td>was it worth 000 $ salad small pizza ? absolu...</td>\n",
       "    </tr>\n",
       "    <tr>\n",
       "      <th>16</th>\n",
       "      <td>3</td>\n",
       "      <td>we went here on saturday afternoon this place...</td>\n",
       "    </tr>\n",
       "    <tr>\n",
       "      <th>17</th>\n",
       "      <td>5</td>\n",
       "      <td>okay this best place ever ! i grew up shoppin...</td>\n",
       "    </tr>\n",
       "    <tr>\n",
       "      <th>18</th>\n",
       "      <td>3</td>\n",
       "      <td>i met friend lunch yesterday . loved water fe...</td>\n",
       "    </tr>\n",
       "    <tr>\n",
       "      <th>19</th>\n",
       "      <td>4</td>\n",
       "      <td>theyve gotten better better me in time since ...</td>\n",
       "    </tr>\n",
       "    <tr>\n",
       "      <th>20</th>\n",
       "      <td>3</td>\n",
       "      <td>dvap .... you have go at least once in your l...</td>\n",
       "    </tr>\n",
       "    <tr>\n",
       "      <th>21</th>\n",
       "      <td>5</td>\n",
       "      <td>this place shouldnt even be reviewed because ...</td>\n",
       "    </tr>\n",
       "    <tr>\n",
       "      <th>22</th>\n",
       "      <td>5</td>\n",
       "      <td>first time my friend i went there ... it was ...</td>\n",
       "    </tr>\n",
       "    <tr>\n",
       "      <th>23</th>\n",
       "      <td>1</td>\n",
       "      <td>u can go there n check car out . if u wanna b...</td>\n",
       "    </tr>\n",
       "    <tr>\n",
       "      <th>24</th>\n",
       "      <td>5</td>\n",
       "      <td>i love this place ! i have been coming here a...</td>\n",
       "    </tr>\n",
       "    <tr>\n",
       "      <th>25</th>\n",
       "      <td>4</td>\n",
       "      <td>this place great . nice little ole fashion ho...</td>\n",
       "    </tr>\n",
       "    <tr>\n",
       "      <th>26</th>\n",
       "      <td>5</td>\n",
       "      <td>i love love love this place . my boss who int...</td>\n",
       "    </tr>\n",
       "    <tr>\n",
       "      <th>27</th>\n",
       "      <td>4</td>\n",
       "      <td>not that my review will mean much given more ...</td>\n",
       "    </tr>\n",
       "    <tr>\n",
       "      <th>28</th>\n",
       "      <td>4</td>\n",
       "      <td>came here breakfast yesterday it had been yea...</td>\n",
       "    </tr>\n",
       "    <tr>\n",
       "      <th>29</th>\n",
       "      <td>4</td>\n",
       "      <td>always reliably good . great beer selection w...</td>\n",
       "    </tr>\n",
       "    <tr>\n",
       "      <th>...</th>\n",
       "      <td>...</td>\n",
       "      <td>...</td>\n",
       "    </tr>\n",
       "    <tr>\n",
       "      <th>229877</th>\n",
       "      <td>3</td>\n",
       "      <td>i should start by saying that american mexica...</td>\n",
       "    </tr>\n",
       "    <tr>\n",
       "      <th>229878</th>\n",
       "      <td>5</td>\n",
       "      <td>always amazing</td>\n",
       "    </tr>\n",
       "    <tr>\n",
       "      <th>229879</th>\n",
       "      <td>5</td>\n",
       "      <td>by far best burger i have had in phoenix . me...</td>\n",
       "    </tr>\n",
       "    <tr>\n",
       "      <th>229880</th>\n",
       "      <td>4</td>\n",
       "      <td>good tacos good service kid friendly . well d...</td>\n",
       "    </tr>\n",
       "    <tr>\n",
       "      <th>229881</th>\n",
       "      <td>1</td>\n",
       "      <td>we used restaurant . com $ 000 off of $ 000 m...</td>\n",
       "    </tr>\n",
       "    <tr>\n",
       "      <th>229882</th>\n",
       "      <td>5</td>\n",
       "      <td>ticoz new find us . ive been wanting go here ...</td>\n",
       "    </tr>\n",
       "    <tr>\n",
       "      <th>229883</th>\n",
       "      <td>4</td>\n",
       "      <td>every now then movie comes along changes your...</td>\n",
       "    </tr>\n",
       "    <tr>\n",
       "      <th>229884</th>\n",
       "      <td>1</td>\n",
       "      <td>we ate at arrowhead mall johnny rockets tonig...</td>\n",
       "    </tr>\n",
       "    <tr>\n",
       "      <th>229885</th>\n",
       "      <td>3</td>\n",
       "      <td>we stayed at westin during our stay in scotts...</td>\n",
       "    </tr>\n",
       "    <tr>\n",
       "      <th>229886</th>\n",
       "      <td>1</td>\n",
       "      <td>every time ive been here there problem . toda...</td>\n",
       "    </tr>\n",
       "    <tr>\n",
       "      <th>229887</th>\n",
       "      <td>5</td>\n",
       "      <td>although this joint by far one of best restau...</td>\n",
       "    </tr>\n",
       "    <tr>\n",
       "      <th>229888</th>\n",
       "      <td>5</td>\n",
       "      <td>this realdeal mexican food in arizona . not b...</td>\n",
       "    </tr>\n",
       "    <tr>\n",
       "      <th>229889</th>\n",
       "      <td>3</td>\n",
       "      <td>you want monster sandwich that will challenge...</td>\n",
       "    </tr>\n",
       "    <tr>\n",
       "      <th>229890</th>\n",
       "      <td>5</td>\n",
       "      <td>one of my favorite luxuries ~ although its ac...</td>\n",
       "    </tr>\n",
       "    <tr>\n",
       "      <th>229891</th>\n",
       "      <td>5</td>\n",
       "      <td>first time tonight went on reccommendation of...</td>\n",
       "    </tr>\n",
       "    <tr>\n",
       "      <th>229892</th>\n",
       "      <td>4</td>\n",
       "      <td>great music fun atmosphere ! parking definite...</td>\n",
       "    </tr>\n",
       "    <tr>\n",
       "      <th>229893</th>\n",
       "      <td>4</td>\n",
       "      <td>went lunch at claim jumper let me tell you se...</td>\n",
       "    </tr>\n",
       "    <tr>\n",
       "      <th>229894</th>\n",
       "      <td>5</td>\n",
       "      <td>i have passed by yen sushi &amp; sake bar several...</td>\n",
       "    </tr>\n",
       "    <tr>\n",
       "      <th>229895</th>\n",
       "      <td>4</td>\n",
       "      <td>after reading yelp reviews i was looking forw...</td>\n",
       "    </tr>\n",
       "    <tr>\n",
       "      <th>229896</th>\n",
       "      <td>2</td>\n",
       "      <td>pros : great tasting koolaid but then again h...</td>\n",
       "    </tr>\n",
       "    <tr>\n",
       "      <th>229897</th>\n",
       "      <td>2</td>\n",
       "      <td>no we just stopped serving breakfast . only v...</td>\n",
       "    </tr>\n",
       "    <tr>\n",
       "      <th>229898</th>\n",
       "      <td>2</td>\n",
       "      <td>i have been wanting try cowboy ciao while now...</td>\n",
       "    </tr>\n",
       "    <tr>\n",
       "      <th>229899</th>\n",
       "      <td>5</td>\n",
       "      <td>los olivos great ! i am huge fan of any car w...</td>\n",
       "    </tr>\n",
       "    <tr>\n",
       "      <th>229900</th>\n",
       "      <td>1</td>\n",
       "      <td>coffee was good . i had two egg breakfast ask...</td>\n",
       "    </tr>\n",
       "    <tr>\n",
       "      <th>229901</th>\n",
       "      <td>3</td>\n",
       "      <td>im sorry this but i must admit i was pretty d...</td>\n",
       "    </tr>\n",
       "    <tr>\n",
       "      <th>229902</th>\n",
       "      <td>2</td>\n",
       "      <td>i really wanted like this place because its s...</td>\n",
       "    </tr>\n",
       "    <tr>\n",
       "      <th>229903</th>\n",
       "      <td>1</td>\n",
       "      <td>my husband i stayed here two nights . of cour...</td>\n",
       "    </tr>\n",
       "    <tr>\n",
       "      <th>229904</th>\n",
       "      <td>4</td>\n",
       "      <td>cool atmosphere . lot of beers on tap good fo...</td>\n",
       "    </tr>\n",
       "    <tr>\n",
       "      <th>229905</th>\n",
       "      <td>3</td>\n",
       "      <td>i have take star off spotty service i receive...</td>\n",
       "    </tr>\n",
       "    <tr>\n",
       "      <th>229906</th>\n",
       "      <td>5</td>\n",
       "      <td>so cool yo .</td>\n",
       "    </tr>\n",
       "  </tbody>\n",
       "</table>\n",
       "<p>229907 rows × 2 columns</p>\n",
       "</div>"
      ],
      "text/plain": [
       "        stars                                                txt\n",
       "0           5   my wife took me here on my birthday breakfast...\n",
       "1           5   i have no idea why some people give bad revie...\n",
       "2           4   love gyro plate . rice so good i also dig the...\n",
       "3           5   rosie dakota i love chaparral dog park !!! it...\n",
       "4           5   general manager scott petello good egg !!! no...\n",
       "5           4   quiessence simply put beautiful . full window...\n",
       "6           5   drop what youre doing drive here . after i at...\n",
       "7           4   luckily i didnt have travel far make my conne...\n",
       "8           4   definitely come happy hour ! prices amazing s...\n",
       "9           5   nobuo shows his unique talents with everythin...\n",
       "10          5   oldish man who owns store sweet can be . perh...\n",
       "11          5   wonderful vietnamese sandwich shoppe . their ...\n",
       "12          5   they have limited time thing going on right n...\n",
       "13          4   good tattoo shop . clean space multiple artis...\n",
       "14          4   im 000 weeks new phoenix . i looked up irish ...\n",
       "15          2   was it worth 000 $ salad small pizza ? absolu...\n",
       "16          3   we went here on saturday afternoon this place...\n",
       "17          5   okay this best place ever ! i grew up shoppin...\n",
       "18          3   i met friend lunch yesterday . loved water fe...\n",
       "19          4   theyve gotten better better me in time since ...\n",
       "20          3   dvap .... you have go at least once in your l...\n",
       "21          5   this place shouldnt even be reviewed because ...\n",
       "22          5   first time my friend i went there ... it was ...\n",
       "23          1   u can go there n check car out . if u wanna b...\n",
       "24          5   i love this place ! i have been coming here a...\n",
       "25          4   this place great . nice little ole fashion ho...\n",
       "26          5   i love love love this place . my boss who int...\n",
       "27          4   not that my review will mean much given more ...\n",
       "28          4   came here breakfast yesterday it had been yea...\n",
       "29          4   always reliably good . great beer selection w...\n",
       "...       ...                                                ...\n",
       "229877      3   i should start by saying that american mexica...\n",
       "229878      5                                    always amazing \n",
       "229879      5   by far best burger i have had in phoenix . me...\n",
       "229880      4   good tacos good service kid friendly . well d...\n",
       "229881      1   we used restaurant . com $ 000 off of $ 000 m...\n",
       "229882      5   ticoz new find us . ive been wanting go here ...\n",
       "229883      4   every now then movie comes along changes your...\n",
       "229884      1   we ate at arrowhead mall johnny rockets tonig...\n",
       "229885      3   we stayed at westin during our stay in scotts...\n",
       "229886      1   every time ive been here there problem . toda...\n",
       "229887      5   although this joint by far one of best restau...\n",
       "229888      5   this realdeal mexican food in arizona . not b...\n",
       "229889      3   you want monster sandwich that will challenge...\n",
       "229890      5   one of my favorite luxuries ~ although its ac...\n",
       "229891      5   first time tonight went on reccommendation of...\n",
       "229892      4   great music fun atmosphere ! parking definite...\n",
       "229893      4   went lunch at claim jumper let me tell you se...\n",
       "229894      5   i have passed by yen sushi & sake bar several...\n",
       "229895      4   after reading yelp reviews i was looking forw...\n",
       "229896      2   pros : great tasting koolaid but then again h...\n",
       "229897      2   no we just stopped serving breakfast . only v...\n",
       "229898      2   i have been wanting try cowboy ciao while now...\n",
       "229899      5   los olivos great ! i am huge fan of any car w...\n",
       "229900      1   coffee was good . i had two egg breakfast ask...\n",
       "229901      3   im sorry this but i must admit i was pretty d...\n",
       "229902      2   i really wanted like this place because its s...\n",
       "229903      1   my husband i stayed here two nights . of cour...\n",
       "229904      4   cool atmosphere . lot of beers on tap good fo...\n",
       "229905      3   i have take star off spotty service i receive...\n",
       "229906      5                                      so cool yo . \n",
       "\n",
       "[229907 rows x 2 columns]"
      ]
     },
     "execution_count": 6,
     "metadata": {},
     "output_type": "execute_result"
    }
   ],
   "source": [
    "train_df"
   ]
  },
  {
   "cell_type": "code",
   "execution_count": 7,
   "metadata": {
    "collapsed": false
   },
   "outputs": [
    {
     "name": "stdout",
     "output_type": "stream",
     "text": [
      "CPU times: user 19.3 s, sys: 114 ms, total: 19.4 s\n",
      "Wall time: 19.6 s\n"
     ]
    }
   ],
   "source": [
    "%time test_df = preprocess('data/yelp_review_small_set/yelp_test_set/yelp_test_set_review.json')"
   ]
  },
  {
   "cell_type": "code",
   "execution_count": 8,
   "metadata": {
    "collapsed": false,
    "scrolled": true
   },
   "outputs": [
    {
     "data": {
      "text/html": [
       "<div>\n",
       "<table border=\"1\" class=\"dataframe\">\n",
       "  <thead>\n",
       "    <tr style=\"text-align: right;\">\n",
       "      <th></th>\n",
       "      <th>stars</th>\n",
       "      <th>txt</th>\n",
       "    </tr>\n",
       "  </thead>\n",
       "  <tbody>\n",
       "    <tr>\n",
       "      <th>0</th>\n",
       "      <td>5</td>\n",
       "      <td>nice place big patio . now offering live sket...</td>\n",
       "    </tr>\n",
       "    <tr>\n",
       "      <th>1</th>\n",
       "      <td>5</td>\n",
       "      <td>friendly staff . make sure you order gyro pla...</td>\n",
       "    </tr>\n",
       "    <tr>\n",
       "      <th>2</th>\n",
       "      <td>5</td>\n",
       "      <td>love love love this place breakfast . they al...</td>\n",
       "    </tr>\n",
       "    <tr>\n",
       "      <th>3</th>\n",
       "      <td>1</td>\n",
       "      <td>disgusting sandwich . i should have known bet...</td>\n",
       "    </tr>\n",
       "    <tr>\n",
       "      <th>4</th>\n",
       "      <td>4</td>\n",
       "      <td>always fan of cafe zupas their very friendly ...</td>\n",
       "    </tr>\n",
       "    <tr>\n",
       "      <th>5</th>\n",
       "      <td>5</td>\n",
       "      <td>when i first get there i check lot see deals ...</td>\n",
       "    </tr>\n",
       "    <tr>\n",
       "      <th>6</th>\n",
       "      <td>4</td>\n",
       "      <td>great salsa especially if you mix red green t...</td>\n",
       "    </tr>\n",
       "    <tr>\n",
       "      <th>7</th>\n",
       "      <td>4</td>\n",
       "      <td>ajs unsweeted tea selection amazing ! with so...</td>\n",
       "    </tr>\n",
       "    <tr>\n",
       "      <th>8</th>\n",
       "      <td>4</td>\n",
       "      <td>i stop in here from time time with friend who...</td>\n",
       "    </tr>\n",
       "    <tr>\n",
       "      <th>9</th>\n",
       "      <td>2</td>\n",
       "      <td>ugh . i want love this place like some of my ...</td>\n",
       "    </tr>\n",
       "    <tr>\n",
       "      <th>10</th>\n",
       "      <td>1</td>\n",
       "      <td>we check secret garden from outside we though...</td>\n",
       "    </tr>\n",
       "    <tr>\n",
       "      <th>11</th>\n",
       "      <td>5</td>\n",
       "      <td>bomb again !!</td>\n",
       "    </tr>\n",
       "    <tr>\n",
       "      <th>12</th>\n",
       "      <td>5</td>\n",
       "      <td>we went thirteen north today . i tried fish t...</td>\n",
       "    </tr>\n",
       "    <tr>\n",
       "      <th>13</th>\n",
       "      <td>5</td>\n",
       "      <td>buried deep in heart seedy underbelly of incr...</td>\n",
       "    </tr>\n",
       "    <tr>\n",
       "      <th>14</th>\n",
       "      <td>2</td>\n",
       "      <td>new menu tried steak onion panini with horser...</td>\n",
       "    </tr>\n",
       "    <tr>\n",
       "      <th>15</th>\n",
       "      <td>5</td>\n",
       "      <td>big portions fresh high quality ingredients g...</td>\n",
       "    </tr>\n",
       "    <tr>\n",
       "      <th>16</th>\n",
       "      <td>5</td>\n",
       "      <td>skatepark here pretty nice it has couple of b...</td>\n",
       "    </tr>\n",
       "    <tr>\n",
       "      <th>17</th>\n",
       "      <td>4</td>\n",
       "      <td>well i went here probably week ago . i like i...</td>\n",
       "    </tr>\n",
       "    <tr>\n",
       "      <th>18</th>\n",
       "      <td>4</td>\n",
       "      <td>great sandwiches other goodies .</td>\n",
       "    </tr>\n",
       "    <tr>\n",
       "      <th>19</th>\n",
       "      <td>5</td>\n",
       "      <td>came here my bachelorette party had so much f...</td>\n",
       "    </tr>\n",
       "    <tr>\n",
       "      <th>20</th>\n",
       "      <td>1</td>\n",
       "      <td>awful experience with charlotte office . band...</td>\n",
       "    </tr>\n",
       "    <tr>\n",
       "      <th>21</th>\n",
       "      <td>1</td>\n",
       "      <td>000 palms has always been my little oasis in ...</td>\n",
       "    </tr>\n",
       "    <tr>\n",
       "      <th>22</th>\n",
       "      <td>5</td>\n",
       "      <td>we have been here few times its great every t...</td>\n",
       "    </tr>\n",
       "    <tr>\n",
       "      <th>23</th>\n",
       "      <td>3</td>\n",
       "      <td>yes food good i will say that servers overly ...</td>\n",
       "    </tr>\n",
       "    <tr>\n",
       "      <th>24</th>\n",
       "      <td>1</td>\n",
       "      <td>unsanitary unsafe extraordinarily shady disho...</td>\n",
       "    </tr>\n",
       "    <tr>\n",
       "      <th>25</th>\n",
       "      <td>5</td>\n",
       "      <td>here i am : twentysomething lady trying eat h...</td>\n",
       "    </tr>\n",
       "    <tr>\n",
       "      <th>26</th>\n",
       "      <td>5</td>\n",
       "      <td>tonight was our first time nicks diner 000 . ...</td>\n",
       "    </tr>\n",
       "    <tr>\n",
       "      <th>27</th>\n",
       "      <td>5</td>\n",
       "      <td>this great place runners pick up supplies whe...</td>\n",
       "    </tr>\n",
       "    <tr>\n",
       "      <th>28</th>\n",
       "      <td>3</td>\n",
       "      <td>i was so so so sad when i wanted place go ord...</td>\n",
       "    </tr>\n",
       "    <tr>\n",
       "      <th>29</th>\n",
       "      <td>5</td>\n",
       "      <td>after reading few reviews online i decided ma...</td>\n",
       "    </tr>\n",
       "    <tr>\n",
       "      <th>...</th>\n",
       "      <td>...</td>\n",
       "      <td>...</td>\n",
       "    </tr>\n",
       "    <tr>\n",
       "      <th>22926</th>\n",
       "      <td>4</td>\n",
       "      <td>this was first time i had ever been t . g . i...</td>\n",
       "    </tr>\n",
       "    <tr>\n",
       "      <th>22927</th>\n",
       "      <td>5</td>\n",
       "      <td>best fish tacos i had in az ! workers were re...</td>\n",
       "    </tr>\n",
       "    <tr>\n",
       "      <th>22928</th>\n",
       "      <td>5</td>\n",
       "      <td>what absolutely awesome party planning place ...</td>\n",
       "    </tr>\n",
       "    <tr>\n",
       "      <th>22929</th>\n",
       "      <td>5</td>\n",
       "      <td>excellent at very reasonable price . i order ...</td>\n",
       "    </tr>\n",
       "    <tr>\n",
       "      <th>22930</th>\n",
       "      <td>2</td>\n",
       "      <td>stopped here after hike on pinnacle due its p...</td>\n",
       "    </tr>\n",
       "    <tr>\n",
       "      <th>22931</th>\n",
       "      <td>5</td>\n",
       "      <td>friendly place great traditional american foo...</td>\n",
       "    </tr>\n",
       "    <tr>\n",
       "      <th>22932</th>\n",
       "      <td>1</td>\n",
       "      <td>i scheduled appointment with dr . he never ca...</td>\n",
       "    </tr>\n",
       "    <tr>\n",
       "      <th>22933</th>\n",
       "      <td>5</td>\n",
       "      <td>wow .... i have been oreganos many times in m...</td>\n",
       "    </tr>\n",
       "    <tr>\n",
       "      <th>22934</th>\n",
       "      <td>5</td>\n",
       "      <td>in scottsdale conference it appears that phoe...</td>\n",
       "    </tr>\n",
       "    <tr>\n",
       "      <th>22935</th>\n",
       "      <td>5</td>\n",
       "      <td>orange blossom ale best weird beer ive ever h...</td>\n",
       "    </tr>\n",
       "    <tr>\n",
       "      <th>22936</th>\n",
       "      <td>2</td>\n",
       "      <td>i like service my drinks came really fast . w...</td>\n",
       "    </tr>\n",
       "    <tr>\n",
       "      <th>22937</th>\n",
       "      <td>5</td>\n",
       "      <td>excellent place went here twice in week . tha...</td>\n",
       "    </tr>\n",
       "    <tr>\n",
       "      <th>22938</th>\n",
       "      <td>2</td>\n",
       "      <td>i really dont like giving such low stars on y...</td>\n",
       "    </tr>\n",
       "    <tr>\n",
       "      <th>22939</th>\n",
       "      <td>5</td>\n",
       "      <td>awesome food great presentation wonderful out...</td>\n",
       "    </tr>\n",
       "    <tr>\n",
       "      <th>22940</th>\n",
       "      <td>3</td>\n",
       "      <td>my boyfriend i stopped in breakfast buffet on...</td>\n",
       "    </tr>\n",
       "    <tr>\n",
       "      <th>22941</th>\n",
       "      <td>4</td>\n",
       "      <td>i will go out of my way go this hi health loc...</td>\n",
       "    </tr>\n",
       "    <tr>\n",
       "      <th>22942</th>\n",
       "      <td>4</td>\n",
       "      <td>these guys consistently do really good job su...</td>\n",
       "    </tr>\n",
       "    <tr>\n",
       "      <th>22943</th>\n",
       "      <td>4</td>\n",
       "      <td>our large family came on mothers day . we fel...</td>\n",
       "    </tr>\n",
       "    <tr>\n",
       "      <th>22944</th>\n",
       "      <td>4</td>\n",
       "      <td>i will give this place solid four stars . gre...</td>\n",
       "    </tr>\n",
       "    <tr>\n",
       "      <th>22945</th>\n",
       "      <td>5</td>\n",
       "      <td>chef laprad moved i always have been moved by...</td>\n",
       "    </tr>\n",
       "    <tr>\n",
       "      <th>22946</th>\n",
       "      <td>5</td>\n",
       "      <td>this was our 1st trip midwestern meats we wil...</td>\n",
       "    </tr>\n",
       "    <tr>\n",
       "      <th>22947</th>\n",
       "      <td>5</td>\n",
       "      <td>latest addiction triple hummus platter with a...</td>\n",
       "    </tr>\n",
       "    <tr>\n",
       "      <th>22948</th>\n",
       "      <td>3</td>\n",
       "      <td>we came here while visiting town fiesta bowl ...</td>\n",
       "    </tr>\n",
       "    <tr>\n",
       "      <th>22949</th>\n",
       "      <td>4</td>\n",
       "      <td>ok i want start off saying that this indeed 9...</td>\n",
       "    </tr>\n",
       "    <tr>\n",
       "      <th>22950</th>\n",
       "      <td>2</td>\n",
       "      <td>have had pricy glass of wine at bar one thurs...</td>\n",
       "    </tr>\n",
       "    <tr>\n",
       "      <th>22951</th>\n",
       "      <td>4</td>\n",
       "      <td>wine bar i would have expected more bytheglas...</td>\n",
       "    </tr>\n",
       "    <tr>\n",
       "      <th>22952</th>\n",
       "      <td>4</td>\n",
       "      <td>this place has awesome kimchi chigae kalbi ok...</td>\n",
       "    </tr>\n",
       "    <tr>\n",
       "      <th>22953</th>\n",
       "      <td>5</td>\n",
       "      <td>love this place ! i recently did search local...</td>\n",
       "    </tr>\n",
       "    <tr>\n",
       "      <th>22954</th>\n",
       "      <td>4</td>\n",
       "      <td>excellent ! inexpensive hot fresh food . wort...</td>\n",
       "    </tr>\n",
       "    <tr>\n",
       "      <th>22955</th>\n",
       "      <td>3</td>\n",
       "      <td>we come here often our favorite dish eat beef...</td>\n",
       "    </tr>\n",
       "  </tbody>\n",
       "</table>\n",
       "<p>22956 rows × 2 columns</p>\n",
       "</div>"
      ],
      "text/plain": [
       "       stars                                                txt\n",
       "0          5   nice place big patio . now offering live sket...\n",
       "1          5   friendly staff . make sure you order gyro pla...\n",
       "2          5   love love love this place breakfast . they al...\n",
       "3          1   disgusting sandwich . i should have known bet...\n",
       "4          4   always fan of cafe zupas their very friendly ...\n",
       "5          5   when i first get there i check lot see deals ...\n",
       "6          4   great salsa especially if you mix red green t...\n",
       "7          4   ajs unsweeted tea selection amazing ! with so...\n",
       "8          4   i stop in here from time time with friend who...\n",
       "9          2   ugh . i want love this place like some of my ...\n",
       "10         1   we check secret garden from outside we though...\n",
       "11         5                                     bomb again !! \n",
       "12         5   we went thirteen north today . i tried fish t...\n",
       "13         5   buried deep in heart seedy underbelly of incr...\n",
       "14         2   new menu tried steak onion panini with horser...\n",
       "15         5   big portions fresh high quality ingredients g...\n",
       "16         5   skatepark here pretty nice it has couple of b...\n",
       "17         4   well i went here probably week ago . i like i...\n",
       "18         4                  great sandwiches other goodies . \n",
       "19         5   came here my bachelorette party had so much f...\n",
       "20         1   awful experience with charlotte office . band...\n",
       "21         1   000 palms has always been my little oasis in ...\n",
       "22         5   we have been here few times its great every t...\n",
       "23         3   yes food good i will say that servers overly ...\n",
       "24         1   unsanitary unsafe extraordinarily shady disho...\n",
       "25         5   here i am : twentysomething lady trying eat h...\n",
       "26         5   tonight was our first time nicks diner 000 . ...\n",
       "27         5   this great place runners pick up supplies whe...\n",
       "28         3   i was so so so sad when i wanted place go ord...\n",
       "29         5   after reading few reviews online i decided ma...\n",
       "...      ...                                                ...\n",
       "22926      4   this was first time i had ever been t . g . i...\n",
       "22927      5   best fish tacos i had in az ! workers were re...\n",
       "22928      5   what absolutely awesome party planning place ...\n",
       "22929      5   excellent at very reasonable price . i order ...\n",
       "22930      2   stopped here after hike on pinnacle due its p...\n",
       "22931      5   friendly place great traditional american foo...\n",
       "22932      1   i scheduled appointment with dr . he never ca...\n",
       "22933      5   wow .... i have been oreganos many times in m...\n",
       "22934      5   in scottsdale conference it appears that phoe...\n",
       "22935      5   orange blossom ale best weird beer ive ever h...\n",
       "22936      2   i like service my drinks came really fast . w...\n",
       "22937      5   excellent place went here twice in week . tha...\n",
       "22938      2   i really dont like giving such low stars on y...\n",
       "22939      5   awesome food great presentation wonderful out...\n",
       "22940      3   my boyfriend i stopped in breakfast buffet on...\n",
       "22941      4   i will go out of my way go this hi health loc...\n",
       "22942      4   these guys consistently do really good job su...\n",
       "22943      4   our large family came on mothers day . we fel...\n",
       "22944      4   i will give this place solid four stars . gre...\n",
       "22945      5   chef laprad moved i always have been moved by...\n",
       "22946      5   this was our 1st trip midwestern meats we wil...\n",
       "22947      5   latest addiction triple hummus platter with a...\n",
       "22948      3   we came here while visiting town fiesta bowl ...\n",
       "22949      4   ok i want start off saying that this indeed 9...\n",
       "22950      2   have had pricy glass of wine at bar one thurs...\n",
       "22951      4   wine bar i would have expected more bytheglas...\n",
       "22952      4   this place has awesome kimchi chigae kalbi ok...\n",
       "22953      5   love this place ! i recently did search local...\n",
       "22954      4   excellent ! inexpensive hot fresh food . wort...\n",
       "22955      3   we come here often our favorite dish eat beef...\n",
       "\n",
       "[22956 rows x 2 columns]"
      ]
     },
     "execution_count": 8,
     "metadata": {},
     "output_type": "execute_result"
    }
   ],
   "source": [
    "test_df"
   ]
  },
  {
   "cell_type": "markdown",
   "metadata": {},
   "source": [
    "## Re-write of deepir"
   ]
  },
  {
   "cell_type": "code",
   "execution_count": 9,
   "metadata": {
    "collapsed": false
   },
   "outputs": [
    {
     "name": "stdout",
     "output_type": "stream",
     "text": [
      "Couldn't import dot_parser, loading of dot files will not be possible.\n"
     ]
    },
    {
     "name": "stderr",
     "output_type": "stream",
     "text": [
      "Using gpu device 0: Quadro K2000 (CNMeM is disabled)\n"
     ]
    }
   ],
   "source": [
    "import numpy as np\n",
    "from gensim.models import Word2Vec\n",
    "from gensim.models import Phrases\n",
    "from copy import deepcopy\n",
    "\n",
    "import warnings\n",
    "warnings.filterwarnings(\"ignore\")"
   ]
  },
  {
   "cell_type": "code",
   "execution_count": 10,
   "metadata": {
    "collapsed": true
   },
   "outputs": [],
   "source": [
    "# define a review generator\n",
    "alteos = re.compile(r'( [!\\?] )')\n",
    "\n",
    "def revsplit(l):\n",
    "    l = alteos.sub(r' \\1 . ', l).rstrip(\"( \\. )*\\n\")\n",
    "    return [s.split() for s in l.split(\" . \")]\n",
    "\n",
    "def YelpReviews(df):\n",
    "    data = []\n",
    "    for star,txt in df.values:\n",
    "        data.append([star,revsplit(txt)])\n",
    "    return pd.DataFrame(data=data,columns=['stars','txt'])"
   ]
  },
  {
   "cell_type": "code",
   "execution_count": 11,
   "metadata": {
    "collapsed": false
   },
   "outputs": [
    {
     "name": "stdout",
     "output_type": "stream",
     "text": [
      "CPU times: user 20.9 s, sys: 2.28 s, total: 23.2 s\n",
      "Wall time: 23.1 s\n"
     ]
    }
   ],
   "source": [
    "%time preprocessed_train_df = YelpReviews(train_df)"
   ]
  },
  {
   "cell_type": "code",
   "execution_count": 12,
   "metadata": {
    "collapsed": false
   },
   "outputs": [
    {
     "data": {
      "text/plain": [
       "2027394"
      ]
     },
     "execution_count": 12,
     "metadata": {},
     "output_type": "execute_result"
    }
   ],
   "source": [
    "all_sentences = [s for r in preprocessed_train_df.txt for s in r]\n",
    "len(all_sentences)"
   ]
  },
  {
   "cell_type": "raw",
   "metadata": {
    "collapsed": false
   },
   "source": [
    "reviews = {}\n",
    "reviews['neg'] = preprocessed_train_df[preprocessed_train_df['stars'].isin([1,2])].txt.values\n",
    "reviews['pos'] = preprocessed_train_df[preprocessed_train_df['stars']==5].txt.values"
   ]
  },
  {
   "cell_type": "code",
   "execution_count": 13,
   "metadata": {
    "collapsed": false
   },
   "outputs": [],
   "source": [
    "jointmodel = Word2Vec(workers=-1)\n",
    "np.random.shuffle(all_sentences)\n",
    "jointmodel.build_vocab(all_sentences)"
   ]
  },
  {
   "cell_type": "raw",
   "metadata": {
    "collapsed": true
   },
   "source": [
    "docgrp = {'neg': [1,2], 'pos': [5]} \n",
    "model = { g: deepcopy(jointmodel) for g in docgrp }"
   ]
  },
  {
   "cell_type": "code",
   "execution_count": 14,
   "metadata": {
    "collapsed": false
   },
   "outputs": [],
   "source": [
    "def trainW2V(g, T=25):\n",
    "    sent = [l for r in reviews[g] for l in r]\n",
    "    model[g].min_alpha = model[g].alpha\n",
    "    for epoch in range(T):\n",
    "        print epoch, \" \"\n",
    "        np.random.shuffle(sent)\n",
    "        model[g].train(sent)\n",
    "        model[g].alpha *= 0.9  \n",
    "        model[g].min_alpha = model[g].alpha  \n",
    "    print(\".\")"
   ]
  },
  {
   "cell_type": "raw",
   "metadata": {
    "collapsed": false,
    "scrolled": true
   },
   "source": [
    "for g in docgrp: \n",
    "    print g, \": \"\n",
    "    trainW2V( g )"
   ]
  },
  {
   "cell_type": "raw",
   "metadata": {
    "collapsed": false
   },
   "source": [
    "def nearby(word, g):\n",
    "    print(word)\n",
    "    print \"%s:\"%str(g)\n",
    "    for (w,v) in model[g].most_similar([word]):\n",
    "        print w\n",
    "    print\n",
    "    print"
   ]
  },
  {
   "cell_type": "raw",
   "metadata": {
    "collapsed": false
   },
   "source": [
    "for g in docgrp: nearby(\"food\", g)\n",
    "for g in docgrp: nearby(\"service\", g)\n",
    "for g in docgrp: nearby(\"value\", g)"
   ]
  },
  {
   "cell_type": "raw",
   "metadata": {
    "collapsed": false
   },
   "source": [
    "%time preprocessed_test_df = YelpReviews(test_df)\n",
    "testrev = {}\n",
    "testrev['neg'] = preprocessed_test_df[preprocessed_test_df['stars'].isin([1,2])].txt.values\n",
    "testrev['pos'] = preprocessed_test_df[preprocessed_test_df['stars']==5].txt.values"
   ]
  },
  {
   "cell_type": "code",
   "execution_count": 15,
   "metadata": {
    "collapsed": true
   },
   "outputs": [],
   "source": [
    "def getprobs(rev, grp,by = 'average'):\n",
    "    if by == 'average':\n",
    "        sentences =  [(i,s) for i,r in enumerate(rev) for s in r]\n",
    "        eta = pd.DataFrame(\n",
    "                { g: model[g].score([s for i,s in sentences])  \n",
    "                 for g in grp } )\n",
    "        probs = eta.subtract( eta.max('columns'), 'rows') \n",
    "        probs = np.exp( probs )\n",
    "        probs = probs.divide(probs.sum('columns'), \"rows\")\n",
    "        probs['cnt'] = 1\n",
    "        probs = probs.groupby([i for i,s in sentences]).sum()\n",
    "        probs = probs.divide(probs[\"cnt\"], 'rows').drop(\"cnt\", 1)\n",
    "    elif by == 'product':\n",
    "#         sentences =  [(i,s) for i,r in enumerate(rev) for s in r]\n",
    "#         eta = pd.DataFrame(\n",
    "#                 { g: model[g].score([s for i,s in sentences])  \n",
    "#                  for g in grp } )\n",
    "#         probs = eta.groupby([i for i,s in sentences]).sum()\n",
    "#         probs = probs.subtract( probs.max('columns'), 'rows')\n",
    "#         probs = np.exp( probs )\n",
    "#         probs = probs.divide(probs.sum('columns'), \"rows\")\n",
    "        sentences =  [(i,s) for i,r in enumerate(rev) for s in r]\n",
    "        eta = pd.DataFrame(\n",
    "                { g: model[g].score([s for i,s in sentences])  \n",
    "                 for g in grp } )\n",
    "        probs = eta.groupby([i for i,s in sentences]).sum()\n",
    "        probs = probs.subtract( probs.min('columns'), 'rows')\n",
    "        #probs = np.exp( probs )\n",
    "        probs = probs.divide(probs.sum('columns'), \"rows\")\n",
    "        probs.replace([np.inf, -np.inf],0)\n",
    "        probs.fillna(0)\n",
    "    return(probs)"
   ]
  },
  {
   "cell_type": "markdown",
   "metadata": {},
   "source": [
    "### classification by log product probability-- task c"
   ]
  },
  {
   "cell_type": "code",
   "execution_count": 16,
   "metadata": {
    "collapsed": false
   },
   "outputs": [
    {
     "data": {
      "text/plain": [
       "{'1': 1, '2': 2, '3': 3, '4': 4, '5': 5}"
      ]
     },
     "execution_count": 16,
     "metadata": {},
     "output_type": "execute_result"
    }
   ],
   "source": [
    "docgrp_fine = {str(i) : i for i in range(1,6)} \n",
    "docgrp_fine"
   ]
  },
  {
   "cell_type": "code",
   "execution_count": 17,
   "metadata": {
    "collapsed": false,
    "scrolled": true
   },
   "outputs": [
    {
     "name": "stdout",
     "output_type": "stream",
     "text": [
      "1 :\n",
      "0"
     ]
    },
    {
     "name": "stderr",
     "output_type": "stream",
     "text": [
      "WARNING:gensim.models.word2vec:supplied example count (177154) did not equal expected count (2027394)\n"
     ]
    },
    {
     "name": "stdout",
     "output_type": "stream",
     "text": [
      "  \n",
      "1"
     ]
    },
    {
     "name": "stderr",
     "output_type": "stream",
     "text": [
      "WARNING:gensim.models.word2vec:supplied example count (177154) did not equal expected count (2027394)\n"
     ]
    },
    {
     "name": "stdout",
     "output_type": "stream",
     "text": [
      "  \n",
      "2"
     ]
    },
    {
     "name": "stderr",
     "output_type": "stream",
     "text": [
      "WARNING:gensim.models.word2vec:supplied example count (177154) did not equal expected count (2027394)\n"
     ]
    },
    {
     "name": "stdout",
     "output_type": "stream",
     "text": [
      "  \n",
      "3"
     ]
    },
    {
     "name": "stderr",
     "output_type": "stream",
     "text": [
      "WARNING:gensim.models.word2vec:supplied example count (177154) did not equal expected count (2027394)\n"
     ]
    },
    {
     "name": "stdout",
     "output_type": "stream",
     "text": [
      "  \n",
      "4"
     ]
    },
    {
     "name": "stderr",
     "output_type": "stream",
     "text": [
      "WARNING:gensim.models.word2vec:supplied example count (177154) did not equal expected count (2027394)\n"
     ]
    },
    {
     "name": "stdout",
     "output_type": "stream",
     "text": [
      "  \n",
      "5"
     ]
    },
    {
     "name": "stderr",
     "output_type": "stream",
     "text": [
      "WARNING:gensim.models.word2vec:supplied example count (177154) did not equal expected count (2027394)\n"
     ]
    },
    {
     "name": "stdout",
     "output_type": "stream",
     "text": [
      "  \n",
      "6"
     ]
    },
    {
     "name": "stderr",
     "output_type": "stream",
     "text": [
      "WARNING:gensim.models.word2vec:supplied example count (177154) did not equal expected count (2027394)\n"
     ]
    },
    {
     "name": "stdout",
     "output_type": "stream",
     "text": [
      "  \n",
      "7"
     ]
    },
    {
     "name": "stderr",
     "output_type": "stream",
     "text": [
      "WARNING:gensim.models.word2vec:supplied example count (177154) did not equal expected count (2027394)\n"
     ]
    },
    {
     "name": "stdout",
     "output_type": "stream",
     "text": [
      "  \n",
      "8"
     ]
    },
    {
     "name": "stderr",
     "output_type": "stream",
     "text": [
      "WARNING:gensim.models.word2vec:supplied example count (177154) did not equal expected count (2027394)\n"
     ]
    },
    {
     "name": "stdout",
     "output_type": "stream",
     "text": [
      "  \n",
      "9"
     ]
    },
    {
     "name": "stderr",
     "output_type": "stream",
     "text": [
      "WARNING:gensim.models.word2vec:supplied example count (177154) did not equal expected count (2027394)\n"
     ]
    },
    {
     "name": "stdout",
     "output_type": "stream",
     "text": [
      "  \n",
      "10"
     ]
    },
    {
     "name": "stderr",
     "output_type": "stream",
     "text": [
      "WARNING:gensim.models.word2vec:supplied example count (177154) did not equal expected count (2027394)\n"
     ]
    },
    {
     "name": "stdout",
     "output_type": "stream",
     "text": [
      "  \n",
      "11"
     ]
    },
    {
     "name": "stderr",
     "output_type": "stream",
     "text": [
      "WARNING:gensim.models.word2vec:supplied example count (177154) did not equal expected count (2027394)\n"
     ]
    },
    {
     "name": "stdout",
     "output_type": "stream",
     "text": [
      "  \n",
      "12"
     ]
    },
    {
     "name": "stderr",
     "output_type": "stream",
     "text": [
      "WARNING:gensim.models.word2vec:supplied example count (177154) did not equal expected count (2027394)\n"
     ]
    },
    {
     "name": "stdout",
     "output_type": "stream",
     "text": [
      "  \n",
      "13"
     ]
    },
    {
     "name": "stderr",
     "output_type": "stream",
     "text": [
      "WARNING:gensim.models.word2vec:supplied example count (177154) did not equal expected count (2027394)\n"
     ]
    },
    {
     "name": "stdout",
     "output_type": "stream",
     "text": [
      "  \n",
      "14"
     ]
    },
    {
     "name": "stderr",
     "output_type": "stream",
     "text": [
      "WARNING:gensim.models.word2vec:supplied example count (177154) did not equal expected count (2027394)\n"
     ]
    },
    {
     "name": "stdout",
     "output_type": "stream",
     "text": [
      "  \n",
      "15"
     ]
    },
    {
     "name": "stderr",
     "output_type": "stream",
     "text": [
      "WARNING:gensim.models.word2vec:supplied example count (177154) did not equal expected count (2027394)\n"
     ]
    },
    {
     "name": "stdout",
     "output_type": "stream",
     "text": [
      "  \n",
      "16"
     ]
    },
    {
     "name": "stderr",
     "output_type": "stream",
     "text": [
      "WARNING:gensim.models.word2vec:supplied example count (177154) did not equal expected count (2027394)\n"
     ]
    },
    {
     "name": "stdout",
     "output_type": "stream",
     "text": [
      "  \n",
      "17"
     ]
    },
    {
     "name": "stderr",
     "output_type": "stream",
     "text": [
      "WARNING:gensim.models.word2vec:supplied example count (177154) did not equal expected count (2027394)\n"
     ]
    },
    {
     "name": "stdout",
     "output_type": "stream",
     "text": [
      "  \n",
      "18"
     ]
    },
    {
     "name": "stderr",
     "output_type": "stream",
     "text": [
      "WARNING:gensim.models.word2vec:supplied example count (177154) did not equal expected count (2027394)\n"
     ]
    },
    {
     "name": "stdout",
     "output_type": "stream",
     "text": [
      "  \n",
      "19"
     ]
    },
    {
     "name": "stderr",
     "output_type": "stream",
     "text": [
      "WARNING:gensim.models.word2vec:supplied example count (177154) did not equal expected count (2027394)\n"
     ]
    },
    {
     "name": "stdout",
     "output_type": "stream",
     "text": [
      "  \n",
      "20"
     ]
    },
    {
     "name": "stderr",
     "output_type": "stream",
     "text": [
      "WARNING:gensim.models.word2vec:supplied example count (177154) did not equal expected count (2027394)\n"
     ]
    },
    {
     "name": "stdout",
     "output_type": "stream",
     "text": [
      "  \n",
      "21"
     ]
    },
    {
     "name": "stderr",
     "output_type": "stream",
     "text": [
      "WARNING:gensim.models.word2vec:supplied example count (177154) did not equal expected count (2027394)\n"
     ]
    },
    {
     "name": "stdout",
     "output_type": "stream",
     "text": [
      "  \n",
      "22"
     ]
    },
    {
     "name": "stderr",
     "output_type": "stream",
     "text": [
      "WARNING:gensim.models.word2vec:supplied example count (177154) did not equal expected count (2027394)\n"
     ]
    },
    {
     "name": "stdout",
     "output_type": "stream",
     "text": [
      "  \n",
      "23"
     ]
    },
    {
     "name": "stderr",
     "output_type": "stream",
     "text": [
      "WARNING:gensim.models.word2vec:supplied example count (177154) did not equal expected count (2027394)\n"
     ]
    },
    {
     "name": "stdout",
     "output_type": "stream",
     "text": [
      "  \n",
      "24"
     ]
    },
    {
     "name": "stderr",
     "output_type": "stream",
     "text": [
      "WARNING:gensim.models.word2vec:supplied example count (177154) did not equal expected count (2027394)\n"
     ]
    },
    {
     "name": "stdout",
     "output_type": "stream",
     "text": [
      "  \n",
      ".\n",
      "3 :\n",
      "0"
     ]
    },
    {
     "name": "stderr",
     "output_type": "stream",
     "text": [
      "WARNING:gensim.models.word2vec:supplied example count (337542) did not equal expected count (2027394)\n"
     ]
    },
    {
     "name": "stdout",
     "output_type": "stream",
     "text": [
      "  \n",
      "1"
     ]
    },
    {
     "name": "stderr",
     "output_type": "stream",
     "text": [
      "WARNING:gensim.models.word2vec:supplied example count (337542) did not equal expected count (2027394)\n"
     ]
    },
    {
     "name": "stdout",
     "output_type": "stream",
     "text": [
      "  \n",
      "2"
     ]
    },
    {
     "name": "stderr",
     "output_type": "stream",
     "text": [
      "WARNING:gensim.models.word2vec:supplied example count (337542) did not equal expected count (2027394)\n"
     ]
    },
    {
     "name": "stdout",
     "output_type": "stream",
     "text": [
      "  \n",
      "3"
     ]
    },
    {
     "name": "stderr",
     "output_type": "stream",
     "text": [
      "WARNING:gensim.models.word2vec:supplied example count (337542) did not equal expected count (2027394)\n"
     ]
    },
    {
     "name": "stdout",
     "output_type": "stream",
     "text": [
      "  \n",
      "4"
     ]
    },
    {
     "name": "stderr",
     "output_type": "stream",
     "text": [
      "WARNING:gensim.models.word2vec:supplied example count (337542) did not equal expected count (2027394)\n"
     ]
    },
    {
     "name": "stdout",
     "output_type": "stream",
     "text": [
      "  \n",
      "5"
     ]
    },
    {
     "name": "stderr",
     "output_type": "stream",
     "text": [
      "WARNING:gensim.models.word2vec:supplied example count (337542) did not equal expected count (2027394)\n"
     ]
    },
    {
     "name": "stdout",
     "output_type": "stream",
     "text": [
      "  \n",
      "6"
     ]
    },
    {
     "name": "stderr",
     "output_type": "stream",
     "text": [
      "WARNING:gensim.models.word2vec:supplied example count (337542) did not equal expected count (2027394)\n"
     ]
    },
    {
     "name": "stdout",
     "output_type": "stream",
     "text": [
      "  \n",
      "7"
     ]
    },
    {
     "name": "stderr",
     "output_type": "stream",
     "text": [
      "WARNING:gensim.models.word2vec:supplied example count (337542) did not equal expected count (2027394)\n"
     ]
    },
    {
     "name": "stdout",
     "output_type": "stream",
     "text": [
      "  \n",
      "8"
     ]
    },
    {
     "name": "stderr",
     "output_type": "stream",
     "text": [
      "WARNING:gensim.models.word2vec:supplied example count (337542) did not equal expected count (2027394)\n"
     ]
    },
    {
     "name": "stdout",
     "output_type": "stream",
     "text": [
      "  \n",
      "9"
     ]
    },
    {
     "name": "stderr",
     "output_type": "stream",
     "text": [
      "WARNING:gensim.models.word2vec:supplied example count (337542) did not equal expected count (2027394)\n"
     ]
    },
    {
     "name": "stdout",
     "output_type": "stream",
     "text": [
      "  \n",
      "10"
     ]
    },
    {
     "name": "stderr",
     "output_type": "stream",
     "text": [
      "WARNING:gensim.models.word2vec:supplied example count (337542) did not equal expected count (2027394)\n"
     ]
    },
    {
     "name": "stdout",
     "output_type": "stream",
     "text": [
      "  \n",
      "11"
     ]
    },
    {
     "name": "stderr",
     "output_type": "stream",
     "text": [
      "WARNING:gensim.models.word2vec:supplied example count (337542) did not equal expected count (2027394)\n"
     ]
    },
    {
     "name": "stdout",
     "output_type": "stream",
     "text": [
      "  \n",
      "12"
     ]
    },
    {
     "name": "stderr",
     "output_type": "stream",
     "text": [
      "WARNING:gensim.models.word2vec:supplied example count (337542) did not equal expected count (2027394)\n"
     ]
    },
    {
     "name": "stdout",
     "output_type": "stream",
     "text": [
      "  \n",
      "13"
     ]
    },
    {
     "name": "stderr",
     "output_type": "stream",
     "text": [
      "WARNING:gensim.models.word2vec:supplied example count (337542) did not equal expected count (2027394)\n"
     ]
    },
    {
     "name": "stdout",
     "output_type": "stream",
     "text": [
      "  \n",
      "14"
     ]
    },
    {
     "name": "stderr",
     "output_type": "stream",
     "text": [
      "WARNING:gensim.models.word2vec:supplied example count (337542) did not equal expected count (2027394)\n"
     ]
    },
    {
     "name": "stdout",
     "output_type": "stream",
     "text": [
      "  \n",
      "15"
     ]
    },
    {
     "name": "stderr",
     "output_type": "stream",
     "text": [
      "WARNING:gensim.models.word2vec:supplied example count (337542) did not equal expected count (2027394)\n"
     ]
    },
    {
     "name": "stdout",
     "output_type": "stream",
     "text": [
      "  \n",
      "16"
     ]
    },
    {
     "name": "stderr",
     "output_type": "stream",
     "text": [
      "WARNING:gensim.models.word2vec:supplied example count (337542) did not equal expected count (2027394)\n"
     ]
    },
    {
     "name": "stdout",
     "output_type": "stream",
     "text": [
      "  \n",
      "17"
     ]
    },
    {
     "name": "stderr",
     "output_type": "stream",
     "text": [
      "WARNING:gensim.models.word2vec:supplied example count (337542) did not equal expected count (2027394)\n"
     ]
    },
    {
     "name": "stdout",
     "output_type": "stream",
     "text": [
      "  \n",
      "18"
     ]
    },
    {
     "name": "stderr",
     "output_type": "stream",
     "text": [
      "WARNING:gensim.models.word2vec:supplied example count (337542) did not equal expected count (2027394)\n"
     ]
    },
    {
     "name": "stdout",
     "output_type": "stream",
     "text": [
      "  \n",
      "19"
     ]
    },
    {
     "name": "stderr",
     "output_type": "stream",
     "text": [
      "WARNING:gensim.models.word2vec:supplied example count (337542) did not equal expected count (2027394)\n"
     ]
    },
    {
     "name": "stdout",
     "output_type": "stream",
     "text": [
      "  \n",
      "20"
     ]
    },
    {
     "name": "stderr",
     "output_type": "stream",
     "text": [
      "WARNING:gensim.models.word2vec:supplied example count (337542) did not equal expected count (2027394)\n"
     ]
    },
    {
     "name": "stdout",
     "output_type": "stream",
     "text": [
      "  \n",
      "21"
     ]
    },
    {
     "name": "stderr",
     "output_type": "stream",
     "text": [
      "WARNING:gensim.models.word2vec:supplied example count (337542) did not equal expected count (2027394)\n"
     ]
    },
    {
     "name": "stdout",
     "output_type": "stream",
     "text": [
      "  \n",
      "22"
     ]
    },
    {
     "name": "stderr",
     "output_type": "stream",
     "text": [
      "WARNING:gensim.models.word2vec:supplied example count (337542) did not equal expected count (2027394)\n"
     ]
    },
    {
     "name": "stdout",
     "output_type": "stream",
     "text": [
      "  \n",
      "23"
     ]
    },
    {
     "name": "stderr",
     "output_type": "stream",
     "text": [
      "WARNING:gensim.models.word2vec:supplied example count (337542) did not equal expected count (2027394)\n"
     ]
    },
    {
     "name": "stdout",
     "output_type": "stream",
     "text": [
      "  \n",
      "24"
     ]
    },
    {
     "name": "stderr",
     "output_type": "stream",
     "text": [
      "WARNING:gensim.models.word2vec:supplied example count (337542) did not equal expected count (2027394)\n"
     ]
    },
    {
     "name": "stdout",
     "output_type": "stream",
     "text": [
      "  \n",
      ".\n",
      "2 :\n",
      "0"
     ]
    },
    {
     "name": "stderr",
     "output_type": "stream",
     "text": [
      "WARNING:gensim.models.word2vec:supplied example count (219741) did not equal expected count (2027394)\n"
     ]
    },
    {
     "name": "stdout",
     "output_type": "stream",
     "text": [
      "  \n",
      "1"
     ]
    },
    {
     "name": "stderr",
     "output_type": "stream",
     "text": [
      "WARNING:gensim.models.word2vec:supplied example count (219741) did not equal expected count (2027394)\n"
     ]
    },
    {
     "name": "stdout",
     "output_type": "stream",
     "text": [
      "  \n",
      "2"
     ]
    },
    {
     "name": "stderr",
     "output_type": "stream",
     "text": [
      "WARNING:gensim.models.word2vec:supplied example count (219741) did not equal expected count (2027394)\n"
     ]
    },
    {
     "name": "stdout",
     "output_type": "stream",
     "text": [
      "  \n",
      "3"
     ]
    },
    {
     "name": "stderr",
     "output_type": "stream",
     "text": [
      "WARNING:gensim.models.word2vec:supplied example count (219741) did not equal expected count (2027394)\n"
     ]
    },
    {
     "name": "stdout",
     "output_type": "stream",
     "text": [
      "  \n",
      "4"
     ]
    },
    {
     "name": "stderr",
     "output_type": "stream",
     "text": [
      "WARNING:gensim.models.word2vec:supplied example count (219741) did not equal expected count (2027394)\n"
     ]
    },
    {
     "name": "stdout",
     "output_type": "stream",
     "text": [
      "  \n",
      "5"
     ]
    },
    {
     "name": "stderr",
     "output_type": "stream",
     "text": [
      "WARNING:gensim.models.word2vec:supplied example count (219741) did not equal expected count (2027394)\n"
     ]
    },
    {
     "name": "stdout",
     "output_type": "stream",
     "text": [
      "  \n",
      "6"
     ]
    },
    {
     "name": "stderr",
     "output_type": "stream",
     "text": [
      "WARNING:gensim.models.word2vec:supplied example count (219741) did not equal expected count (2027394)\n"
     ]
    },
    {
     "name": "stdout",
     "output_type": "stream",
     "text": [
      "  \n",
      "7"
     ]
    },
    {
     "name": "stderr",
     "output_type": "stream",
     "text": [
      "WARNING:gensim.models.word2vec:supplied example count (219741) did not equal expected count (2027394)\n"
     ]
    },
    {
     "name": "stdout",
     "output_type": "stream",
     "text": [
      "  \n",
      "8"
     ]
    },
    {
     "name": "stderr",
     "output_type": "stream",
     "text": [
      "WARNING:gensim.models.word2vec:supplied example count (219741) did not equal expected count (2027394)\n"
     ]
    },
    {
     "name": "stdout",
     "output_type": "stream",
     "text": [
      "  \n",
      "9"
     ]
    },
    {
     "name": "stderr",
     "output_type": "stream",
     "text": [
      "WARNING:gensim.models.word2vec:supplied example count (219741) did not equal expected count (2027394)\n"
     ]
    },
    {
     "name": "stdout",
     "output_type": "stream",
     "text": [
      "  \n",
      "10"
     ]
    },
    {
     "name": "stderr",
     "output_type": "stream",
     "text": [
      "WARNING:gensim.models.word2vec:supplied example count (219741) did not equal expected count (2027394)\n"
     ]
    },
    {
     "name": "stdout",
     "output_type": "stream",
     "text": [
      "  \n",
      "11"
     ]
    },
    {
     "name": "stderr",
     "output_type": "stream",
     "text": [
      "WARNING:gensim.models.word2vec:supplied example count (219741) did not equal expected count (2027394)\n"
     ]
    },
    {
     "name": "stdout",
     "output_type": "stream",
     "text": [
      "  \n",
      "12"
     ]
    },
    {
     "name": "stderr",
     "output_type": "stream",
     "text": [
      "WARNING:gensim.models.word2vec:supplied example count (219741) did not equal expected count (2027394)\n"
     ]
    },
    {
     "name": "stdout",
     "output_type": "stream",
     "text": [
      "  \n",
      "13"
     ]
    },
    {
     "name": "stderr",
     "output_type": "stream",
     "text": [
      "WARNING:gensim.models.word2vec:supplied example count (219741) did not equal expected count (2027394)\n"
     ]
    },
    {
     "name": "stdout",
     "output_type": "stream",
     "text": [
      "  \n",
      "14"
     ]
    },
    {
     "name": "stderr",
     "output_type": "stream",
     "text": [
      "WARNING:gensim.models.word2vec:supplied example count (219741) did not equal expected count (2027394)\n"
     ]
    },
    {
     "name": "stdout",
     "output_type": "stream",
     "text": [
      "  \n",
      "15"
     ]
    },
    {
     "name": "stderr",
     "output_type": "stream",
     "text": [
      "WARNING:gensim.models.word2vec:supplied example count (219741) did not equal expected count (2027394)\n"
     ]
    },
    {
     "name": "stdout",
     "output_type": "stream",
     "text": [
      "  \n",
      "16"
     ]
    },
    {
     "name": "stderr",
     "output_type": "stream",
     "text": [
      "WARNING:gensim.models.word2vec:supplied example count (219741) did not equal expected count (2027394)\n"
     ]
    },
    {
     "name": "stdout",
     "output_type": "stream",
     "text": [
      "  \n",
      "17"
     ]
    },
    {
     "name": "stderr",
     "output_type": "stream",
     "text": [
      "WARNING:gensim.models.word2vec:supplied example count (219741) did not equal expected count (2027394)\n"
     ]
    },
    {
     "name": "stdout",
     "output_type": "stream",
     "text": [
      "  \n",
      "18"
     ]
    },
    {
     "name": "stderr",
     "output_type": "stream",
     "text": [
      "WARNING:gensim.models.word2vec:supplied example count (219741) did not equal expected count (2027394)\n"
     ]
    },
    {
     "name": "stdout",
     "output_type": "stream",
     "text": [
      "  \n",
      "19"
     ]
    },
    {
     "name": "stderr",
     "output_type": "stream",
     "text": [
      "WARNING:gensim.models.word2vec:supplied example count (219741) did not equal expected count (2027394)\n"
     ]
    },
    {
     "name": "stdout",
     "output_type": "stream",
     "text": [
      "  \n",
      "20"
     ]
    },
    {
     "name": "stderr",
     "output_type": "stream",
     "text": [
      "WARNING:gensim.models.word2vec:supplied example count (219741) did not equal expected count (2027394)\n"
     ]
    },
    {
     "name": "stdout",
     "output_type": "stream",
     "text": [
      "  \n",
      "21"
     ]
    },
    {
     "name": "stderr",
     "output_type": "stream",
     "text": [
      "WARNING:gensim.models.word2vec:supplied example count (219741) did not equal expected count (2027394)\n"
     ]
    },
    {
     "name": "stdout",
     "output_type": "stream",
     "text": [
      "  \n",
      "22"
     ]
    },
    {
     "name": "stderr",
     "output_type": "stream",
     "text": [
      "WARNING:gensim.models.word2vec:supplied example count (219741) did not equal expected count (2027394)\n"
     ]
    },
    {
     "name": "stdout",
     "output_type": "stream",
     "text": [
      "  \n",
      "23"
     ]
    },
    {
     "name": "stderr",
     "output_type": "stream",
     "text": [
      "WARNING:gensim.models.word2vec:supplied example count (219741) did not equal expected count (2027394)\n"
     ]
    },
    {
     "name": "stdout",
     "output_type": "stream",
     "text": [
      "  \n",
      "24"
     ]
    },
    {
     "name": "stderr",
     "output_type": "stream",
     "text": [
      "WARNING:gensim.models.word2vec:supplied example count (219741) did not equal expected count (2027394)\n"
     ]
    },
    {
     "name": "stdout",
     "output_type": "stream",
     "text": [
      "  \n",
      ".\n",
      "5 :\n",
      "0"
     ]
    },
    {
     "name": "stderr",
     "output_type": "stream",
     "text": [
      "WARNING:gensim.models.word2vec:supplied example count (607791) did not equal expected count (2027394)\n"
     ]
    },
    {
     "name": "stdout",
     "output_type": "stream",
     "text": [
      "  \n",
      "1"
     ]
    },
    {
     "name": "stderr",
     "output_type": "stream",
     "text": [
      "WARNING:gensim.models.word2vec:supplied example count (607791) did not equal expected count (2027394)\n"
     ]
    },
    {
     "name": "stdout",
     "output_type": "stream",
     "text": [
      "  \n",
      "2"
     ]
    },
    {
     "name": "stderr",
     "output_type": "stream",
     "text": [
      "WARNING:gensim.models.word2vec:supplied example count (607791) did not equal expected count (2027394)\n"
     ]
    },
    {
     "name": "stdout",
     "output_type": "stream",
     "text": [
      "  \n",
      "3"
     ]
    },
    {
     "name": "stderr",
     "output_type": "stream",
     "text": [
      "WARNING:gensim.models.word2vec:supplied example count (607791) did not equal expected count (2027394)\n"
     ]
    },
    {
     "name": "stdout",
     "output_type": "stream",
     "text": [
      "  \n",
      "4"
     ]
    },
    {
     "name": "stderr",
     "output_type": "stream",
     "text": [
      "WARNING:gensim.models.word2vec:supplied example count (607791) did not equal expected count (2027394)\n"
     ]
    },
    {
     "name": "stdout",
     "output_type": "stream",
     "text": [
      "  \n",
      "5"
     ]
    },
    {
     "name": "stderr",
     "output_type": "stream",
     "text": [
      "WARNING:gensim.models.word2vec:supplied example count (607791) did not equal expected count (2027394)\n"
     ]
    },
    {
     "name": "stdout",
     "output_type": "stream",
     "text": [
      "  \n",
      "6"
     ]
    },
    {
     "name": "stderr",
     "output_type": "stream",
     "text": [
      "WARNING:gensim.models.word2vec:supplied example count (607791) did not equal expected count (2027394)\n"
     ]
    },
    {
     "name": "stdout",
     "output_type": "stream",
     "text": [
      "  \n",
      "7"
     ]
    },
    {
     "name": "stderr",
     "output_type": "stream",
     "text": [
      "WARNING:gensim.models.word2vec:supplied example count (607791) did not equal expected count (2027394)\n"
     ]
    },
    {
     "name": "stdout",
     "output_type": "stream",
     "text": [
      "  \n",
      "8"
     ]
    },
    {
     "name": "stderr",
     "output_type": "stream",
     "text": [
      "WARNING:gensim.models.word2vec:supplied example count (607791) did not equal expected count (2027394)\n"
     ]
    },
    {
     "name": "stdout",
     "output_type": "stream",
     "text": [
      "  \n",
      "9"
     ]
    },
    {
     "name": "stderr",
     "output_type": "stream",
     "text": [
      "WARNING:gensim.models.word2vec:supplied example count (607791) did not equal expected count (2027394)\n"
     ]
    },
    {
     "name": "stdout",
     "output_type": "stream",
     "text": [
      "  \n",
      "10"
     ]
    },
    {
     "name": "stderr",
     "output_type": "stream",
     "text": [
      "WARNING:gensim.models.word2vec:supplied example count (607791) did not equal expected count (2027394)\n"
     ]
    },
    {
     "name": "stdout",
     "output_type": "stream",
     "text": [
      "  \n",
      "11"
     ]
    },
    {
     "name": "stderr",
     "output_type": "stream",
     "text": [
      "WARNING:gensim.models.word2vec:supplied example count (607791) did not equal expected count (2027394)\n"
     ]
    },
    {
     "name": "stdout",
     "output_type": "stream",
     "text": [
      "  \n",
      "12"
     ]
    },
    {
     "name": "stderr",
     "output_type": "stream",
     "text": [
      "WARNING:gensim.models.word2vec:supplied example count (607791) did not equal expected count (2027394)\n"
     ]
    },
    {
     "name": "stdout",
     "output_type": "stream",
     "text": [
      "  \n",
      "13"
     ]
    },
    {
     "name": "stderr",
     "output_type": "stream",
     "text": [
      "WARNING:gensim.models.word2vec:supplied example count (607791) did not equal expected count (2027394)\n"
     ]
    },
    {
     "name": "stdout",
     "output_type": "stream",
     "text": [
      "  \n",
      "14"
     ]
    },
    {
     "name": "stderr",
     "output_type": "stream",
     "text": [
      "WARNING:gensim.models.word2vec:supplied example count (607791) did not equal expected count (2027394)\n"
     ]
    },
    {
     "name": "stdout",
     "output_type": "stream",
     "text": [
      "  \n",
      "15"
     ]
    },
    {
     "name": "stderr",
     "output_type": "stream",
     "text": [
      "WARNING:gensim.models.word2vec:supplied example count (607791) did not equal expected count (2027394)\n"
     ]
    },
    {
     "name": "stdout",
     "output_type": "stream",
     "text": [
      "  \n",
      "16"
     ]
    },
    {
     "name": "stderr",
     "output_type": "stream",
     "text": [
      "WARNING:gensim.models.word2vec:supplied example count (607791) did not equal expected count (2027394)\n"
     ]
    },
    {
     "name": "stdout",
     "output_type": "stream",
     "text": [
      "  \n",
      "17"
     ]
    },
    {
     "name": "stderr",
     "output_type": "stream",
     "text": [
      "WARNING:gensim.models.word2vec:supplied example count (607791) did not equal expected count (2027394)\n"
     ]
    },
    {
     "name": "stdout",
     "output_type": "stream",
     "text": [
      "  \n",
      "18"
     ]
    },
    {
     "name": "stderr",
     "output_type": "stream",
     "text": [
      "WARNING:gensim.models.word2vec:supplied example count (607791) did not equal expected count (2027394)\n"
     ]
    },
    {
     "name": "stdout",
     "output_type": "stream",
     "text": [
      "  \n",
      "19"
     ]
    },
    {
     "name": "stderr",
     "output_type": "stream",
     "text": [
      "WARNING:gensim.models.word2vec:supplied example count (607791) did not equal expected count (2027394)\n"
     ]
    },
    {
     "name": "stdout",
     "output_type": "stream",
     "text": [
      "  \n",
      "20"
     ]
    },
    {
     "name": "stderr",
     "output_type": "stream",
     "text": [
      "WARNING:gensim.models.word2vec:supplied example count (607791) did not equal expected count (2027394)\n"
     ]
    },
    {
     "name": "stdout",
     "output_type": "stream",
     "text": [
      "  \n",
      "21"
     ]
    },
    {
     "name": "stderr",
     "output_type": "stream",
     "text": [
      "WARNING:gensim.models.word2vec:supplied example count (607791) did not equal expected count (2027394)\n"
     ]
    },
    {
     "name": "stdout",
     "output_type": "stream",
     "text": [
      "  \n",
      "22"
     ]
    },
    {
     "name": "stderr",
     "output_type": "stream",
     "text": [
      "WARNING:gensim.models.word2vec:supplied example count (607791) did not equal expected count (2027394)\n"
     ]
    },
    {
     "name": "stdout",
     "output_type": "stream",
     "text": [
      "  \n",
      "23"
     ]
    },
    {
     "name": "stderr",
     "output_type": "stream",
     "text": [
      "WARNING:gensim.models.word2vec:supplied example count (607791) did not equal expected count (2027394)\n"
     ]
    },
    {
     "name": "stdout",
     "output_type": "stream",
     "text": [
      "  \n",
      "24"
     ]
    },
    {
     "name": "stderr",
     "output_type": "stream",
     "text": [
      "WARNING:gensim.models.word2vec:supplied example count (607791) did not equal expected count (2027394)\n"
     ]
    },
    {
     "name": "stdout",
     "output_type": "stream",
     "text": [
      "  \n",
      ".\n",
      "4 :\n",
      "0"
     ]
    },
    {
     "name": "stderr",
     "output_type": "stream",
     "text": [
      "WARNING:gensim.models.word2vec:supplied example count (685166) did not equal expected count (2027394)\n"
     ]
    },
    {
     "name": "stdout",
     "output_type": "stream",
     "text": [
      "  \n",
      "1"
     ]
    },
    {
     "name": "stderr",
     "output_type": "stream",
     "text": [
      "WARNING:gensim.models.word2vec:supplied example count (685166) did not equal expected count (2027394)\n"
     ]
    },
    {
     "name": "stdout",
     "output_type": "stream",
     "text": [
      "  \n",
      "2"
     ]
    },
    {
     "name": "stderr",
     "output_type": "stream",
     "text": [
      "WARNING:gensim.models.word2vec:supplied example count (685166) did not equal expected count (2027394)\n"
     ]
    },
    {
     "name": "stdout",
     "output_type": "stream",
     "text": [
      "  \n",
      "3"
     ]
    },
    {
     "name": "stderr",
     "output_type": "stream",
     "text": [
      "WARNING:gensim.models.word2vec:supplied example count (685166) did not equal expected count (2027394)\n"
     ]
    },
    {
     "name": "stdout",
     "output_type": "stream",
     "text": [
      "  \n",
      "4"
     ]
    },
    {
     "name": "stderr",
     "output_type": "stream",
     "text": [
      "WARNING:gensim.models.word2vec:supplied example count (685166) did not equal expected count (2027394)\n"
     ]
    },
    {
     "name": "stdout",
     "output_type": "stream",
     "text": [
      "  \n",
      "5"
     ]
    },
    {
     "name": "stderr",
     "output_type": "stream",
     "text": [
      "WARNING:gensim.models.word2vec:supplied example count (685166) did not equal expected count (2027394)\n"
     ]
    },
    {
     "name": "stdout",
     "output_type": "stream",
     "text": [
      "  \n",
      "6"
     ]
    },
    {
     "name": "stderr",
     "output_type": "stream",
     "text": [
      "WARNING:gensim.models.word2vec:supplied example count (685166) did not equal expected count (2027394)\n"
     ]
    },
    {
     "name": "stdout",
     "output_type": "stream",
     "text": [
      "  \n",
      "7"
     ]
    },
    {
     "name": "stderr",
     "output_type": "stream",
     "text": [
      "WARNING:gensim.models.word2vec:supplied example count (685166) did not equal expected count (2027394)\n"
     ]
    },
    {
     "name": "stdout",
     "output_type": "stream",
     "text": [
      "  \n",
      "8"
     ]
    },
    {
     "name": "stderr",
     "output_type": "stream",
     "text": [
      "WARNING:gensim.models.word2vec:supplied example count (685166) did not equal expected count (2027394)\n"
     ]
    },
    {
     "name": "stdout",
     "output_type": "stream",
     "text": [
      "  \n",
      "9"
     ]
    },
    {
     "name": "stderr",
     "output_type": "stream",
     "text": [
      "WARNING:gensim.models.word2vec:supplied example count (685166) did not equal expected count (2027394)\n"
     ]
    },
    {
     "name": "stdout",
     "output_type": "stream",
     "text": [
      "  \n",
      "10"
     ]
    },
    {
     "name": "stderr",
     "output_type": "stream",
     "text": [
      "WARNING:gensim.models.word2vec:supplied example count (685166) did not equal expected count (2027394)\n"
     ]
    },
    {
     "name": "stdout",
     "output_type": "stream",
     "text": [
      "  \n",
      "11"
     ]
    },
    {
     "name": "stderr",
     "output_type": "stream",
     "text": [
      "WARNING:gensim.models.word2vec:supplied example count (685166) did not equal expected count (2027394)\n"
     ]
    },
    {
     "name": "stdout",
     "output_type": "stream",
     "text": [
      "  \n",
      "12"
     ]
    },
    {
     "name": "stderr",
     "output_type": "stream",
     "text": [
      "WARNING:gensim.models.word2vec:supplied example count (685166) did not equal expected count (2027394)\n"
     ]
    },
    {
     "name": "stdout",
     "output_type": "stream",
     "text": [
      "  \n",
      "13"
     ]
    },
    {
     "name": "stderr",
     "output_type": "stream",
     "text": [
      "WARNING:gensim.models.word2vec:supplied example count (685166) did not equal expected count (2027394)\n"
     ]
    },
    {
     "name": "stdout",
     "output_type": "stream",
     "text": [
      "  \n",
      "14"
     ]
    },
    {
     "name": "stderr",
     "output_type": "stream",
     "text": [
      "WARNING:gensim.models.word2vec:supplied example count (685166) did not equal expected count (2027394)\n"
     ]
    },
    {
     "name": "stdout",
     "output_type": "stream",
     "text": [
      "  \n",
      "15"
     ]
    },
    {
     "name": "stderr",
     "output_type": "stream",
     "text": [
      "WARNING:gensim.models.word2vec:supplied example count (685166) did not equal expected count (2027394)\n"
     ]
    },
    {
     "name": "stdout",
     "output_type": "stream",
     "text": [
      "  \n",
      "16"
     ]
    },
    {
     "name": "stderr",
     "output_type": "stream",
     "text": [
      "WARNING:gensim.models.word2vec:supplied example count (685166) did not equal expected count (2027394)\n"
     ]
    },
    {
     "name": "stdout",
     "output_type": "stream",
     "text": [
      "  \n",
      "17"
     ]
    },
    {
     "name": "stderr",
     "output_type": "stream",
     "text": [
      "WARNING:gensim.models.word2vec:supplied example count (685166) did not equal expected count (2027394)\n"
     ]
    },
    {
     "name": "stdout",
     "output_type": "stream",
     "text": [
      "  \n",
      "18"
     ]
    },
    {
     "name": "stderr",
     "output_type": "stream",
     "text": [
      "WARNING:gensim.models.word2vec:supplied example count (685166) did not equal expected count (2027394)\n"
     ]
    },
    {
     "name": "stdout",
     "output_type": "stream",
     "text": [
      "  \n",
      "19"
     ]
    },
    {
     "name": "stderr",
     "output_type": "stream",
     "text": [
      "WARNING:gensim.models.word2vec:supplied example count (685166) did not equal expected count (2027394)\n"
     ]
    },
    {
     "name": "stdout",
     "output_type": "stream",
     "text": [
      "  \n",
      "20"
     ]
    },
    {
     "name": "stderr",
     "output_type": "stream",
     "text": [
      "WARNING:gensim.models.word2vec:supplied example count (685166) did not equal expected count (2027394)\n"
     ]
    },
    {
     "name": "stdout",
     "output_type": "stream",
     "text": [
      "  \n",
      "21"
     ]
    },
    {
     "name": "stderr",
     "output_type": "stream",
     "text": [
      "WARNING:gensim.models.word2vec:supplied example count (685166) did not equal expected count (2027394)\n"
     ]
    },
    {
     "name": "stdout",
     "output_type": "stream",
     "text": [
      "  \n",
      "22"
     ]
    },
    {
     "name": "stderr",
     "output_type": "stream",
     "text": [
      "WARNING:gensim.models.word2vec:supplied example count (685166) did not equal expected count (2027394)\n"
     ]
    },
    {
     "name": "stdout",
     "output_type": "stream",
     "text": [
      "  \n",
      "23"
     ]
    },
    {
     "name": "stderr",
     "output_type": "stream",
     "text": [
      "WARNING:gensim.models.word2vec:supplied example count (685166) did not equal expected count (2027394)\n"
     ]
    },
    {
     "name": "stdout",
     "output_type": "stream",
     "text": [
      "  \n",
      "24"
     ]
    },
    {
     "name": "stderr",
     "output_type": "stream",
     "text": [
      "WARNING:gensim.models.word2vec:supplied example count (685166) did not equal expected count (2027394)\n"
     ]
    },
    {
     "name": "stdout",
     "output_type": "stream",
     "text": [
      "  \n",
      ".\n"
     ]
    }
   ],
   "source": [
    "model = {}\n",
    "reviews = {}\n",
    "model = { g: deepcopy(jointmodel) for g in docgrp_fine }\n",
    "for g in docgrp_fine:\n",
    "    print g, \":\"\n",
    "    reviews[g] = preprocessed_train_df[preprocessed_train_df['stars']==docgrp_fine[g]].txt\n",
    "    model[g] = deepcopy(jointmodel)\n",
    "    trainW2V( g,T=25 )"
   ]
  },
  {
   "cell_type": "code",
   "execution_count": 19,
   "metadata": {
    "collapsed": false
   },
   "outputs": [
    {
     "name": "stdout",
     "output_type": "stream",
     "text": [
      "CPU times: user 2.43 s, sys: 174 ms, total: 2.61 s\n",
      "Wall time: 2.58 s\n",
      "        mcr     n\n",
      "1  0.251681  2380\n",
      "2  0.643381  2047\n",
      "3  0.649000  2849\n",
      "4  0.557606  6883\n",
      "5  0.268614  8797\n",
      "\n",
      "Overall Fine-Scale MCR: 0.434\n"
     ]
    }
   ],
   "source": [
    "## by average 25 iterations\n",
    "%time preprocessed_test_df = YelpReviews(test_df)\n",
    "testrev = {}\n",
    "probs = {}\n",
    "yhat = {}\n",
    "for g in docgrp_fine:\n",
    "    testrev[g] =  preprocessed_test_df[preprocessed_test_df['stars']==docgrp_fine[g]].txt.values\n",
    "    probs[g] = getprobs(testrev[g], docgrp_fine)\n",
    "    yhat[g] = probs[g].idxmax(\"columns\")\n",
    "\n",
    "mc_fine = pd.DataFrame({\n",
    "    'mcr': {g: (yhat[g] != g).mean() for g in docgrp_fine},\n",
    "    'n': {g: len(testrev[g]) for g in docgrp_fine}\n",
    "    })\n",
    "print(mc_fine)\n",
    "\n",
    "ntest = mc_fine['n'].sum()\n",
    "overall_fine = mc_fine.product(\"columns\").sum()/ntest\n",
    "print(\"\\nOverall Fine-Scale MCR: %.3f\" %overall_fine)"
   ]
  },
  {
   "cell_type": "code",
   "execution_count": 20,
   "metadata": {
    "collapsed": false,
    "scrolled": true
   },
   "outputs": [
    {
     "name": "stdout",
     "output_type": "stream",
     "text": [
      "        mcr     n\n",
      "1  0.309244  2380\n",
      "2  0.600391  2047\n",
      "3  0.607231  2849\n",
      "4  0.466512  6883\n",
      "5  0.320450  8797\n",
      "\n",
      "Overall Fine-Scale MCR: 0.424\n"
     ]
    }
   ],
   "source": [
    "## by product 25 iterations\n",
    "for g in docgrp_fine:\n",
    "    testrev[g] =  preprocessed_test_df[preprocessed_test_df['stars']==docgrp_fine[g]].txt.values\n",
    "    probs[g] = getprobs(testrev[g], docgrp_fine, by='product')\n",
    "    yhat[g] = probs[g].idxmax(\"columns\")\n",
    "\n",
    "mc_fine = pd.DataFrame({\n",
    "    'mcr': {g: (yhat[g] != g).mean() for g in docgrp_fine},\n",
    "    'n': {g: len(testrev[g]) for g in docgrp_fine}\n",
    "    })\n",
    "print(mc_fine)\n",
    "\n",
    "ntest = mc_fine['n'].sum()\n",
    "overall_fine = mc_fine.product(\"columns\").sum()/ntest\n",
    "print(\"\\nOverall Fine-Scale MCR: %.3f\" %overall_fine)"
   ]
  },
  {
   "cell_type": "code",
   "execution_count": 21,
   "metadata": {
    "collapsed": false
   },
   "outputs": [],
   "source": [
    "groups = ['1','2','3','4','5']\n",
    "prediction_a = getprobs(preprocessed_test_df.txt.values,groups)\n",
    "prediction_a['label'] = pd.Series(preprocessed_test_df.stars.values,index=prediction_a.index)\n",
    "prediction_a['prediction'] = pd.Series(prediction_a[groups].idxmax('columns').values,index=prediction_a.index).astype(np.float64)\n",
    "prediction_a['txt'] = pd.Series(preprocessed_test_df.txt.values,index=prediction_a.index)\n",
    "\n",
    "\n",
    "prediction_p = getprobs(preprocessed_test_df.txt.values,groups,by='product')\n",
    "prediction_p['label'] = pd.Series(preprocessed_test_df.stars.values,index=prediction_p.index)\n",
    "prediction_p['prediction'] = pd.Series(prediction_p[groups].idxmax('columns').values,index=prediction_p.index).astype(np.float64)\n",
    "prediction_p['txt'] = pd.Series(preprocessed_test_df.txt.values,index=prediction_p.index)\n",
    "prediction_p=prediction_p.fillna(1)"
   ]
  },
  {
   "cell_type": "code",
   "execution_count": 23,
   "metadata": {
    "collapsed": false
   },
   "outputs": [
    {
     "data": {
      "text/plain": [
       "array([[1781,  619,  314,  295,  408],\n",
       "       [ 396,  730,  398,  182,   55],\n",
       "       [  84,  429, 1000,  864,  192],\n",
       "       [  55,  172,  809, 3045, 1708],\n",
       "       [  64,   97,  328, 2497, 6434]])"
      ]
     },
     "execution_count": 23,
     "metadata": {},
     "output_type": "execute_result"
    }
   ],
   "source": [
    "from sklearn.metrics import confusion_matrix\n",
    "confusion_matrix(prediction_a.prediction.values,prediction_a.label.values)"
   ]
  },
  {
   "cell_type": "code",
   "execution_count": 24,
   "metadata": {
    "collapsed": false
   },
   "outputs": [
    {
     "data": {
      "text/plain": [
       "array([[1653,  471,  227,  214,  350],\n",
       "       [ 520,  818,  421,  156,   51],\n",
       "       [ 113,  532, 1119,  900,  199],\n",
       "       [  49,  186,  877, 3672, 2219],\n",
       "       [  45,   40,  205, 1941, 5978]])"
      ]
     },
     "execution_count": 24,
     "metadata": {},
     "output_type": "execute_result"
    }
   ],
   "source": [
    "confusion_matrix(prediction_p.prediction.values.astype(np.int),prediction_p.label.values)"
   ]
  },
  {
   "cell_type": "code",
   "execution_count": 25,
   "metadata": {
    "collapsed": false,
    "scrolled": true
   },
   "outputs": [
    {
     "data": {
      "image/png": "[encoded data removed]",
      "text/plain": [
       "<matplotlib.figure.Figure at 0x7f22b64e0310>"
      ]
     },
     "metadata": {},
     "output_type": "display_data"
    }
   ],
   "source": [
    "import matplotlib.pylab as plt\n",
    "%matplotlib inline\n",
    "pred_probs_a = prediction_a[groups].values.max(axis=1)\n",
    "_= plt.hist(pred_probs_a,bins=50)"
   ]
  },
  {
   "cell_type": "code",
   "execution_count": 26,
   "metadata": {
    "collapsed": false,
    "scrolled": false
   },
   "outputs": [
    {
     "data": {
      "image/png": "[encoded data removed]",
      "text/plain": [
       "<matplotlib.figure.Figure at 0x7f22bcacccd0>"
      ]
     },
     "metadata": {},
     "output_type": "display_data"
    }
   ],
   "source": [
    "import matplotlib.pylab as plt\n",
    "%matplotlib inline\n",
    "pred_probs_p = prediction_p[groups].values.max(axis=1)\n",
    "_= plt.hist(pred_probs_p,bins=50)"
   ]
  },
  {
   "cell_type": "markdown",
   "metadata": {},
   "source": [
    "### Overall distribution for log probability of sentences"
   ]
  },
  {
   "cell_type": "code",
   "execution_count": 82,
   "metadata": {
    "collapsed": false
   },
   "outputs": [
    {
     "data": {
      "image/png": "[encoded data removed]",
      "text/plain": [
       "<matplotlib.figure.Figure at 0x7f22b8886350>"
      ]
     },
     "metadata": {},
     "output_type": "display_data"
    }
   ],
   "source": [
    "c = 5\n",
    "log_probs = []\n",
    "index = (prediction_a.label == c)\n",
    "n = np.where(index)[0].shape[0]\n",
    "for i in range(300):\n",
    "    sentences = prediction_a[index].txt.values[i]\n",
    "    data = []\n",
    "    data = model[str(c)].score(sentences)\n",
    "    log_probs.append(data)\n",
    "log_probs = np.concatenate(log_probs)\n",
    "_=plt.hist(log_probs,bins=200,normed=True)"
   ]
  },
  {
   "cell_type": "code",
   "execution_count": 83,
   "metadata": {
    "collapsed": false
   },
   "outputs": [
    {
     "data": {
      "image/png": "[encoded data removed]",
      "text/plain": [
       "<matplotlib.figure.Figure at 0x7f22b8c7b450>"
      ]
     },
     "metadata": {},
     "output_type": "display_data"
    }
   ],
   "source": [
    "c = 4\n",
    "log_probs = []\n",
    "index = (prediction_a.label == c)\n",
    "n = np.where(index)[0].shape[0]\n",
    "for i in range(300):\n",
    "    sentences = prediction_a[index].txt.values[i]\n",
    "    data = []\n",
    "    data = model[str(c)].score(sentences)\n",
    "    log_probs.append(data)\n",
    "log_probs = np.concatenate(log_probs)\n",
    "_=plt.hist(log_probs,bins=200,normed=True)"
   ]
  },
  {
   "cell_type": "code",
   "execution_count": 84,
   "metadata": {
    "collapsed": false
   },
   "outputs": [
    {
     "data": {
      "image/png": "[encoded data removed]",
      "text/plain": [
       "<matplotlib.figure.Figure at 0x7f22b8c7b4d0>"
      ]
     },
     "metadata": {},
     "output_type": "display_data"
    }
   ],
   "source": [
    "c = 3\n",
    "log_probs = []\n",
    "index = (prediction_a.label == c)\n",
    "n = np.where(index)[0].shape[0]\n",
    "for i in range(300):\n",
    "    sentences = prediction_a[index].txt.values[i]\n",
    "    data = []\n",
    "    data = model[str(c)].score(sentences)\n",
    "    log_probs.append(data)\n",
    "log_probs = np.concatenate(log_probs)\n",
    "_=plt.hist(log_probs,bins=200,normed=True)"
   ]
  },
  {
   "cell_type": "code",
   "execution_count": 85,
   "metadata": {
    "collapsed": false
   },
   "outputs": [
    {
     "data": {
      "image/png": "[encoded data removed]",
      "text/plain": [
       "<matplotlib.figure.Figure at 0x7f22b8c7b490>"
      ]
     },
     "metadata": {},
     "output_type": "display_data"
    }
   ],
   "source": [
    "c = 2\n",
    "log_probs = []\n",
    "index = (prediction_a.label == c)\n",
    "n = np.where(index)[0].shape[0]\n",
    "for i in range(300):\n",
    "    sentences = prediction_a[index].txt.values[i]\n",
    "    data = []\n",
    "    data = model[str(c)].score(sentences)\n",
    "    log_probs.append(data)\n",
    "log_probs = np.concatenate(log_probs)\n",
    "_=plt.hist(log_probs,bins=200,normed=True)"
   ]
  },
  {
   "cell_type": "code",
   "execution_count": 86,
   "metadata": {
    "collapsed": false
   },
   "outputs": [
    {
     "data": {
      "image/png": "[encoded data removed]",
      "text/plain": [
       "<matplotlib.figure.Figure at 0x7f22b8413c50>"
      ]
     },
     "metadata": {},
     "output_type": "display_data"
    }
   ],
   "source": [
    "c = 1\n",
    "log_probs = []\n",
    "index = (prediction_a.label == c)\n",
    "n = np.where(index)[0].shape[0]\n",
    "for i in range(300):\n",
    "    sentences = prediction_a[index].txt.values[i]\n",
    "    data = []\n",
    "    data = model[str(c)].score(sentences)\n",
    "    log_probs.append(data)\n",
    "log_probs = np.concatenate(log_probs)\n",
    "_=plt.hist(log_probs,bins=200,normed=True)"
   ]
  },
  {
   "cell_type": "code",
   "execution_count": 107,
   "metadata": {
    "collapsed": false
   },
   "outputs": [],
   "source": [
    "from scipy.stats import skew"
   ]
  },
  {
   "cell_type": "markdown",
   "metadata": {},
   "source": [
    "### Difference with others"
   ]
  },
  {
   "cell_type": "code",
   "execution_count": 125,
   "metadata": {
    "collapsed": false
   },
   "outputs": [
    {
     "name": "stdout",
     "output_type": "stream",
     "text": [
      "208.59 -148.562 0.264215 18.5224 0.638199567795\n"
     ]
    },
    {
     "data": {
      "image/png": "[encoded data removed]",
      "text/plain": [
       "<matplotlib.figure.Figure at 0x7f22bce86e10>"
      ]
     },
     "metadata": {},
     "output_type": "display_data"
    }
   ],
   "source": [
    "c = 5\n",
    "diff =[]\n",
    "index = (prediction_a.label == c)\n",
    "n = 300 #np.where(index)[0].shape[0]\n",
    "for i in range(n):\n",
    "    sentences = prediction_a[index].txt.values[i]\n",
    "    data_others = []\n",
    "    for g in groups:\n",
    "        if g != str(c):\n",
    "            data_others.append(model[g].score(sentences))\n",
    "    data_others=np.array(data_others)\n",
    "    data = model[str(c)].score(sentences)\n",
    "    dif =  data - data_others.max(axis=0)\n",
    "    diff.append(dif)\n",
    "diff = np.concatenate(diff)\n",
    "_=plt.hist(diff,bins=200,normed=True)\n",
    "\n",
    "print diff.max(),diff.min(),diff.mean(),diff.std(),skew(diff)"
   ]
  },
  {
   "cell_type": "code",
   "execution_count": 126,
   "metadata": {
    "collapsed": false
   },
   "outputs": [
    {
     "name": "stdout",
     "output_type": "stream",
     "text": [
      "55.6381 -218.591 -4.14398 13.5104 -2.90807366371\n"
     ]
    },
    {
     "data": {
      "image/png": "[encoded data removed]",
      "text/plain": [
       "<matplotlib.figure.Figure at 0x7f22b8ef26d0>"
      ]
     },
     "metadata": {},
     "output_type": "display_data"
    }
   ],
   "source": [
    "c = 4\n",
    "diff =[]\n",
    "index = (prediction_a.label == c)\n",
    "n = 300 #np.where(index)[0].shape[0]\n",
    "for i in range(n):\n",
    "    sentences = prediction_a[index].txt.values[i]\n",
    "    data_others = []\n",
    "    for g in groups:\n",
    "        if g != str(c):\n",
    "            data_others.append(model[g].score(sentences))\n",
    "    data_others=np.array(data_others)\n",
    "    data = model[str(c)].score(sentences)\n",
    "    dif =  data - data_others.max(axis=0)\n",
    "    diff.append(dif)\n",
    "diff = np.concatenate(diff)\n",
    "_=plt.hist(diff,bins=200,normed=True)\n",
    "print diff.max(),diff.min(),diff.mean(),diff.std(),skew(diff)"
   ]
  },
  {
   "cell_type": "code",
   "execution_count": 127,
   "metadata": {
    "collapsed": false
   },
   "outputs": [
    {
     "name": "stdout",
     "output_type": "stream",
     "text": [
      "55.6381 -218.591 -4.14398 13.5104 -2.90807366371\n"
     ]
    },
    {
     "data": {
      "image/png": "[encoded data removed]",
      "text/plain": [
       "<matplotlib.figure.Figure at 0x7f22b901e990>"
      ]
     },
     "metadata": {},
     "output_type": "display_data"
    }
   ],
   "source": [
    "c = 4\n",
    "diff =[]\n",
    "index = (prediction_a.label == c)\n",
    "n = 300 #np.where(index)[0].shape[0]\n",
    "for i in range(n):\n",
    "    sentences = prediction_a[index].txt.values[i]\n",
    "    data_others = []\n",
    "    for g in groups:\n",
    "        if g != str(c):\n",
    "            data_others.append(model[g].score(sentences))\n",
    "    data_others=np.array(data_others)\n",
    "    data = model[str(c)].score(sentences)\n",
    "    dif =  data - data_others.max(axis=0)\n",
    "    diff.append(dif)\n",
    "diff = np.concatenate(diff)\n",
    "_=plt.hist(diff,bins=200,normed=True)\n",
    "print diff.max(),diff.min(),diff.mean(),diff.std(),skew(diff)"
   ]
  },
  {
   "cell_type": "code",
   "execution_count": 128,
   "metadata": {
    "collapsed": false
   },
   "outputs": [
    {
     "name": "stdout",
     "output_type": "stream",
     "text": [
      "60.7549 -449.364 -7.94098 18.5253 -7.0327501297\n"
     ]
    },
    {
     "data": {
      "image/png": "[encoded data removed]",
      "text/plain": [
       "<matplotlib.figure.Figure at 0x7f22b8ef6390>"
      ]
     },
     "metadata": {},
     "output_type": "display_data"
    }
   ],
   "source": [
    "c = 3\n",
    "diff =[]\n",
    "index = (prediction_a.label == c)\n",
    "n = 300 #np.where(index)[0].shape[0]\n",
    "for i in range(n):\n",
    "    sentences = prediction_a[index].txt.values[i]\n",
    "    data_others = []\n",
    "    for g in groups:\n",
    "        if g != str(c):\n",
    "            data_others.append(model[g].score(sentences))\n",
    "    data_others=np.array(data_others)\n",
    "    data = model[str(c)].score(sentences)\n",
    "    dif =  data - data_others.max(axis=0)\n",
    "    diff.append(dif)\n",
    "diff = np.concatenate(diff)\n",
    "_=plt.hist(diff,bins=200,normed=True)\n",
    "print diff.max(),diff.min(),diff.mean(),diff.std(),skew(diff)"
   ]
  },
  {
   "cell_type": "code",
   "execution_count": 129,
   "metadata": {
    "collapsed": false
   },
   "outputs": [
    {
     "name": "stdout",
     "output_type": "stream",
     "text": [
      "48.4174 -196.065 -7.78312 16.7122 -2.41050958633\n"
     ]
    },
    {
     "data": {
      "image/png": "[encoded data removed]",
      "text/plain": [
       "<matplotlib.figure.Figure at 0x7f22b9a2a790>"
      ]
     },
     "metadata": {},
     "output_type": "display_data"
    }
   ],
   "source": [
    "c = 2\n",
    "diff =[]\n",
    "index = (prediction_a.label == c)\n",
    "n = 300 #np.where(index)[0].shape[0]\n",
    "for i in range(n):\n",
    "    sentences = prediction_a[index].txt.values[i]\n",
    "    data_others = []\n",
    "    for g in groups:\n",
    "        if g != str(c):\n",
    "            data_others.append(model[g].score(sentences))\n",
    "    data_others=np.array(data_others)\n",
    "    data = model[str(c)].score(sentences)\n",
    "    dif =  data - data_others.max(axis=0)\n",
    "    diff.append(dif)\n",
    "diff = np.concatenate(diff)\n",
    "_=plt.hist(diff,bins=200,normed=True)\n",
    "print diff.max(),diff.min(),diff.mean(),diff.std(),skew(diff)"
   ]
  },
  {
   "cell_type": "code",
   "execution_count": 130,
   "metadata": {
    "collapsed": false
   },
   "outputs": [
    {
     "name": "stdout",
     "output_type": "stream",
     "text": [
      "319.826 -155.264 5.20374 28.0665 1.72677206993\n"
     ]
    },
    {
     "data": {
      "image/png": "[encoded data removed]",
      "text/plain": [
       "<matplotlib.figure.Figure at 0x7f22baaaed90>"
      ]
     },
     "metadata": {},
     "output_type": "display_data"
    }
   ],
   "source": [
    "c = 1\n",
    "diff =[]\n",
    "index = (prediction_a.label == c)\n",
    "n = 300 #np.where(index)[0].shape[0]\n",
    "for i in range(n):\n",
    "    sentences = prediction_a[index].txt.values[i]\n",
    "    data_others = []\n",
    "    for g in groups:\n",
    "        if g != str(c):\n",
    "            data_others.append(model[g].score(sentences))\n",
    "    data_others=np.array(data_others)\n",
    "    data = model[str(c)].score(sentences)\n",
    "    dif =  data - data_others.max(axis=0)\n",
    "    diff.append(dif)\n",
    "diff = np.concatenate(diff)\n",
    "_=plt.hist(diff,bins=200,normed=True)\n",
    "print diff.max(),diff.min(),diff.mean(),diff.std(),skew(diff)"
   ]
  },
  {
   "cell_type": "markdown",
   "metadata": {},
   "source": [
    "### Difference in log probability between sentences in a class\n",
    "#### - right prediction (product) & wrong prediciction (avearage)\n",
    "#### - difference = log_prob|c - max(log_prob| not in c)"
   ]
  },
  {
   "cell_type": "code",
   "execution_count": 131,
   "metadata": {
    "collapsed": false
   },
   "outputs": [
    {
     "name": "stdout",
     "output_type": "stream",
     "text": [
      "95.1659 -91.2968 -1.50078 15.5585 0.708230018616\n"
     ]
    },
    {
     "data": {
      "image/png": "[encoded data removed]",
      "text/plain": [
       "<matplotlib.figure.Figure at 0x7f22be21dfd0>"
      ]
     },
     "metadata": {},
     "output_type": "display_data"
    }
   ],
   "source": [
    "c = 5\n",
    "diff =[]\n",
    "index = (prediction_a.prediction != c) & (prediction_p.prediction == c) & (prediction_a.label == c)\n",
    "n = np.where(index)[0].shape[0]\n",
    "for i in range(n):\n",
    "    sentences = prediction_a[index].txt.values[i]\n",
    "    data_others = []\n",
    "    for g in groups:\n",
    "        if g != str(c):\n",
    "            data_others.append(model[g].score(sentences))\n",
    "    data_others=np.array(data_others)\n",
    "    data = model[str(c)].score(sentences)\n",
    "    dif =  data - data_others.max(axis=0)\n",
    "    diff.append(dif)\n",
    "diff = np.concatenate(diff)\n",
    "_=plt.hist(diff,bins=200,normed=True)\n",
    "print diff.max(),diff.min(),diff.mean(),diff.std(),skew(diff)"
   ]
  },
  {
   "cell_type": "code",
   "execution_count": 132,
   "metadata": {
    "collapsed": false
   },
   "outputs": [
    {
     "name": "stdout",
     "output_type": "stream",
     "text": [
      "83.009 -145.392 -4.06961 10.9705 -1.27268207073\n"
     ]
    },
    {
     "data": {
      "image/png": "[encoded data removed]",
      "text/plain": [
       "<matplotlib.figure.Figure at 0x7f22b82da890>"
      ]
     },
     "metadata": {},
     "output_type": "display_data"
    }
   ],
   "source": [
    "c = 4\n",
    "diff =[]\n",
    "index = (prediction_a.prediction != c) & (prediction_p.prediction == c) & (prediction_a.label == c)\n",
    "n = np.where(index)[0].shape[0]\n",
    "for i in range(n):\n",
    "    sentences = prediction_a[index].txt.values[i]\n",
    "    data_others = []\n",
    "    for g in groups:\n",
    "        if g != str(c):\n",
    "            data_others.append(model[g].score(sentences))\n",
    "    data_others=np.array(data_others)\n",
    "    data = model[str(c)].score(sentences)\n",
    "    dif =  data - data_others.max(axis=0)\n",
    "    diff.append(dif)\n",
    "diff = np.concatenate(diff)\n",
    "_=plt.hist(diff,bins=200,normed=True)\n",
    "print diff.max(),diff.min(),diff.mean(),diff.std(),skew(diff)"
   ]
  },
  {
   "cell_type": "code",
   "execution_count": 133,
   "metadata": {
    "collapsed": false
   },
   "outputs": [
    {
     "name": "stdout",
     "output_type": "stream",
     "text": [
      "84.5952 -96.3613 -5.23491 11.2207 -1.26486623287\n"
     ]
    },
    {
     "data": {
      "image/png": "[encoded data removed]",
      "text/plain": [
       "<matplotlib.figure.Figure at 0x7f22b8c49790>"
      ]
     },
     "metadata": {},
     "output_type": "display_data"
    }
   ],
   "source": [
    "c = 3\n",
    "diff =[]\n",
    "index = (prediction_a.prediction != c) & (prediction_p.prediction == c) & (prediction_a.label == c)\n",
    "n = np.where(index)[0].shape[0]\n",
    "for i in range(n):\n",
    "    sentences = prediction_a[index].txt.values[i]\n",
    "    data_others = []\n",
    "    for g in groups:\n",
    "        if g != str(c):\n",
    "            data_others.append(model[g].score(sentences))\n",
    "    data_others=np.array(data_others)\n",
    "    data = model[str(c)].score(sentences)\n",
    "    dif =  data - data_others.max(axis=0)\n",
    "    diff.append(dif)\n",
    "diff = np.concatenate(diff)\n",
    "_=plt.hist(diff,bins=200,normed=True)\n",
    "print diff.max(),diff.min(),diff.mean(),diff.std(),skew(diff)"
   ]
  },
  {
   "cell_type": "code",
   "execution_count": 134,
   "metadata": {
    "collapsed": false
   },
   "outputs": [
    {
     "name": "stdout",
     "output_type": "stream",
     "text": [
      "58.3274 -130.865 -6.00766 13.2191 -0.968119084835\n"
     ]
    },
    {
     "data": {
      "image/png": "[encoded data removed]",
      "text/plain": [
       "<matplotlib.figure.Figure at 0x7f22b763b790>"
      ]
     },
     "metadata": {},
     "output_type": "display_data"
    }
   ],
   "source": [
    "c = 2\n",
    "diff =[]\n",
    "index = (prediction_a.prediction != c) & (prediction_p.prediction == c) & (prediction_a.label == c)\n",
    "n = np.where(index)[0].shape[0]\n",
    "for i in range(n):\n",
    "    sentences = prediction_a[index].txt.values[i]\n",
    "    data_others = []\n",
    "    for g in groups:\n",
    "        if g != str(c):\n",
    "            data_others.append(model[g].score(sentences))\n",
    "    data_others=np.array(data_others)\n",
    "    data = model[str(c)].score(sentences)\n",
    "    dif = data - data_others.max(axis=0)\n",
    "    diff.append(dif)\n",
    "diff = np.concatenate(diff)\n",
    "_=plt.hist(diff,bins=200,normed=True)\n",
    "print diff.max(),diff.min(),diff.mean(),diff.std(),skew(diff)"
   ]
  },
  {
   "cell_type": "code",
   "execution_count": 135,
   "metadata": {
    "collapsed": false
   },
   "outputs": [
    {
     "name": "stdout",
     "output_type": "stream",
     "text": [
      "69.969 -73.2148 -0.783871 17.4667 0.986520051956\n"
     ]
    },
    {
     "data": {
      "image/png": "[encoded data removed]",
      "text/plain": [
       "<matplotlib.figure.Figure at 0x7f22b67a2810>"
      ]
     },
     "metadata": {},
     "output_type": "display_data"
    }
   ],
   "source": [
    "c = 1\n",
    "diff =[]\n",
    "index = (prediction_a.prediction != c) & (prediction_p.prediction == c) & (prediction_a.label == c)\n",
    "n = np.where(index)[0].shape[0]\n",
    "for i in range(n):\n",
    "    sentences = prediction_a[index].txt.values[i]\n",
    "    data_others = []\n",
    "    for g in groups:\n",
    "        if g != str(c):\n",
    "            data_others.append(model[g].score(sentences))\n",
    "    data_others=np.array(data_others)\n",
    "    data = model[str(c)].score(sentences)\n",
    "    dif =  data - data_others.max(axis=0)\n",
    "    diff.append(dif)\n",
    "diff = np.concatenate(diff)\n",
    "_=plt.hist(diff,bins=200,normed=True)\n",
    "print diff.max(),diff.min(),diff.mean(),diff.std(),skew(diff)"
   ]
  },
  {
   "cell_type": "markdown",
   "metadata": {},
   "source": [
    "### Difference in log probability between sentences in a class\n",
    "#### - right prediction for average & wrong for product\n",
    "#### - difference = log_prob|c - max(log_prob| not in c)"
   ]
  },
  {
   "cell_type": "code",
   "execution_count": 136,
   "metadata": {
    "collapsed": false,
    "scrolled": true
   },
   "outputs": [
    {
     "name": "stdout",
     "output_type": "stream",
     "text": [
      "84.1079 -151.529 -5.26044 16.4234 -1.80767869949\n"
     ]
    },
    {
     "data": {
      "image/png": "[encoded data removed]",
      "text/plain": [
       "<matplotlib.figure.Figure at 0x7f22c0c7cad0>"
      ]
     },
     "metadata": {},
     "output_type": "display_data"
    }
   ],
   "source": [
    "c = 5\n",
    "diff =[]\n",
    "index = (prediction_a.prediction == c) & (prediction_p.prediction != c) & (prediction_a.label == c)\n",
    "n = np.where(index)[0].shape[0]\n",
    "for i in range(n):\n",
    "    sentences = prediction_a[index].txt.values[i]\n",
    "    data_others = []\n",
    "    for g in groups:\n",
    "        if g != str(c):\n",
    "            data_others.append(model[g].score(sentences))\n",
    "    data_others=np.array(data_others)\n",
    "    data = model[str(c)].score(sentences)\n",
    "    dif =  data - data_others.max(axis=0)\n",
    "    diff.append(dif)\n",
    "diff = np.concatenate(diff)\n",
    "_=plt.hist(diff,bins=100,normed=True)\n",
    "print diff.max(),diff.min(),diff.mean(),diff.std(),skew(diff)"
   ]
  },
  {
   "cell_type": "code",
   "execution_count": 137,
   "metadata": {
    "collapsed": false
   },
   "outputs": [
    {
     "name": "stdout",
     "output_type": "stream",
     "text": [
      "61.9756 -179.182 -5.81737 15.8855 -2.77254605293\n"
     ]
    },
    {
     "data": {
      "image/png": "[encoded data removed]",
      "text/plain": [
       "<matplotlib.figure.Figure at 0x7f22b39dff10>"
      ]
     },
     "metadata": {},
     "output_type": "display_data"
    }
   ],
   "source": [
    "c = 4\n",
    "diff =[]\n",
    "index = (prediction_a.prediction == c) & (prediction_p.prediction != c) & (prediction_a.label == c)\n",
    "n = np.where(index)[0].shape[0]\n",
    "for i in range(n):\n",
    "    sentences = prediction_a[index].txt.values[i]\n",
    "    data_others = []\n",
    "    for g in groups:\n",
    "        if g != str(c):\n",
    "            data_others.append(model[g].score(sentences))\n",
    "    data_others=np.array(data_others)\n",
    "    data = model[str(c)].score(sentences)\n",
    "    dif =  data - data_others.max(axis=0)\n",
    "    diff.append(dif)\n",
    "diff = np.concatenate(diff)\n",
    "_=plt.hist(diff,bins=100,normed=True)\n",
    "print diff.max(),diff.min(),diff.mean(),diff.std(),skew(diff)"
   ]
  },
  {
   "cell_type": "code",
   "execution_count": 138,
   "metadata": {
    "collapsed": false
   },
   "outputs": [
    {
     "name": "stdout",
     "output_type": "stream",
     "text": [
      "63.7928 -123.301 -6.27903 16.2224 -2.44895339012\n"
     ]
    },
    {
     "data": {
      "image/png": "[encoded data removed]",
      "text/plain": [
       "<matplotlib.figure.Figure at 0x7f22b6e74ad0>"
      ]
     },
     "metadata": {},
     "output_type": "display_data"
    }
   ],
   "source": [
    "c = 3\n",
    "diff =[]\n",
    "index = (prediction_a.prediction == c) & (prediction_p.prediction != c) & (prediction_a.label == c)\n",
    "n = np.where(index)[0].shape[0]\n",
    "for i in range(n):\n",
    "    sentences = prediction_a[index].txt.values[i]\n",
    "    data_others = []\n",
    "    for g in groups:\n",
    "        if g != str(c):\n",
    "            data_others.append(model[g].score(sentences))\n",
    "    data_others=np.array(data_others)\n",
    "    data = model[str(c)].score(sentences)\n",
    "    dif =  data - data_others.max(axis=0)\n",
    "    diff.append(dif)\n",
    "diff = np.concatenate(diff)\n",
    "_=plt.hist(diff,bins=100,normed=True)\n",
    "print diff.max(),diff.min(),diff.mean(),diff.std(),skew(diff)"
   ]
  },
  {
   "cell_type": "code",
   "execution_count": 139,
   "metadata": {
    "collapsed": false
   },
   "outputs": [
    {
     "name": "stdout",
     "output_type": "stream",
     "text": [
      "30.4823 -190.195 -6.85738 16.7805 -2.90988731384\n"
     ]
    },
    {
     "data": {
      "image/png": "[encoded data removed]",
      "text/plain": [
       "<matplotlib.figure.Figure at 0x7f22bce26390>"
      ]
     },
     "metadata": {},
     "output_type": "display_data"
    }
   ],
   "source": [
    "c = 2\n",
    "diff =[]\n",
    "index = (prediction_a.prediction == c) & (prediction_p.prediction != c) & (prediction_a.label == c)\n",
    "n = np.where(index)[0].shape[0]\n",
    "for i in range(n):\n",
    "    sentences = prediction_a[index].txt.values[i]\n",
    "    data_others = []\n",
    "    for g in groups:\n",
    "        if g != str(c):\n",
    "            data_others.append(model[g].score(sentences))\n",
    "    data_others=np.array(data_others)\n",
    "    data = model[str(c)].score(sentences)\n",
    "    dif =  data - data_others.max(axis=0)\n",
    "    diff.append(dif)\n",
    "diff = np.concatenate(diff)\n",
    "_=plt.hist(diff,bins=100,normed=True)\n",
    "print diff.max(),diff.min(),diff.mean(),diff.std(),skew(diff)"
   ]
  },
  {
   "cell_type": "code",
   "execution_count": 140,
   "metadata": {
    "collapsed": false
   },
   "outputs": [
    {
     "name": "stdout",
     "output_type": "stream",
     "text": [
      "58.1197 -166.026 -6.58144 20.7446 -1.87249183655\n"
     ]
    },
    {
     "data": {
      "image/png": "[encoded data removed]",
      "text/plain": [
       "<matplotlib.figure.Figure at 0x7f22ba3e9a90>"
      ]
     },
     "metadata": {},
     "output_type": "display_data"
    }
   ],
   "source": [
    "c = 1\n",
    "diff =[]\n",
    "index = (prediction_a.prediction == c) & (prediction_p.prediction != c) & (prediction_a.label == c)\n",
    "n = np.where(index)[0].shape[0]\n",
    "for i in range(n):\n",
    "    sentences = prediction_a[index].txt.values[i]\n",
    "    data_others = []\n",
    "    for g in groups:\n",
    "        if g != str(c):\n",
    "            data_others.append(model[g].score(sentences))\n",
    "    data_others=np.array(data_others)\n",
    "    data = model[str(c)].score(sentences)\n",
    "    dif =  data - data_others.max(axis=0)\n",
    "    diff.append(dif)\n",
    "diff = np.concatenate(diff)\n",
    "_=plt.hist(diff,bins=100,normed=True)\n",
    "print diff.max(),diff.min(),diff.mean(),diff.std(),skew(diff)"
   ]
  },
  {
   "cell_type": "markdown",
   "metadata": {},
   "source": [
    "### Compare two classes"
   ]
  },
  {
   "cell_type": "code",
   "execution_count": 146,
   "metadata": {
    "collapsed": false
   },
   "outputs": [
    {
     "name": "stdout",
     "output_type": "stream",
     "text": [
      "62.0043 -119.527 -3.74038 11.7903 -1.19778394699\n"
     ]
    },
    {
     "data": {
      "image/png": "[encoded data removed]",
      "text/plain": [
       "<matplotlib.figure.Figure at 0x7f22c143c490>"
      ]
     },
     "metadata": {},
     "output_type": "display_data"
    }
   ],
   "source": [
    "c1 = 5\n",
    "c2 = 4\n",
    "diff =[]\n",
    "index = (prediction_p.label == c1) & (prediction_p.prediction == c2)\n",
    "n = np.where(index)[0].shape[0]\n",
    "for i in range(n):\n",
    "    sentences = prediction_a[index].txt.values[i]\n",
    "    data_c1 = model[str(c1)].score(sentences)\n",
    "    data_c2 = model[str(c2)].score(sentences)\n",
    "    dif = data_c1 - data_c2\n",
    "    diff.append(dif)\n",
    "diff = np.concatenate(diff)\n",
    "_=plt.hist(diff,bins=200,normed=True)\n",
    "\n",
    "print diff.max(),diff.min(),diff.mean(),diff.std(),skew(diff)"
   ]
  },
  {
   "cell_type": "code",
   "execution_count": 147,
   "metadata": {
    "collapsed": false
   },
   "outputs": [
    {
     "name": "stdout",
     "output_type": "stream",
     "text": [
      "83.2499 -112.091 -3.85172 11.7902 -0.568268954754\n"
     ]
    },
    {
     "data": {
      "image/png": "[encoded data removed]",
      "text/plain": [
       "<matplotlib.figure.Figure at 0x7f22b70bf750>"
      ]
     },
     "metadata": {},
     "output_type": "display_data"
    }
   ],
   "source": [
    "c1 = 5\n",
    "c2 = 4\n",
    "diff =[]\n",
    "index = (prediction_a.label == c1) & (prediction_a.prediction == c2) \n",
    "n = np.where(index)[0].shape[0]\n",
    "for i in range(n):\n",
    "    sentences = prediction_a[index].txt.values[i]\n",
    "    data_c1 = model[str(c1)].score(sentences)\n",
    "    data_c2 = model[str(c2)].score(sentences)\n",
    "    dif = data_c1 - data_c2\n",
    "    diff.append(dif)\n",
    "diff = np.concatenate(diff)\n",
    "_=plt.hist(diff,bins=200,normed=True)\n",
    "\n",
    "print diff.max(),diff.min(),diff.mean(),diff.std(),skew(diff)"
   ]
  },
  {
   "cell_type": "code",
   "execution_count": null,
   "metadata": {
    "collapsed": true
   },
   "outputs": [],
   "source": []
  }
 ],
 "metadata": {
  "kernelspec": {
   "display_name": "Python 2",
   "language": "python",
   "name": "python2"
  },
  "language_info": {
   "codemirror_mode": {
    "name": "ipython",
    "version": 2
   },
   "file_extension": ".py",
   "mimetype": "text/x-python",
   "name": "python",
   "nbconvert_exporter": "python",
   "pygments_lexer": "ipython2",
   "version": "2.7.6"
  }
 },
 "nbformat": 4,
 "nbformat_minor": 0
}
