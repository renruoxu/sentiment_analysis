{
 "cells": [
  {
   "cell_type": "markdown",
   "metadata": {},
   "source": [
    "# Deepir implementation\n",
    "### The code is based on [deepir](https://github.com/TaddyLab/deepir) with slight modification\n",
    "### Data is based on [Tripadvisor Review](http://www.cs.cmu.edu/~jiweil/html/hotel-review.html)"
   ]
  },
  {
   "cell_type": "code",
   "execution_count": 1,
   "metadata": {
    "collapsed": true
   },
   "outputs": [],
   "source": [
    "import re\n",
    "import json\n",
    "import pandas as pd\n",
    "import matplotlib.pylab as plt\n",
    "%matplotlib inline"
   ]
  },
  {
   "cell_type": "markdown",
   "metadata": {},
   "source": [
    "## Preprocessing data "
   ]
  },
  {
   "cell_type": "code",
   "execution_count": 2,
   "metadata": {
    "collapsed": true
   },
   "outputs": [],
   "source": [
    "# all non alphanumeric\n",
    "contractions = re.compile(r\"'|-\")\n",
    "symbols = re.compile(r'(\\W+)', re.U)\n",
    "numeric = re.compile(r'(?<=\\s)(\\d+|\\w\\d+|\\d+\\w)(?=\\s)', re.I)\n",
    "swrd = re.compile(r'(?<=\\s)(,|\"|\\(|\\)|to|a|as|the|an|and|or|for|are|is)(?=\\s)', re.I)\n",
    "suffix = re.compile(r'(?<=\\w)(s|ings*|ly|(?<=e)[sd]+)(?=\\s)')\n",
    "seps = re.compile(r'\\s+')"
   ]
  },
  {
   "cell_type": "code",
   "execution_count": 3,
   "metadata": {
    "collapsed": true
   },
   "outputs": [],
   "source": [
    "# cleaner (order matters)\n",
    "def clean(text): \n",
    "    text = u' ' +  text.lower() + u' '\n",
    "    text = contractions.sub('', text)\n",
    "    text = symbols.sub(r' \\1 ', text)\n",
    "    text = numeric.sub('000', text)\n",
    "    text = swrd.sub(' ', text)\n",
    "    #text = suffix.sub('', text)\n",
    "    text = seps.sub(' ', text)\n",
    "    return text"
   ]
  },
  {
   "cell_type": "code",
   "execution_count": 4,
   "metadata": {
    "collapsed": true
   },
   "outputs": [],
   "source": [
    "def preprocess(f_dir):\n",
    "    data = []\n",
    "    for line in open(f_dir,'r'):\n",
    "        d = json.loads(line)\n",
    "        txt = clean(d['text'])\n",
    "        data.append([d['ratings']['overall'],txt])\n",
    "    return pd.DataFrame(data=data,columns=['stars','txt'])"
   ]
  },
  {
   "cell_type": "code",
   "execution_count": 5,
   "metadata": {
    "collapsed": false
   },
   "outputs": [
    {
     "name": "stdout",
     "output_type": "stream",
     "text": [
      "CPU times: user 12min 30s, sys: 5.98 s, total: 12min 36s\n",
      "Wall time: 12min 36s\n"
     ]
    }
   ],
   "source": [
    "%time tripadvisor_df = preprocess('/home/ruoxu/workspace/data/public/tripadvisor_review/review.txt')"
   ]
  },
  {
   "cell_type": "code",
   "execution_count": 6,
   "metadata": {
    "collapsed": false,
    "scrolled": true
   },
   "outputs": [
    {
     "data": {
      "text/html": [
       "<div>\n",
       "<table border=\"1\" class=\"dataframe\">\n",
       "  <thead>\n",
       "    <tr style=\"text-align: right;\">\n",
       "      <th></th>\n",
       "      <th>stars</th>\n",
       "      <th>txt</th>\n",
       "    </tr>\n",
       "  </thead>\n",
       "  <tbody>\n",
       "    <tr>\n",
       "      <th>0</th>\n",
       "      <td>5</td>\n",
       "      <td>stayed in king suite 000 nights yes it cots u...</td>\n",
       "    </tr>\n",
       "    <tr>\n",
       "      <th>1</th>\n",
       "      <td>5</td>\n",
       "      <td>on every visit nyc hotel beacon place we love...</td>\n",
       "    </tr>\n",
       "    <tr>\n",
       "      <th>2</th>\n",
       "      <td>4</td>\n",
       "      <td>this great property in midtown . we two diffe...</td>\n",
       "    </tr>\n",
       "    <tr>\n",
       "      <th>3</th>\n",
       "      <td>4</td>\n",
       "      <td>andaz nice hotel in central location of manha...</td>\n",
       "    </tr>\n",
       "    <tr>\n",
       "      <th>4</th>\n",
       "      <td>4</td>\n",
       "      <td>i have stayed at each of us andaz properties ...</td>\n",
       "    </tr>\n",
       "    <tr>\n",
       "      <th>5</th>\n",
       "      <td>5</td>\n",
       "      <td>excellent staff they remembered our names fro...</td>\n",
       "    </tr>\n",
       "    <tr>\n",
       "      <th>6</th>\n",
       "      <td>5</td>\n",
       "      <td>i stayed at setai 000 nights last week my com...</td>\n",
       "    </tr>\n",
       "    <tr>\n",
       "      <th>7</th>\n",
       "      <td>5</td>\n",
       "      <td>my husband i stayed at chatwal 000 nights in ...</td>\n",
       "    </tr>\n",
       "    <tr>\n",
       "      <th>8</th>\n",
       "      <td>5</td>\n",
       "      <td>wonderful boutique hotel located next times s...</td>\n",
       "    </tr>\n",
       "    <tr>\n",
       "      <th>9</th>\n",
       "      <td>4</td>\n",
       "      <td>this hotel nice stay nyc because rooms very c...</td>\n",
       "    </tr>\n",
       "    <tr>\n",
       "      <th>10</th>\n",
       "      <td>5</td>\n",
       "      <td>ive stayed at 000 000 star hotels all over ma...</td>\n",
       "    </tr>\n",
       "    <tr>\n",
       "      <th>11</th>\n",
       "      <td>5</td>\n",
       "      <td>stayed at this hotel four nights in december ...</td>\n",
       "    </tr>\n",
       "    <tr>\n",
       "      <th>12</th>\n",
       "      <td>4</td>\n",
       "      <td>hotel was very very good . high quality finis...</td>\n",
       "    </tr>\n",
       "    <tr>\n",
       "      <th>13</th>\n",
       "      <td>4</td>\n",
       "      <td>we chose san carlos based on reviews in t . w...</td>\n",
       "    </tr>\n",
       "    <tr>\n",
       "      <th>14</th>\n",
       "      <td>5</td>\n",
       "      <td>service location cleanliness were outstanding...</td>\n",
       "    </tr>\n",
       "    <tr>\n",
       "      <th>15</th>\n",
       "      <td>5</td>\n",
       "      <td>this one of best my favorite swanky hotel in ...</td>\n",
       "    </tr>\n",
       "    <tr>\n",
       "      <th>16</th>\n",
       "      <td>5</td>\n",
       "      <td>when we pulled up at curb in front of hotel w...</td>\n",
       "    </tr>\n",
       "    <tr>\n",
       "      <th>17</th>\n",
       "      <td>5</td>\n",
       "      <td>loved hotel . great location only 000 blocks ...</td>\n",
       "    </tr>\n",
       "    <tr>\n",
       "      <th>18</th>\n",
       "      <td>5</td>\n",
       "      <td>our first stay on upper west side cant say en...</td>\n",
       "    </tr>\n",
       "    <tr>\n",
       "      <th>19</th>\n",
       "      <td>5</td>\n",
       "      <td>great room very big with huge bed ! great loc...</td>\n",
       "    </tr>\n",
       "    <tr>\n",
       "      <th>20</th>\n",
       "      <td>5</td>\n",
       "      <td>we stayed at this property in october week . ...</td>\n",
       "    </tr>\n",
       "    <tr>\n",
       "      <th>21</th>\n",
       "      <td>4</td>\n",
       "      <td>this was our first stay at andaz . lovely lit...</td>\n",
       "    </tr>\n",
       "    <tr>\n",
       "      <th>22</th>\n",
       "      <td>4</td>\n",
       "      <td>i was lucky enough use my hyatt two free nigh...</td>\n",
       "    </tr>\n",
       "    <tr>\n",
       "      <th>23</th>\n",
       "      <td>4</td>\n",
       "      <td>other hotels in nyc that space challenged wou...</td>\n",
       "    </tr>\n",
       "    <tr>\n",
       "      <th>24</th>\n",
       "      <td>5</td>\n",
       "      <td>id never heard of this hotel but came away bi...</td>\n",
       "    </tr>\n",
       "    <tr>\n",
       "      <th>25</th>\n",
       "      <td>5</td>\n",
       "      <td>just returned from 000 day / 000 night long w...</td>\n",
       "    </tr>\n",
       "    <tr>\n",
       "      <th>26</th>\n",
       "      <td>4</td>\n",
       "      <td>just had four wonderful nights at this hotel ...</td>\n",
       "    </tr>\n",
       "    <tr>\n",
       "      <th>27</th>\n",
       "      <td>5</td>\n",
       "      <td>stayed at setai special company program . hot...</td>\n",
       "    </tr>\n",
       "    <tr>\n",
       "      <th>28</th>\n",
       "      <td>4</td>\n",
       "      <td>yes hotel if great rooms bathroom really love...</td>\n",
       "    </tr>\n",
       "    <tr>\n",
       "      <th>29</th>\n",
       "      <td>1</td>\n",
       "      <td>very bad experience . entrance narrow uncomfo...</td>\n",
       "    </tr>\n",
       "    <tr>\n",
       "      <th>...</th>\n",
       "      <td>...</td>\n",
       "      <td>...</td>\n",
       "    </tr>\n",
       "    <tr>\n",
       "      <th>878531</th>\n",
       "      <td>4</td>\n",
       "      <td>hotel posizionato 000 min piedi dalla fermata...</td>\n",
       "    </tr>\n",
       "    <tr>\n",
       "      <th>878532</th>\n",
       "      <td>4</td>\n",
       "      <td>las habitaciones son grandes y espaciosas . e...</td>\n",
       "    </tr>\n",
       "    <tr>\n",
       "      <th>878533</th>\n",
       "      <td>4</td>\n",
       "      <td>we hadden een probleem met de boeking van onz...</td>\n",
       "    </tr>\n",
       "    <tr>\n",
       "      <th>878534</th>\n",
       "      <td>4</td>\n",
       "      <td>lage : in unmittelbarer nähe der metro statio...</td>\n",
       "    </tr>\n",
       "    <tr>\n",
       "      <th>878535</th>\n",
       "      <td>4</td>\n",
       "      <td>bon hôtel à proximité du bon quartier de dupo...</td>\n",
       "    </tr>\n",
       "    <tr>\n",
       "      <th>878536</th>\n",
       "      <td>4</td>\n",
       "      <td>pour une fois un super hôtel avec du personne...</td>\n",
       "    </tr>\n",
       "    <tr>\n",
       "      <th>878537</th>\n",
       "      <td>5</td>\n",
       "      <td>tolles preisleistungsverhältnis personal dass...</td>\n",
       "    </tr>\n",
       "    <tr>\n",
       "      <th>878538</th>\n",
       "      <td>3</td>\n",
       "      <td>dies ist eigentlisches ein nettes hotel obere...</td>\n",
       "    </tr>\n",
       "    <tr>\n",
       "      <th>878539</th>\n",
       "      <td>4</td>\n",
       "      <td>wir haben ein dz für 000 $ die nacht gebucht ...</td>\n",
       "    </tr>\n",
       "    <tr>\n",
       "      <th>878540</th>\n",
       "      <td>4</td>\n",
       "      <td>das hotel palomar in washington dc liegt in d...</td>\n",
       "    </tr>\n",
       "    <tr>\n",
       "      <th>878541</th>\n",
       "      <td>5</td>\n",
       "      <td>excellent hotel . déco design . personnel acc...</td>\n",
       "    </tr>\n",
       "    <tr>\n",
       "      <th>878542</th>\n",
       "      <td>5</td>\n",
       "      <td>das palomar liegt zwar nciht mitten im zentru...</td>\n",
       "    </tr>\n",
       "    <tr>\n",
       "      <th>878543</th>\n",
       "      <td>4</td>\n",
       "      <td>sono stata al palomar 000 giorni in agosto . ...</td>\n",
       "    </tr>\n",
       "    <tr>\n",
       "      <th>878544</th>\n",
       "      <td>5</td>\n",
       "      <td>wir waren zu cherry blossom in dc und können ...</td>\n",
       "    </tr>\n",
       "    <tr>\n",
       "      <th>878545</th>\n",
       "      <td>5</td>\n",
       "      <td>me alojé en el hotel palomar del 000 al 000 d...</td>\n",
       "    </tr>\n",
       "    <tr>\n",
       "      <th>878546</th>\n",
       "      <td>5</td>\n",
       "      <td>wij checkten in terwijl in de lobby de dageli...</td>\n",
       "    </tr>\n",
       "    <tr>\n",
       "      <th>878547</th>\n",
       "      <td>5</td>\n",
       "      <td>cet hotel est merveilleusement géré . tout es...</td>\n",
       "    </tr>\n",
       "    <tr>\n",
       "      <th>878548</th>\n",
       "      <td>4</td>\n",
       "      <td>das hotel palomar gehoert zur kimpton gruppe ...</td>\n",
       "    </tr>\n",
       "    <tr>\n",
       "      <th>878549</th>\n",
       "      <td>5</td>\n",
       "      <td>anlässlich einer geschäftsreise waren wir das...</td>\n",
       "    </tr>\n",
       "    <tr>\n",
       "      <th>878550</th>\n",
       "      <td>5</td>\n",
       "      <td>das hotel liegt in arlington eine etwas gehob...</td>\n",
       "    </tr>\n",
       "    <tr>\n",
       "      <th>878551</th>\n",
       "      <td>5</td>\n",
       "      <td>mon mari et moi sommes restés à lhôtel du jeu...</td>\n",
       "    </tr>\n",
       "    <tr>\n",
       "      <th>878552</th>\n",
       "      <td>4</td>\n",
       "      <td>hôtel un peu éloigné du mall et du centre mai...</td>\n",
       "    </tr>\n",
       "    <tr>\n",
       "      <th>878553</th>\n",
       "      <td>5</td>\n",
       "      <td>très bien placé près de dupont circle hotel t...</td>\n",
       "    </tr>\n",
       "    <tr>\n",
       "      <th>878554</th>\n",
       "      <td>5</td>\n",
       "      <td>mi hija de 000 ~ os mi esposo y yo nos quedam...</td>\n",
       "    </tr>\n",
       "    <tr>\n",
       "      <th>878555</th>\n",
       "      <td>4</td>\n",
       "      <td>il palomar è un ottimo quattro stelle in posz...</td>\n",
       "    </tr>\n",
       "    <tr>\n",
       "      <th>878556</th>\n",
       "      <td>4</td>\n",
       "      <td>pænt hotel i et livligt miljø . store værelse...</td>\n",
       "    </tr>\n",
       "    <tr>\n",
       "      <th>878557</th>\n",
       "      <td>4</td>\n",
       "      <td>un excellent hotel 000 *, pour un prix raison...</td>\n",
       "    </tr>\n",
       "    <tr>\n",
       "      <th>878558</th>\n",
       "      <td>5</td>\n",
       "      <td>lhotel situato in una zona tranquilla e due p...</td>\n",
       "    </tr>\n",
       "    <tr>\n",
       "      <th>878559</th>\n",
       "      <td>5</td>\n",
       "      <td>sehr schön ausgestattetes hotel in bester lag...</td>\n",
       "    </tr>\n",
       "    <tr>\n",
       "      <th>878560</th>\n",
       "      <td>4</td>\n",
       "      <td>el hotel está entre el aeropuerto y washingto...</td>\n",
       "    </tr>\n",
       "  </tbody>\n",
       "</table>\n",
       "<p>878561 rows × 2 columns</p>\n",
       "</div>"
      ],
      "text/plain": [
       "        stars                                                txt\n",
       "0           5   stayed in king suite 000 nights yes it cots u...\n",
       "1           5   on every visit nyc hotel beacon place we love...\n",
       "2           4   this great property in midtown . we two diffe...\n",
       "3           4   andaz nice hotel in central location of manha...\n",
       "4           4   i have stayed at each of us andaz properties ...\n",
       "5           5   excellent staff they remembered our names fro...\n",
       "6           5   i stayed at setai 000 nights last week my com...\n",
       "7           5   my husband i stayed at chatwal 000 nights in ...\n",
       "8           5   wonderful boutique hotel located next times s...\n",
       "9           4   this hotel nice stay nyc because rooms very c...\n",
       "10          5   ive stayed at 000 000 star hotels all over ma...\n",
       "11          5   stayed at this hotel four nights in december ...\n",
       "12          4   hotel was very very good . high quality finis...\n",
       "13          4   we chose san carlos based on reviews in t . w...\n",
       "14          5   service location cleanliness were outstanding...\n",
       "15          5   this one of best my favorite swanky hotel in ...\n",
       "16          5   when we pulled up at curb in front of hotel w...\n",
       "17          5   loved hotel . great location only 000 blocks ...\n",
       "18          5   our first stay on upper west side cant say en...\n",
       "19          5   great room very big with huge bed ! great loc...\n",
       "20          5   we stayed at this property in october week . ...\n",
       "21          4   this was our first stay at andaz . lovely lit...\n",
       "22          4   i was lucky enough use my hyatt two free nigh...\n",
       "23          4   other hotels in nyc that space challenged wou...\n",
       "24          5   id never heard of this hotel but came away bi...\n",
       "25          5   just returned from 000 day / 000 night long w...\n",
       "26          4   just had four wonderful nights at this hotel ...\n",
       "27          5   stayed at setai special company program . hot...\n",
       "28          4   yes hotel if great rooms bathroom really love...\n",
       "29          1   very bad experience . entrance narrow uncomfo...\n",
       "...       ...                                                ...\n",
       "878531      4   hotel posizionato 000 min piedi dalla fermata...\n",
       "878532      4   las habitaciones son grandes y espaciosas . e...\n",
       "878533      4   we hadden een probleem met de boeking van onz...\n",
       "878534      4   lage : in unmittelbarer nähe der metro statio...\n",
       "878535      4   bon hôtel à proximité du bon quartier de dupo...\n",
       "878536      4   pour une fois un super hôtel avec du personne...\n",
       "878537      5   tolles preisleistungsverhältnis personal dass...\n",
       "878538      3   dies ist eigentlisches ein nettes hotel obere...\n",
       "878539      4   wir haben ein dz für 000 $ die nacht gebucht ...\n",
       "878540      4   das hotel palomar in washington dc liegt in d...\n",
       "878541      5   excellent hotel . déco design . personnel acc...\n",
       "878542      5   das palomar liegt zwar nciht mitten im zentru...\n",
       "878543      4   sono stata al palomar 000 giorni in agosto . ...\n",
       "878544      5   wir waren zu cherry blossom in dc und können ...\n",
       "878545      5   me alojé en el hotel palomar del 000 al 000 d...\n",
       "878546      5   wij checkten in terwijl in de lobby de dageli...\n",
       "878547      5   cet hotel est merveilleusement géré . tout es...\n",
       "878548      4   das hotel palomar gehoert zur kimpton gruppe ...\n",
       "878549      5   anlässlich einer geschäftsreise waren wir das...\n",
       "878550      5   das hotel liegt in arlington eine etwas gehob...\n",
       "878551      5   mon mari et moi sommes restés à lhôtel du jeu...\n",
       "878552      4   hôtel un peu éloigné du mall et du centre mai...\n",
       "878553      5   très bien placé près de dupont circle hotel t...\n",
       "878554      5   mi hija de 000 ~ os mi esposo y yo nos quedam...\n",
       "878555      4   il palomar è un ottimo quattro stelle in posz...\n",
       "878556      4   pænt hotel i et livligt miljø . store værelse...\n",
       "878557      4   un excellent hotel 000 *, pour un prix raison...\n",
       "878558      5   lhotel situato in una zona tranquilla e due p...\n",
       "878559      5   sehr schön ausgestattetes hotel in bester lag...\n",
       "878560      4   el hotel está entre el aeropuerto y washingto...\n",
       "\n",
       "[878561 rows x 2 columns]"
      ]
     },
     "execution_count": 6,
     "metadata": {},
     "output_type": "execute_result"
    }
   ],
   "source": [
    "tripadvisor_df"
   ]
  },
  {
   "cell_type": "code",
   "execution_count": 7,
   "metadata": {
    "collapsed": false
   },
   "outputs": [],
   "source": [
    "from sklearn.cross_validation import train_test_split\n",
    "train_id, test_id = train_test_split(range(tripadvisor_df.shape[0]),test_size=0.3)\n",
    "train_df = tripadvisor_df.iloc[train_id]\n",
    "test_df = tripadvisor_df.iloc[test_id]"
   ]
  },
  {
   "cell_type": "code",
   "execution_count": 8,
   "metadata": {
    "collapsed": false
   },
   "outputs": [
    {
     "data": {
      "text/plain": [
       "((614992, 2), (263569, 2))"
      ]
     },
     "execution_count": 8,
     "metadata": {},
     "output_type": "execute_result"
    }
   ],
   "source": [
    "train_df.shape,test_df.shape"
   ]
  },
  {
   "cell_type": "markdown",
   "metadata": {},
   "source": [
    "## Re-write of deepir"
   ]
  },
  {
   "cell_type": "code",
   "execution_count": 9,
   "metadata": {
    "collapsed": false
   },
   "outputs": [
    {
     "name": "stdout",
     "output_type": "stream",
     "text": [
      "Couldn't import dot_parser, loading of dot files will not be possible.\n"
     ]
    },
    {
     "name": "stderr",
     "output_type": "stream",
     "text": [
      "Using gpu device 0: Quadro K2000 (CNMeM is disabled)\n"
     ]
    }
   ],
   "source": [
    "import numpy as np\n",
    "from gensim.models import Word2Vec\n",
    "from gensim.models import Phrases\n",
    "from copy import deepcopy\n",
    "\n",
    "import warnings\n",
    "warnings.filterwarnings(\"ignore\")"
   ]
  },
  {
   "cell_type": "code",
   "execution_count": 10,
   "metadata": {
    "collapsed": true
   },
   "outputs": [],
   "source": [
    "# define a review generator\n",
    "alteos = re.compile(r'( [!\\?] )')\n",
    "\n",
    "def revsplit(l):\n",
    "    l = alteos.sub(r' \\1 . ', l).rstrip(\"( \\. )*\\n\")\n",
    "    return [s.split() for s in l.split(\" . \")]\n",
    "\n",
    "def YelpReviews(df):\n",
    "    data = []\n",
    "    for star,txt in df.values:\n",
    "        data.append([star,revsplit(txt)])\n",
    "    return pd.DataFrame(data=data,columns=['stars','txt'])"
   ]
  },
  {
   "cell_type": "code",
   "execution_count": 11,
   "metadata": {
    "collapsed": false
   },
   "outputs": [
    {
     "name": "stdout",
     "output_type": "stream",
     "text": [
      "CPU times: user 46.4 s, sys: 4.71 s, total: 51.1 s\n",
      "Wall time: 50.8 s\n"
     ]
    }
   ],
   "source": [
    "%time preprocessed_train_df = YelpReviews(train_df)"
   ]
  },
  {
   "cell_type": "code",
   "execution_count": 20,
   "metadata": {
    "collapsed": false
   },
   "outputs": [
    {
     "name": "stdout",
     "output_type": "stream",
     "text": [
      "CPU times: user 24.8 s, sys: 4 s, total: 28.8 s\n",
      "Wall time: 28.7 s\n"
     ]
    }
   ],
   "source": [
    "%time preprocessed_test_df = YelpReviews(test_df)"
   ]
  },
  {
   "cell_type": "code",
   "execution_count": 12,
   "metadata": {
    "collapsed": false
   },
   "outputs": [
    {
     "data": {
      "text/plain": [
       "5596213"
      ]
     },
     "execution_count": 12,
     "metadata": {},
     "output_type": "execute_result"
    }
   ],
   "source": [
    "all_sentences = [s for r in preprocessed_train_df.txt for s in r]\n",
    "len(all_sentences)"
   ]
  },
  {
   "cell_type": "code",
   "execution_count": 13,
   "metadata": {
    "collapsed": false
   },
   "outputs": [
    {
     "name": "stdout",
     "output_type": "stream",
     "text": [
      "CPU times: user 49 s, sys: 2.49 s, total: 51.5 s\n",
      "Wall time: 51.2 s\n"
     ]
    }
   ],
   "source": [
    "jointmodel = Word2Vec(workers=-1)\n",
    "np.random.shuffle(all_sentences)\n",
    "%time jointmodel.build_vocab(all_sentences)"
   ]
  },
  {
   "cell_type": "raw",
   "metadata": {
    "collapsed": true
   },
   "source": [
    "docgrp = {'neg': [1,2], 'pos': [5]} \n",
    "model = { g: deepcopy(jointmodel) for g in docgrp }"
   ]
  },
  {
   "cell_type": "code",
   "execution_count": 14,
   "metadata": {
    "collapsed": false
   },
   "outputs": [],
   "source": [
    "def trainW2V(g, T=25):\n",
    "    sent = [l for r in reviews[g] for l in r]\n",
    "    model[g].min_alpha = model[g].alpha\n",
    "    for epoch in range(T):\n",
    "        print epoch, \" \"\n",
    "        np.random.shuffle(sent)\n",
    "        model[g].train(sent)\n",
    "        model[g].alpha *= 0.9  \n",
    "        model[g].min_alpha = model[g].alpha  \n",
    "    print(\".\")"
   ]
  },
  {
   "cell_type": "code",
   "execution_count": 19,
   "metadata": {
    "collapsed": true
   },
   "outputs": [],
   "source": [
    "def getprobs(rev, grp,by = 'average'):\n",
    "    if by == 'average':\n",
    "        sentences =  [(i,s) for i,r in enumerate(rev) for s in r]\n",
    "        eta = pd.DataFrame(\n",
    "                { g: model[g].score([s for i,s in sentences])  \n",
    "                 for g in grp } )\n",
    "        probs = eta.subtract( eta.max('columns'), 'rows') \n",
    "        probs = np.exp( probs )\n",
    "        probs = probs.divide(probs.sum('columns'), \"rows\")\n",
    "        probs['cnt'] = 1\n",
    "        probs = probs.groupby([i for i,s in sentences]).sum()\n",
    "        probs = probs.divide(probs[\"cnt\"], 'rows').drop(\"cnt\", 1)\n",
    "    elif by == 'product':\n",
    "#         sentences =  [(i,s) for i,r in enumerate(rev) for s in r]\n",
    "#         eta = pd.DataFrame(\n",
    "#                 { g: model[g].score([s for i,s in sentences])  \n",
    "#                  for g in grp } )\n",
    "#         probs = eta.groupby([i for i,s in sentences]).sum()\n",
    "#         probs = probs.subtract( probs.max('columns'), 'rows')\n",
    "#         probs = np.exp( probs )\n",
    "#         probs = probs.divide(probs.sum('columns'), \"rows\")\n",
    "        sentences =  [(i,s) for i,r in enumerate(rev) for s in r]\n",
    "        eta = pd.DataFrame(\n",
    "                { g: model[g].score([s for i,s in sentences])  \n",
    "                 for g in grp } )\n",
    "        probs = eta.groupby([i for i,s in sentences]).sum()\n",
    "        probs = probs.subtract( probs.min('columns'), 'rows')\n",
    "        #probs = np.exp( probs )\n",
    "        probs = probs.divide(probs.sum('columns'), \"rows\")\n",
    "        probs.replace([np.inf, -np.inf],0)\n",
    "        probs.fillna(0)\n",
    "    return(probs)"
   ]
  },
  {
   "cell_type": "markdown",
   "metadata": {},
   "source": [
    "### classification by log product probability-- task c"
   ]
  },
  {
   "cell_type": "code",
   "execution_count": 16,
   "metadata": {
    "collapsed": false
   },
   "outputs": [
    {
     "data": {
      "text/plain": [
       "{'0': 0, '1': 1, '2': 2, '3': 3, '4': 4, '5': 5}"
      ]
     },
     "execution_count": 16,
     "metadata": {},
     "output_type": "execute_result"
    }
   ],
   "source": [
    "docgrp_fine = {str(i) : i for i in range(0,6)} \n",
    "docgrp_fine"
   ]
  },
  {
   "cell_type": "code",
   "execution_count": 17,
   "metadata": {
    "collapsed": false,
    "scrolled": true
   },
   "outputs": [
    {
     "name": "stdout",
     "output_type": "stream",
     "text": [
      "1 :\n",
      "0"
     ]
    },
    {
     "name": "stderr",
     "output_type": "stream",
     "text": [
      "WARNING:gensim.models.word2vec:supplied example count (413882) did not equal expected count (5596213)\n"
     ]
    },
    {
     "name": "stdout",
     "output_type": "stream",
     "text": [
      "  \n",
      "1"
     ]
    },
    {
     "name": "stderr",
     "output_type": "stream",
     "text": [
      "WARNING:gensim.models.word2vec:supplied example count (413882) did not equal expected count (5596213)\n"
     ]
    },
    {
     "name": "stdout",
     "output_type": "stream",
     "text": [
      "  \n",
      "2"
     ]
    },
    {
     "name": "stderr",
     "output_type": "stream",
     "text": [
      "WARNING:gensim.models.word2vec:supplied example count (413882) did not equal expected count (5596213)\n"
     ]
    },
    {
     "name": "stdout",
     "output_type": "stream",
     "text": [
      "  \n",
      "3"
     ]
    },
    {
     "name": "stderr",
     "output_type": "stream",
     "text": [
      "WARNING:gensim.models.word2vec:supplied example count (413882) did not equal expected count (5596213)\n"
     ]
    },
    {
     "name": "stdout",
     "output_type": "stream",
     "text": [
      "  \n",
      "4"
     ]
    },
    {
     "name": "stderr",
     "output_type": "stream",
     "text": [
      "WARNING:gensim.models.word2vec:supplied example count (413882) did not equal expected count (5596213)\n"
     ]
    },
    {
     "name": "stdout",
     "output_type": "stream",
     "text": [
      "  \n",
      "5"
     ]
    },
    {
     "name": "stderr",
     "output_type": "stream",
     "text": [
      "WARNING:gensim.models.word2vec:supplied example count (413882) did not equal expected count (5596213)\n"
     ]
    },
    {
     "name": "stdout",
     "output_type": "stream",
     "text": [
      "  \n",
      "6"
     ]
    },
    {
     "name": "stderr",
     "output_type": "stream",
     "text": [
      "WARNING:gensim.models.word2vec:supplied example count (413882) did not equal expected count (5596213)\n"
     ]
    },
    {
     "name": "stdout",
     "output_type": "stream",
     "text": [
      "  \n",
      "7"
     ]
    },
    {
     "name": "stderr",
     "output_type": "stream",
     "text": [
      "WARNING:gensim.models.word2vec:supplied example count (413882) did not equal expected count (5596213)\n"
     ]
    },
    {
     "name": "stdout",
     "output_type": "stream",
     "text": [
      "  \n",
      "8"
     ]
    },
    {
     "name": "stderr",
     "output_type": "stream",
     "text": [
      "WARNING:gensim.models.word2vec:supplied example count (413882) did not equal expected count (5596213)\n"
     ]
    },
    {
     "name": "stdout",
     "output_type": "stream",
     "text": [
      "  \n",
      "9"
     ]
    },
    {
     "name": "stderr",
     "output_type": "stream",
     "text": [
      "WARNING:gensim.models.word2vec:supplied example count (413882) did not equal expected count (5596213)\n"
     ]
    },
    {
     "name": "stdout",
     "output_type": "stream",
     "text": [
      "  \n",
      "10"
     ]
    },
    {
     "name": "stderr",
     "output_type": "stream",
     "text": [
      "WARNING:gensim.models.word2vec:supplied example count (413882) did not equal expected count (5596213)\n"
     ]
    },
    {
     "name": "stdout",
     "output_type": "stream",
     "text": [
      "  \n",
      "11"
     ]
    },
    {
     "name": "stderr",
     "output_type": "stream",
     "text": [
      "WARNING:gensim.models.word2vec:supplied example count (413882) did not equal expected count (5596213)\n"
     ]
    },
    {
     "name": "stdout",
     "output_type": "stream",
     "text": [
      "  \n",
      "12"
     ]
    },
    {
     "name": "stderr",
     "output_type": "stream",
     "text": [
      "WARNING:gensim.models.word2vec:supplied example count (413882) did not equal expected count (5596213)\n"
     ]
    },
    {
     "name": "stdout",
     "output_type": "stream",
     "text": [
      "  \n",
      "13"
     ]
    },
    {
     "name": "stderr",
     "output_type": "stream",
     "text": [
      "WARNING:gensim.models.word2vec:supplied example count (413882) did not equal expected count (5596213)\n"
     ]
    },
    {
     "name": "stdout",
     "output_type": "stream",
     "text": [
      "  \n",
      "14"
     ]
    },
    {
     "name": "stderr",
     "output_type": "stream",
     "text": [
      "WARNING:gensim.models.word2vec:supplied example count (413882) did not equal expected count (5596213)\n"
     ]
    },
    {
     "name": "stdout",
     "output_type": "stream",
     "text": [
      "  \n",
      "15"
     ]
    },
    {
     "name": "stderr",
     "output_type": "stream",
     "text": [
      "WARNING:gensim.models.word2vec:supplied example count (413882) did not equal expected count (5596213)\n"
     ]
    },
    {
     "name": "stdout",
     "output_type": "stream",
     "text": [
      "  \n",
      "16"
     ]
    },
    {
     "name": "stderr",
     "output_type": "stream",
     "text": [
      "WARNING:gensim.models.word2vec:supplied example count (413882) did not equal expected count (5596213)\n"
     ]
    },
    {
     "name": "stdout",
     "output_type": "stream",
     "text": [
      "  \n",
      "17"
     ]
    },
    {
     "name": "stderr",
     "output_type": "stream",
     "text": [
      "WARNING:gensim.models.word2vec:supplied example count (413882) did not equal expected count (5596213)\n"
     ]
    },
    {
     "name": "stdout",
     "output_type": "stream",
     "text": [
      "  \n",
      "18"
     ]
    },
    {
     "name": "stderr",
     "output_type": "stream",
     "text": [
      "WARNING:gensim.models.word2vec:supplied example count (413882) did not equal expected count (5596213)\n"
     ]
    },
    {
     "name": "stdout",
     "output_type": "stream",
     "text": [
      "  \n",
      "19"
     ]
    },
    {
     "name": "stderr",
     "output_type": "stream",
     "text": [
      "WARNING:gensim.models.word2vec:supplied example count (413882) did not equal expected count (5596213)\n"
     ]
    },
    {
     "name": "stdout",
     "output_type": "stream",
     "text": [
      "  \n",
      "20"
     ]
    },
    {
     "name": "stderr",
     "output_type": "stream",
     "text": [
      "WARNING:gensim.models.word2vec:supplied example count (413882) did not equal expected count (5596213)\n"
     ]
    },
    {
     "name": "stdout",
     "output_type": "stream",
     "text": [
      "  \n",
      "21"
     ]
    },
    {
     "name": "stderr",
     "output_type": "stream",
     "text": [
      "WARNING:gensim.models.word2vec:supplied example count (413882) did not equal expected count (5596213)\n"
     ]
    },
    {
     "name": "stdout",
     "output_type": "stream",
     "text": [
      "  \n",
      "22"
     ]
    },
    {
     "name": "stderr",
     "output_type": "stream",
     "text": [
      "WARNING:gensim.models.word2vec:supplied example count (413882) did not equal expected count (5596213)\n"
     ]
    },
    {
     "name": "stdout",
     "output_type": "stream",
     "text": [
      "  \n",
      "23"
     ]
    },
    {
     "name": "stderr",
     "output_type": "stream",
     "text": [
      "WARNING:gensim.models.word2vec:supplied example count (413882) did not equal expected count (5596213)\n"
     ]
    },
    {
     "name": "stdout",
     "output_type": "stream",
     "text": [
      "  \n",
      "24"
     ]
    },
    {
     "name": "stderr",
     "output_type": "stream",
     "text": [
      "WARNING:gensim.models.word2vec:supplied example count (413882) did not equal expected count (5596213)\n"
     ]
    },
    {
     "name": "stdout",
     "output_type": "stream",
     "text": [
      "  \n",
      ".\n",
      "0 :\n",
      "0"
     ]
    },
    {
     "name": "stderr",
     "output_type": "stream",
     "text": [
      "WARNING:gensim.models.word2vec:supplied example count (66) did not equal expected count (5596213)\n",
      "WARNING:gensim.models.word2vec:supplied example count (66) did not equal expected count (5596213)\n",
      "WARNING:gensim.models.word2vec:supplied example count (66) did not equal expected count (5596213)\n",
      "WARNING:gensim.models.word2vec:supplied example count (66) did not equal expected count (5596213)\n"
     ]
    },
    {
     "name": "stdout",
     "output_type": "stream",
     "text": [
      "  \n",
      "1  \n",
      "2  \n",
      "3  \n",
      "4"
     ]
    },
    {
     "name": "stderr",
     "output_type": "stream",
     "text": [
      "WARNING:gensim.models.word2vec:supplied example count (66) did not equal expected count (5596213)\n",
      "WARNING:gensim.models.word2vec:supplied example count (66) did not equal expected count (5596213)\n",
      "WARNING:gensim.models.word2vec:supplied example count (66) did not equal expected count (5596213)\n",
      "WARNING:gensim.models.word2vec:supplied example count (66) did not equal expected count (5596213)\n"
     ]
    },
    {
     "name": "stdout",
     "output_type": "stream",
     "text": [
      "  \n",
      "5  \n",
      "6  \n",
      "7  \n",
      "8"
     ]
    },
    {
     "name": "stderr",
     "output_type": "stream",
     "text": [
      "WARNING:gensim.models.word2vec:supplied example count (66) did not equal expected count (5596213)\n",
      "WARNING:gensim.models.word2vec:supplied example count (66) did not equal expected count (5596213)\n",
      "WARNING:gensim.models.word2vec:supplied example count (66) did not equal expected count (5596213)\n",
      "WARNING:gensim.models.word2vec:supplied example count (66) did not equal expected count (5596213)\n"
     ]
    },
    {
     "name": "stdout",
     "output_type": "stream",
     "text": [
      "  \n",
      "9  \n",
      "10  \n",
      "11  \n",
      "12"
     ]
    },
    {
     "name": "stderr",
     "output_type": "stream",
     "text": [
      "WARNING:gensim.models.word2vec:supplied example count (66) did not equal expected count (5596213)\n",
      "WARNING:gensim.models.word2vec:supplied example count (66) did not equal expected count (5596213)\n",
      "WARNING:gensim.models.word2vec:supplied example count (66) did not equal expected count (5596213)\n",
      "WARNING:gensim.models.word2vec:supplied example count (66) did not equal expected count (5596213)\n"
     ]
    },
    {
     "name": "stdout",
     "output_type": "stream",
     "text": [
      "  \n",
      "13  \n",
      "14  \n",
      "15  \n",
      "16"
     ]
    },
    {
     "name": "stderr",
     "output_type": "stream",
     "text": [
      "WARNING:gensim.models.word2vec:supplied example count (66) did not equal expected count (5596213)\n",
      "WARNING:gensim.models.word2vec:supplied example count (66) did not equal expected count (5596213)\n",
      "WARNING:gensim.models.word2vec:supplied example count (66) did not equal expected count (5596213)\n",
      "WARNING:gensim.models.word2vec:supplied example count (66) did not equal expected count (5596213)\n"
     ]
    },
    {
     "name": "stdout",
     "output_type": "stream",
     "text": [
      "  \n",
      "17  \n",
      "18  \n",
      "19  \n",
      "20"
     ]
    },
    {
     "name": "stderr",
     "output_type": "stream",
     "text": [
      "WARNING:gensim.models.word2vec:supplied example count (66) did not equal expected count (5596213)\n",
      "WARNING:gensim.models.word2vec:supplied example count (66) did not equal expected count (5596213)\n",
      "WARNING:gensim.models.word2vec:supplied example count (66) did not equal expected count (5596213)\n",
      "WARNING:gensim.models.word2vec:supplied example count (66) did not equal expected count (5596213)\n"
     ]
    },
    {
     "name": "stdout",
     "output_type": "stream",
     "text": [
      "  \n",
      "21  \n",
      "22  \n",
      "23  \n",
      "24"
     ]
    },
    {
     "name": "stderr",
     "output_type": "stream",
     "text": [
      "WARNING:gensim.models.word2vec:supplied example count (66) did not equal expected count (5596213)\n"
     ]
    },
    {
     "name": "stdout",
     "output_type": "stream",
     "text": [
      "  \n",
      ".\n",
      "3 :\n",
      "0"
     ]
    },
    {
     "name": "stderr",
     "output_type": "stream",
     "text": [
      "WARNING:gensim.models.word2vec:supplied example count (855406) did not equal expected count (5596213)\n"
     ]
    },
    {
     "name": "stdout",
     "output_type": "stream",
     "text": [
      "  \n",
      "1"
     ]
    },
    {
     "name": "stderr",
     "output_type": "stream",
     "text": [
      "WARNING:gensim.models.word2vec:supplied example count (855406) did not equal expected count (5596213)\n"
     ]
    },
    {
     "name": "stdout",
     "output_type": "stream",
     "text": [
      "  \n",
      "2"
     ]
    },
    {
     "name": "stderr",
     "output_type": "stream",
     "text": [
      "WARNING:gensim.models.word2vec:supplied example count (855406) did not equal expected count (5596213)\n"
     ]
    },
    {
     "name": "stdout",
     "output_type": "stream",
     "text": [
      "  \n",
      "3"
     ]
    },
    {
     "name": "stderr",
     "output_type": "stream",
     "text": [
      "WARNING:gensim.models.word2vec:supplied example count (855406) did not equal expected count (5596213)\n"
     ]
    },
    {
     "name": "stdout",
     "output_type": "stream",
     "text": [
      "  \n",
      "4"
     ]
    },
    {
     "name": "stderr",
     "output_type": "stream",
     "text": [
      "WARNING:gensim.models.word2vec:supplied example count (855406) did not equal expected count (5596213)\n"
     ]
    },
    {
     "name": "stdout",
     "output_type": "stream",
     "text": [
      "  \n",
      "5"
     ]
    },
    {
     "name": "stderr",
     "output_type": "stream",
     "text": [
      "WARNING:gensim.models.word2vec:supplied example count (855406) did not equal expected count (5596213)\n"
     ]
    },
    {
     "name": "stdout",
     "output_type": "stream",
     "text": [
      "  \n",
      "6"
     ]
    },
    {
     "name": "stderr",
     "output_type": "stream",
     "text": [
      "WARNING:gensim.models.word2vec:supplied example count (855406) did not equal expected count (5596213)\n"
     ]
    },
    {
     "name": "stdout",
     "output_type": "stream",
     "text": [
      "  \n",
      "7"
     ]
    },
    {
     "name": "stderr",
     "output_type": "stream",
     "text": [
      "WARNING:gensim.models.word2vec:supplied example count (855406) did not equal expected count (5596213)\n"
     ]
    },
    {
     "name": "stdout",
     "output_type": "stream",
     "text": [
      "  \n",
      "8"
     ]
    },
    {
     "name": "stderr",
     "output_type": "stream",
     "text": [
      "WARNING:gensim.models.word2vec:supplied example count (855406) did not equal expected count (5596213)\n"
     ]
    },
    {
     "name": "stdout",
     "output_type": "stream",
     "text": [
      "  \n",
      "9"
     ]
    },
    {
     "name": "stderr",
     "output_type": "stream",
     "text": [
      "WARNING:gensim.models.word2vec:supplied example count (855406) did not equal expected count (5596213)\n"
     ]
    },
    {
     "name": "stdout",
     "output_type": "stream",
     "text": [
      "  \n",
      "10"
     ]
    },
    {
     "name": "stderr",
     "output_type": "stream",
     "text": [
      "WARNING:gensim.models.word2vec:supplied example count (855406) did not equal expected count (5596213)\n"
     ]
    },
    {
     "name": "stdout",
     "output_type": "stream",
     "text": [
      "  \n",
      "11"
     ]
    },
    {
     "name": "stderr",
     "output_type": "stream",
     "text": [
      "WARNING:gensim.models.word2vec:supplied example count (855406) did not equal expected count (5596213)\n"
     ]
    },
    {
     "name": "stdout",
     "output_type": "stream",
     "text": [
      "  \n",
      "12"
     ]
    },
    {
     "name": "stderr",
     "output_type": "stream",
     "text": [
      "WARNING:gensim.models.word2vec:supplied example count (855406) did not equal expected count (5596213)\n"
     ]
    },
    {
     "name": "stdout",
     "output_type": "stream",
     "text": [
      "  \n",
      "13"
     ]
    },
    {
     "name": "stderr",
     "output_type": "stream",
     "text": [
      "WARNING:gensim.models.word2vec:supplied example count (855406) did not equal expected count (5596213)\n"
     ]
    },
    {
     "name": "stdout",
     "output_type": "stream",
     "text": [
      "  \n",
      "14"
     ]
    },
    {
     "name": "stderr",
     "output_type": "stream",
     "text": [
      "WARNING:gensim.models.word2vec:supplied example count (855406) did not equal expected count (5596213)\n"
     ]
    },
    {
     "name": "stdout",
     "output_type": "stream",
     "text": [
      "  \n",
      "15"
     ]
    },
    {
     "name": "stderr",
     "output_type": "stream",
     "text": [
      "WARNING:gensim.models.word2vec:supplied example count (855406) did not equal expected count (5596213)\n"
     ]
    },
    {
     "name": "stdout",
     "output_type": "stream",
     "text": [
      "  \n",
      "16"
     ]
    },
    {
     "name": "stderr",
     "output_type": "stream",
     "text": [
      "WARNING:gensim.models.word2vec:supplied example count (855406) did not equal expected count (5596213)\n"
     ]
    },
    {
     "name": "stdout",
     "output_type": "stream",
     "text": [
      "  \n",
      "17"
     ]
    },
    {
     "name": "stderr",
     "output_type": "stream",
     "text": [
      "WARNING:gensim.models.word2vec:supplied example count (855406) did not equal expected count (5596213)\n"
     ]
    },
    {
     "name": "stdout",
     "output_type": "stream",
     "text": [
      "  \n",
      "18"
     ]
    },
    {
     "name": "stderr",
     "output_type": "stream",
     "text": [
      "WARNING:gensim.models.word2vec:supplied example count (855406) did not equal expected count (5596213)\n"
     ]
    },
    {
     "name": "stdout",
     "output_type": "stream",
     "text": [
      "  \n",
      "19"
     ]
    },
    {
     "name": "stderr",
     "output_type": "stream",
     "text": [
      "WARNING:gensim.models.word2vec:supplied example count (855406) did not equal expected count (5596213)\n"
     ]
    },
    {
     "name": "stdout",
     "output_type": "stream",
     "text": [
      "  \n",
      "20"
     ]
    },
    {
     "name": "stderr",
     "output_type": "stream",
     "text": [
      "WARNING:gensim.models.word2vec:supplied example count (855406) did not equal expected count (5596213)\n"
     ]
    },
    {
     "name": "stdout",
     "output_type": "stream",
     "text": [
      "  \n",
      "21"
     ]
    },
    {
     "name": "stderr",
     "output_type": "stream",
     "text": [
      "WARNING:gensim.models.word2vec:supplied example count (855406) did not equal expected count (5596213)\n"
     ]
    },
    {
     "name": "stdout",
     "output_type": "stream",
     "text": [
      "  \n",
      "22"
     ]
    },
    {
     "name": "stderr",
     "output_type": "stream",
     "text": [
      "WARNING:gensim.models.word2vec:supplied example count (855406) did not equal expected count (5596213)\n"
     ]
    },
    {
     "name": "stdout",
     "output_type": "stream",
     "text": [
      "  \n",
      "23"
     ]
    },
    {
     "name": "stderr",
     "output_type": "stream",
     "text": [
      "WARNING:gensim.models.word2vec:supplied example count (855406) did not equal expected count (5596213)\n"
     ]
    },
    {
     "name": "stdout",
     "output_type": "stream",
     "text": [
      "  \n",
      "24"
     ]
    },
    {
     "name": "stderr",
     "output_type": "stream",
     "text": [
      "WARNING:gensim.models.word2vec:supplied example count (855406) did not equal expected count (5596213)\n"
     ]
    },
    {
     "name": "stdout",
     "output_type": "stream",
     "text": [
      "  \n",
      ".\n",
      "2 :\n",
      "0"
     ]
    },
    {
     "name": "stderr",
     "output_type": "stream",
     "text": [
      "WARNING:gensim.models.word2vec:supplied example count (466358) did not equal expected count (5596213)\n"
     ]
    },
    {
     "name": "stdout",
     "output_type": "stream",
     "text": [
      "  \n",
      "1"
     ]
    },
    {
     "name": "stderr",
     "output_type": "stream",
     "text": [
      "WARNING:gensim.models.word2vec:supplied example count (466358) did not equal expected count (5596213)\n"
     ]
    },
    {
     "name": "stdout",
     "output_type": "stream",
     "text": [
      "  \n",
      "2"
     ]
    },
    {
     "name": "stderr",
     "output_type": "stream",
     "text": [
      "WARNING:gensim.models.word2vec:supplied example count (466358) did not equal expected count (5596213)\n"
     ]
    },
    {
     "name": "stdout",
     "output_type": "stream",
     "text": [
      "  \n",
      "3"
     ]
    },
    {
     "name": "stderr",
     "output_type": "stream",
     "text": [
      "WARNING:gensim.models.word2vec:supplied example count (466358) did not equal expected count (5596213)\n"
     ]
    },
    {
     "name": "stdout",
     "output_type": "stream",
     "text": [
      "  \n",
      "4"
     ]
    },
    {
     "name": "stderr",
     "output_type": "stream",
     "text": [
      "WARNING:gensim.models.word2vec:supplied example count (466358) did not equal expected count (5596213)\n"
     ]
    },
    {
     "name": "stdout",
     "output_type": "stream",
     "text": [
      "  \n",
      "5"
     ]
    },
    {
     "name": "stderr",
     "output_type": "stream",
     "text": [
      "WARNING:gensim.models.word2vec:supplied example count (466358) did not equal expected count (5596213)\n"
     ]
    },
    {
     "name": "stdout",
     "output_type": "stream",
     "text": [
      "  \n",
      "6"
     ]
    },
    {
     "name": "stderr",
     "output_type": "stream",
     "text": [
      "WARNING:gensim.models.word2vec:supplied example count (466358) did not equal expected count (5596213)\n"
     ]
    },
    {
     "name": "stdout",
     "output_type": "stream",
     "text": [
      "  \n",
      "7"
     ]
    },
    {
     "name": "stderr",
     "output_type": "stream",
     "text": [
      "WARNING:gensim.models.word2vec:supplied example count (466358) did not equal expected count (5596213)\n"
     ]
    },
    {
     "name": "stdout",
     "output_type": "stream",
     "text": [
      "  \n",
      "8"
     ]
    },
    {
     "name": "stderr",
     "output_type": "stream",
     "text": [
      "WARNING:gensim.models.word2vec:supplied example count (466358) did not equal expected count (5596213)\n"
     ]
    },
    {
     "name": "stdout",
     "output_type": "stream",
     "text": [
      "  \n",
      "9"
     ]
    },
    {
     "name": "stderr",
     "output_type": "stream",
     "text": [
      "WARNING:gensim.models.word2vec:supplied example count (466358) did not equal expected count (5596213)\n"
     ]
    },
    {
     "name": "stdout",
     "output_type": "stream",
     "text": [
      "  \n",
      "10"
     ]
    },
    {
     "name": "stderr",
     "output_type": "stream",
     "text": [
      "WARNING:gensim.models.word2vec:supplied example count (466358) did not equal expected count (5596213)\n"
     ]
    },
    {
     "name": "stdout",
     "output_type": "stream",
     "text": [
      "  \n",
      "11"
     ]
    },
    {
     "name": "stderr",
     "output_type": "stream",
     "text": [
      "WARNING:gensim.models.word2vec:supplied example count (466358) did not equal expected count (5596213)\n"
     ]
    },
    {
     "name": "stdout",
     "output_type": "stream",
     "text": [
      "  \n",
      "12"
     ]
    },
    {
     "name": "stderr",
     "output_type": "stream",
     "text": [
      "WARNING:gensim.models.word2vec:supplied example count (466358) did not equal expected count (5596213)\n"
     ]
    },
    {
     "name": "stdout",
     "output_type": "stream",
     "text": [
      "  \n",
      "13"
     ]
    },
    {
     "name": "stderr",
     "output_type": "stream",
     "text": [
      "WARNING:gensim.models.word2vec:supplied example count (466358) did not equal expected count (5596213)\n"
     ]
    },
    {
     "name": "stdout",
     "output_type": "stream",
     "text": [
      "  \n",
      "14"
     ]
    },
    {
     "name": "stderr",
     "output_type": "stream",
     "text": [
      "WARNING:gensim.models.word2vec:supplied example count (466358) did not equal expected count (5596213)\n"
     ]
    },
    {
     "name": "stdout",
     "output_type": "stream",
     "text": [
      "  \n",
      "15"
     ]
    },
    {
     "name": "stderr",
     "output_type": "stream",
     "text": [
      "WARNING:gensim.models.word2vec:supplied example count (466358) did not equal expected count (5596213)\n"
     ]
    },
    {
     "name": "stdout",
     "output_type": "stream",
     "text": [
      "  \n",
      "16"
     ]
    },
    {
     "name": "stderr",
     "output_type": "stream",
     "text": [
      "WARNING:gensim.models.word2vec:supplied example count (466358) did not equal expected count (5596213)\n"
     ]
    },
    {
     "name": "stdout",
     "output_type": "stream",
     "text": [
      "  \n",
      "17"
     ]
    },
    {
     "name": "stderr",
     "output_type": "stream",
     "text": [
      "WARNING:gensim.models.word2vec:supplied example count (466358) did not equal expected count (5596213)\n"
     ]
    },
    {
     "name": "stdout",
     "output_type": "stream",
     "text": [
      "  \n",
      "18"
     ]
    },
    {
     "name": "stderr",
     "output_type": "stream",
     "text": [
      "WARNING:gensim.models.word2vec:supplied example count (466358) did not equal expected count (5596213)\n"
     ]
    },
    {
     "name": "stdout",
     "output_type": "stream",
     "text": [
      "  \n",
      "19"
     ]
    },
    {
     "name": "stderr",
     "output_type": "stream",
     "text": [
      "WARNING:gensim.models.word2vec:supplied example count (466358) did not equal expected count (5596213)\n"
     ]
    },
    {
     "name": "stdout",
     "output_type": "stream",
     "text": [
      "  \n",
      "20"
     ]
    },
    {
     "name": "stderr",
     "output_type": "stream",
     "text": [
      "WARNING:gensim.models.word2vec:supplied example count (466358) did not equal expected count (5596213)\n"
     ]
    },
    {
     "name": "stdout",
     "output_type": "stream",
     "text": [
      "  \n",
      "21"
     ]
    },
    {
     "name": "stderr",
     "output_type": "stream",
     "text": [
      "WARNING:gensim.models.word2vec:supplied example count (466358) did not equal expected count (5596213)\n"
     ]
    },
    {
     "name": "stdout",
     "output_type": "stream",
     "text": [
      "  \n",
      "22"
     ]
    },
    {
     "name": "stderr",
     "output_type": "stream",
     "text": [
      "WARNING:gensim.models.word2vec:supplied example count (466358) did not equal expected count (5596213)\n"
     ]
    },
    {
     "name": "stdout",
     "output_type": "stream",
     "text": [
      "  \n",
      "23"
     ]
    },
    {
     "name": "stderr",
     "output_type": "stream",
     "text": [
      "WARNING:gensim.models.word2vec:supplied example count (466358) did not equal expected count (5596213)\n"
     ]
    },
    {
     "name": "stdout",
     "output_type": "stream",
     "text": [
      "  \n",
      "24"
     ]
    },
    {
     "name": "stderr",
     "output_type": "stream",
     "text": [
      "WARNING:gensim.models.word2vec:supplied example count (466358) did not equal expected count (5596213)\n"
     ]
    },
    {
     "name": "stdout",
     "output_type": "stream",
     "text": [
      "  \n",
      ".\n",
      "5 :\n",
      "0"
     ]
    },
    {
     "name": "stderr",
     "output_type": "stream",
     "text": [
      "WARNING:gensim.models.word2vec:supplied example count (2037495) did not equal expected count (5596213)\n"
     ]
    },
    {
     "name": "stdout",
     "output_type": "stream",
     "text": [
      "  \n",
      "1"
     ]
    },
    {
     "name": "stderr",
     "output_type": "stream",
     "text": [
      "WARNING:gensim.models.word2vec:supplied example count (2037495) did not equal expected count (5596213)\n"
     ]
    },
    {
     "name": "stdout",
     "output_type": "stream",
     "text": [
      "  \n",
      "2"
     ]
    },
    {
     "name": "stderr",
     "output_type": "stream",
     "text": [
      "WARNING:gensim.models.word2vec:supplied example count (2037495) did not equal expected count (5596213)\n"
     ]
    },
    {
     "name": "stdout",
     "output_type": "stream",
     "text": [
      "  \n",
      "3"
     ]
    },
    {
     "name": "stderr",
     "output_type": "stream",
     "text": [
      "WARNING:gensim.models.word2vec:supplied example count (2037495) did not equal expected count (5596213)\n"
     ]
    },
    {
     "name": "stdout",
     "output_type": "stream",
     "text": [
      "  \n",
      "4"
     ]
    },
    {
     "name": "stderr",
     "output_type": "stream",
     "text": [
      "WARNING:gensim.models.word2vec:supplied example count (2037495) did not equal expected count (5596213)\n"
     ]
    },
    {
     "name": "stdout",
     "output_type": "stream",
     "text": [
      "  \n",
      "5"
     ]
    },
    {
     "name": "stderr",
     "output_type": "stream",
     "text": [
      "WARNING:gensim.models.word2vec:supplied example count (2037495) did not equal expected count (5596213)\n"
     ]
    },
    {
     "name": "stdout",
     "output_type": "stream",
     "text": [
      "  \n",
      "6"
     ]
    },
    {
     "name": "stderr",
     "output_type": "stream",
     "text": [
      "WARNING:gensim.models.word2vec:supplied example count (2037495) did not equal expected count (5596213)\n"
     ]
    },
    {
     "name": "stdout",
     "output_type": "stream",
     "text": [
      "  \n",
      "7"
     ]
    },
    {
     "name": "stderr",
     "output_type": "stream",
     "text": [
      "WARNING:gensim.models.word2vec:supplied example count (2037495) did not equal expected count (5596213)\n"
     ]
    },
    {
     "name": "stdout",
     "output_type": "stream",
     "text": [
      "  \n",
      "8"
     ]
    },
    {
     "name": "stderr",
     "output_type": "stream",
     "text": [
      "WARNING:gensim.models.word2vec:supplied example count (2037495) did not equal expected count (5596213)\n"
     ]
    },
    {
     "name": "stdout",
     "output_type": "stream",
     "text": [
      "  \n",
      "9"
     ]
    },
    {
     "name": "stderr",
     "output_type": "stream",
     "text": [
      "WARNING:gensim.models.word2vec:supplied example count (2037495) did not equal expected count (5596213)\n"
     ]
    },
    {
     "name": "stdout",
     "output_type": "stream",
     "text": [
      "  \n",
      "10"
     ]
    },
    {
     "name": "stderr",
     "output_type": "stream",
     "text": [
      "WARNING:gensim.models.word2vec:supplied example count (2037495) did not equal expected count (5596213)\n"
     ]
    },
    {
     "name": "stdout",
     "output_type": "stream",
     "text": [
      "  \n",
      "11"
     ]
    },
    {
     "name": "stderr",
     "output_type": "stream",
     "text": [
      "WARNING:gensim.models.word2vec:supplied example count (2037495) did not equal expected count (5596213)\n"
     ]
    },
    {
     "name": "stdout",
     "output_type": "stream",
     "text": [
      "  \n",
      "12"
     ]
    },
    {
     "name": "stderr",
     "output_type": "stream",
     "text": [
      "WARNING:gensim.models.word2vec:supplied example count (2037495) did not equal expected count (5596213)\n"
     ]
    },
    {
     "name": "stdout",
     "output_type": "stream",
     "text": [
      "  \n",
      "13"
     ]
    },
    {
     "name": "stderr",
     "output_type": "stream",
     "text": [
      "WARNING:gensim.models.word2vec:supplied example count (2037495) did not equal expected count (5596213)\n"
     ]
    },
    {
     "name": "stdout",
     "output_type": "stream",
     "text": [
      "  \n",
      "14"
     ]
    },
    {
     "name": "stderr",
     "output_type": "stream",
     "text": [
      "WARNING:gensim.models.word2vec:supplied example count (2037495) did not equal expected count (5596213)\n"
     ]
    },
    {
     "name": "stdout",
     "output_type": "stream",
     "text": [
      "  \n",
      "15"
     ]
    },
    {
     "name": "stderr",
     "output_type": "stream",
     "text": [
      "WARNING:gensim.models.word2vec:supplied example count (2037495) did not equal expected count (5596213)\n"
     ]
    },
    {
     "name": "stdout",
     "output_type": "stream",
     "text": [
      "  \n",
      "16"
     ]
    },
    {
     "name": "stderr",
     "output_type": "stream",
     "text": [
      "WARNING:gensim.models.word2vec:supplied example count (2037495) did not equal expected count (5596213)\n"
     ]
    },
    {
     "name": "stdout",
     "output_type": "stream",
     "text": [
      "  \n",
      "17"
     ]
    },
    {
     "name": "stderr",
     "output_type": "stream",
     "text": [
      "WARNING:gensim.models.word2vec:supplied example count (2037495) did not equal expected count (5596213)\n"
     ]
    },
    {
     "name": "stdout",
     "output_type": "stream",
     "text": [
      "  \n",
      "18"
     ]
    },
    {
     "name": "stderr",
     "output_type": "stream",
     "text": [
      "WARNING:gensim.models.word2vec:supplied example count (2037495) did not equal expected count (5596213)\n"
     ]
    },
    {
     "name": "stdout",
     "output_type": "stream",
     "text": [
      "  \n",
      "19"
     ]
    },
    {
     "name": "stderr",
     "output_type": "stream",
     "text": [
      "WARNING:gensim.models.word2vec:supplied example count (2037495) did not equal expected count (5596213)\n"
     ]
    },
    {
     "name": "stdout",
     "output_type": "stream",
     "text": [
      "  \n",
      "20"
     ]
    },
    {
     "name": "stderr",
     "output_type": "stream",
     "text": [
      "WARNING:gensim.models.word2vec:supplied example count (2037495) did not equal expected count (5596213)\n"
     ]
    },
    {
     "name": "stdout",
     "output_type": "stream",
     "text": [
      "  \n",
      "21"
     ]
    },
    {
     "name": "stderr",
     "output_type": "stream",
     "text": [
      "WARNING:gensim.models.word2vec:supplied example count (2037495) did not equal expected count (5596213)\n"
     ]
    },
    {
     "name": "stdout",
     "output_type": "stream",
     "text": [
      "  \n",
      "22"
     ]
    },
    {
     "name": "stderr",
     "output_type": "stream",
     "text": [
      "WARNING:gensim.models.word2vec:supplied example count (2037495) did not equal expected count (5596213)\n"
     ]
    },
    {
     "name": "stdout",
     "output_type": "stream",
     "text": [
      "  \n",
      "23"
     ]
    },
    {
     "name": "stderr",
     "output_type": "stream",
     "text": [
      "WARNING:gensim.models.word2vec:supplied example count (2037495) did not equal expected count (5596213)\n"
     ]
    },
    {
     "name": "stdout",
     "output_type": "stream",
     "text": [
      "  \n",
      "24"
     ]
    },
    {
     "name": "stderr",
     "output_type": "stream",
     "text": [
      "WARNING:gensim.models.word2vec:supplied example count (2037495) did not equal expected count (5596213)\n"
     ]
    },
    {
     "name": "stdout",
     "output_type": "stream",
     "text": [
      "  \n",
      ".\n",
      "4 :\n",
      "0"
     ]
    },
    {
     "name": "stderr",
     "output_type": "stream",
     "text": [
      "WARNING:gensim.models.word2vec:supplied example count (1823006) did not equal expected count (5596213)\n"
     ]
    },
    {
     "name": "stdout",
     "output_type": "stream",
     "text": [
      "  \n",
      "1"
     ]
    },
    {
     "name": "stderr",
     "output_type": "stream",
     "text": [
      "WARNING:gensim.models.word2vec:supplied example count (1823006) did not equal expected count (5596213)\n"
     ]
    },
    {
     "name": "stdout",
     "output_type": "stream",
     "text": [
      "  \n",
      "2"
     ]
    },
    {
     "name": "stderr",
     "output_type": "stream",
     "text": [
      "WARNING:gensim.models.word2vec:supplied example count (1823006) did not equal expected count (5596213)\n"
     ]
    },
    {
     "name": "stdout",
     "output_type": "stream",
     "text": [
      "  \n",
      "3"
     ]
    },
    {
     "name": "stderr",
     "output_type": "stream",
     "text": [
      "WARNING:gensim.models.word2vec:supplied example count (1823006) did not equal expected count (5596213)\n"
     ]
    },
    {
     "name": "stdout",
     "output_type": "stream",
     "text": [
      "  \n",
      "4"
     ]
    },
    {
     "name": "stderr",
     "output_type": "stream",
     "text": [
      "WARNING:gensim.models.word2vec:supplied example count (1823006) did not equal expected count (5596213)\n"
     ]
    },
    {
     "name": "stdout",
     "output_type": "stream",
     "text": [
      "  \n",
      "5"
     ]
    },
    {
     "name": "stderr",
     "output_type": "stream",
     "text": [
      "WARNING:gensim.models.word2vec:supplied example count (1823006) did not equal expected count (5596213)\n"
     ]
    },
    {
     "name": "stdout",
     "output_type": "stream",
     "text": [
      "  \n",
      "6"
     ]
    },
    {
     "name": "stderr",
     "output_type": "stream",
     "text": [
      "WARNING:gensim.models.word2vec:supplied example count (1823006) did not equal expected count (5596213)\n"
     ]
    },
    {
     "name": "stdout",
     "output_type": "stream",
     "text": [
      "  \n",
      "7"
     ]
    },
    {
     "name": "stderr",
     "output_type": "stream",
     "text": [
      "WARNING:gensim.models.word2vec:supplied example count (1823006) did not equal expected count (5596213)\n"
     ]
    },
    {
     "name": "stdout",
     "output_type": "stream",
     "text": [
      "  \n",
      "8"
     ]
    },
    {
     "name": "stderr",
     "output_type": "stream",
     "text": [
      "WARNING:gensim.models.word2vec:supplied example count (1823006) did not equal expected count (5596213)\n"
     ]
    },
    {
     "name": "stdout",
     "output_type": "stream",
     "text": [
      "  \n",
      "9"
     ]
    },
    {
     "name": "stderr",
     "output_type": "stream",
     "text": [
      "WARNING:gensim.models.word2vec:supplied example count (1823006) did not equal expected count (5596213)\n"
     ]
    },
    {
     "name": "stdout",
     "output_type": "stream",
     "text": [
      "  \n",
      "10"
     ]
    },
    {
     "name": "stderr",
     "output_type": "stream",
     "text": [
      "WARNING:gensim.models.word2vec:supplied example count (1823006) did not equal expected count (5596213)\n"
     ]
    },
    {
     "name": "stdout",
     "output_type": "stream",
     "text": [
      "  \n",
      "11"
     ]
    },
    {
     "name": "stderr",
     "output_type": "stream",
     "text": [
      "WARNING:gensim.models.word2vec:supplied example count (1823006) did not equal expected count (5596213)\n"
     ]
    },
    {
     "name": "stdout",
     "output_type": "stream",
     "text": [
      "  \n",
      "12"
     ]
    },
    {
     "name": "stderr",
     "output_type": "stream",
     "text": [
      "WARNING:gensim.models.word2vec:supplied example count (1823006) did not equal expected count (5596213)\n"
     ]
    },
    {
     "name": "stdout",
     "output_type": "stream",
     "text": [
      "  \n",
      "13"
     ]
    },
    {
     "name": "stderr",
     "output_type": "stream",
     "text": [
      "WARNING:gensim.models.word2vec:supplied example count (1823006) did not equal expected count (5596213)\n"
     ]
    },
    {
     "name": "stdout",
     "output_type": "stream",
     "text": [
      "  \n",
      "14"
     ]
    },
    {
     "name": "stderr",
     "output_type": "stream",
     "text": [
      "WARNING:gensim.models.word2vec:supplied example count (1823006) did not equal expected count (5596213)\n"
     ]
    },
    {
     "name": "stdout",
     "output_type": "stream",
     "text": [
      "  \n",
      "15"
     ]
    },
    {
     "name": "stderr",
     "output_type": "stream",
     "text": [
      "WARNING:gensim.models.word2vec:supplied example count (1823006) did not equal expected count (5596213)\n"
     ]
    },
    {
     "name": "stdout",
     "output_type": "stream",
     "text": [
      "  \n",
      "16"
     ]
    },
    {
     "name": "stderr",
     "output_type": "stream",
     "text": [
      "WARNING:gensim.models.word2vec:supplied example count (1823006) did not equal expected count (5596213)\n"
     ]
    },
    {
     "name": "stdout",
     "output_type": "stream",
     "text": [
      "  \n",
      "17"
     ]
    },
    {
     "name": "stderr",
     "output_type": "stream",
     "text": [
      "WARNING:gensim.models.word2vec:supplied example count (1823006) did not equal expected count (5596213)\n"
     ]
    },
    {
     "name": "stdout",
     "output_type": "stream",
     "text": [
      "  \n",
      "18"
     ]
    },
    {
     "name": "stderr",
     "output_type": "stream",
     "text": [
      "WARNING:gensim.models.word2vec:supplied example count (1823006) did not equal expected count (5596213)\n"
     ]
    },
    {
     "name": "stdout",
     "output_type": "stream",
     "text": [
      "  \n",
      "19"
     ]
    },
    {
     "name": "stderr",
     "output_type": "stream",
     "text": [
      "WARNING:gensim.models.word2vec:supplied example count (1823006) did not equal expected count (5596213)\n"
     ]
    },
    {
     "name": "stdout",
     "output_type": "stream",
     "text": [
      "  \n",
      "20"
     ]
    },
    {
     "name": "stderr",
     "output_type": "stream",
     "text": [
      "WARNING:gensim.models.word2vec:supplied example count (1823006) did not equal expected count (5596213)\n"
     ]
    },
    {
     "name": "stdout",
     "output_type": "stream",
     "text": [
      "  \n",
      "21"
     ]
    },
    {
     "name": "stderr",
     "output_type": "stream",
     "text": [
      "WARNING:gensim.models.word2vec:supplied example count (1823006) did not equal expected count (5596213)\n"
     ]
    },
    {
     "name": "stdout",
     "output_type": "stream",
     "text": [
      "  \n",
      "22"
     ]
    },
    {
     "name": "stderr",
     "output_type": "stream",
     "text": [
      "WARNING:gensim.models.word2vec:supplied example count (1823006) did not equal expected count (5596213)\n"
     ]
    },
    {
     "name": "stdout",
     "output_type": "stream",
     "text": [
      "  \n",
      "23"
     ]
    },
    {
     "name": "stderr",
     "output_type": "stream",
     "text": [
      "WARNING:gensim.models.word2vec:supplied example count (1823006) did not equal expected count (5596213)\n"
     ]
    },
    {
     "name": "stdout",
     "output_type": "stream",
     "text": [
      "  \n",
      "24"
     ]
    },
    {
     "name": "stderr",
     "output_type": "stream",
     "text": [
      "WARNING:gensim.models.word2vec:supplied example count (1823006) did not equal expected count (5596213)\n"
     ]
    },
    {
     "name": "stdout",
     "output_type": "stream",
     "text": [
      "  \n",
      ".\n"
     ]
    }
   ],
   "source": [
    "model = {}\n",
    "reviews = {}\n",
    "model = { g: deepcopy(jointmodel) for g in docgrp_fine }\n",
    "for g in docgrp_fine:\n",
    "    print g, \":\"\n",
    "    reviews[g] = preprocessed_train_df[preprocessed_train_df['stars']==docgrp_fine[g]].txt\n",
    "    model[g] = deepcopy(jointmodel)\n",
    "    trainW2V( g,T=25 )"
   ]
  },
  {
   "cell_type": "markdown",
   "metadata": {},
   "source": [
    "### Test difference between product and average "
   ]
  },
  {
   "cell_type": "code",
   "execution_count": 21,
   "metadata": {
    "collapsed": false
   },
   "outputs": [
    {
     "data": {
      "text/plain": [
       "(263569, 2)"
      ]
     },
     "execution_count": 21,
     "metadata": {},
     "output_type": "execute_result"
    }
   ],
   "source": [
    "preprocessed_test_df.shape"
   ]
  },
  {
   "cell_type": "code",
   "execution_count": 22,
   "metadata": {
    "collapsed": false,
    "scrolled": true
   },
   "outputs": [],
   "source": [
    "tmp_test_df = preprocessed_test_df[:10000]\n",
    "groups = ['0','1','2','3','4','5']\n",
    "prediction_a = getprobs(tmp_test_df.txt.values,groups)\n",
    "prediction_a['label'] = pd.Series(tmp_test_df.stars.values,index=prediction_a.index)\n",
    "prediction_a['prediction'] = pd.Series(prediction_a[groups].idxmax('columns').values,index=prediction_a.index).astype(np.float64)\n",
    "prediction_a['txt'] = pd.Series(tmp_test_df.txt.values,index=prediction_a.index)\n",
    "\n",
    "\n",
    "prediction_p = getprobs(tmp_test_df.txt.values,groups,by='product')\n",
    "prediction_p['label'] = pd.Series(tmp_test_df.stars.values,index=prediction_p.index)\n",
    "prediction_p['prediction'] = pd.Series(prediction_p[groups].idxmax('columns').values,index=prediction_p.index).astype(np.float64)\n",
    "prediction_p['txt'] = pd.Series(tmp_test_df.txt.values,index=prediction_p.index)"
   ]
  },
  {
   "cell_type": "code",
   "execution_count": 23,
   "metadata": {
    "collapsed": true
   },
   "outputs": [],
   "source": [
    "from sklearn.metrics import confusion_matrix"
   ]
  },
  {
   "cell_type": "code",
   "execution_count": 24,
   "metadata": {
    "collapsed": false
   },
   "outputs": [
    {
     "data": {
      "text/plain": [
       "array([[   0,    0,    0,    5,    0,    3],\n",
       "       [   0,  481,  301,  163,   67,   32],\n",
       "       [   0,   73,  153,  170,   64,   13],\n",
       "       [   0,   30,  194,  534,  347,   74],\n",
       "       [   0,   12,   61,  432, 1506,  836],\n",
       "       [   0,   10,   19,  138, 1234, 3048]])"
      ]
     },
     "execution_count": 24,
     "metadata": {},
     "output_type": "execute_result"
    }
   ],
   "source": [
    "confusion_matrix(prediction_a.prediction.values,prediction_a.label.values)"
   ]
  },
  {
   "cell_type": "code",
   "execution_count": 27,
   "metadata": {
    "collapsed": false
   },
   "outputs": [
    {
     "data": {
      "text/plain": [
       "array([[   0,    0,    0,    1,    0,    2],\n",
       "       [   0,  421,  194,   73,   34,   23],\n",
       "       [   0,  122,  256,  207,   78,   22],\n",
       "       [   0,   49,  234,  696,  456,  101],\n",
       "       [   0,   10,   39,  412, 1800, 1034],\n",
       "       [   0,    4,    5,   53,  850, 2824]])"
      ]
     },
     "execution_count": 27,
     "metadata": {},
     "output_type": "execute_result"
    }
   ],
   "source": [
    "prediction_p=prediction_p.fillna(1)\n",
    "confusion_matrix(prediction_p.prediction.values,prediction_p.label.values)"
   ]
  },
  {
   "cell_type": "markdown",
   "metadata": {},
   "source": [
    "### Difference with others"
   ]
  },
  {
   "cell_type": "code",
   "execution_count": 29,
   "metadata": {
    "collapsed": false
   },
   "outputs": [
    {
     "name": "stdout",
     "output_type": "stream",
     "text": [
      " 157.408 -254.307 0.850154 23.247 -1.50901854038\n"
     ]
    },
    {
     "data": {
      "image/png": "[encoded data removed]",
      "text/plain": [
       "<matplotlib.figure.Figure at 0x7fbb3dc455d0>"
      ]
     },
     "metadata": {},
     "output_type": "display_data"
    }
   ],
   "source": [
    "c = 5\n",
    "from scipy.stats import skew\n",
    "diff =[]\n",
    "index = (prediction_a.label == c)\n",
    "n = 300 #np.where(index)[0].shape[0]\n",
    "for i in range(n):\n",
    "    sentences = prediction_a[index].txt.values[i]\n",
    "    data_others = []\n",
    "    for g in groups:\n",
    "        if g != str(c):\n",
    "            data_others.append(model[g].score(sentences))\n",
    "    data_others=np.array(data_others)\n",
    "    data = model[str(c)].score(sentences)\n",
    "    dif =  data - data_others.max(axis=0)\n",
    "    diff.append(dif)\n",
    "diff = np.concatenate(diff)\n",
    "_=plt.hist(diff,bins=200,normed=True)\n",
    "\n",
    "print diff.max(),diff.min(),diff.mean(),diff.std(),skew(diff)"
   ]
  },
  {
   "cell_type": "code",
   "execution_count": 30,
   "metadata": {
    "collapsed": false
   },
   "outputs": [
    {
     "name": "stdout",
     "output_type": "stream",
     "text": [
      "164.572 -245.146 -6.29573 18.899 -1.32419621944\n"
     ]
    },
    {
     "data": {
      "image/png": "[encoded data removed]",
      "text/plain": [
       "<matplotlib.figure.Figure at 0x7fbb22531b10>"
      ]
     },
     "metadata": {},
     "output_type": "display_data"
    }
   ],
   "source": [
    "c = 4\n",
    "from scipy.stats import skew\n",
    "diff =[]\n",
    "index = (prediction_a.label == c)\n",
    "n = 300 #np.where(index)[0].shape[0]\n",
    "for i in range(n):\n",
    "    sentences = prediction_a[index].txt.values[i]\n",
    "    data_others = []\n",
    "    for g in groups:\n",
    "        if g != str(c):\n",
    "            data_others.append(model[g].score(sentences))\n",
    "    data_others=np.array(data_others)\n",
    "    data = model[str(c)].score(sentences)\n",
    "    dif =  data - data_others.max(axis=0)\n",
    "    diff.append(dif)\n",
    "diff = np.concatenate(diff)\n",
    "_=plt.hist(diff,bins=200,normed=True)\n",
    "\n",
    "print diff.max(),diff.min(),diff.mean(),diff.std(),skew(diff)"
   ]
  },
  {
   "cell_type": "code",
   "execution_count": 31,
   "metadata": {
    "collapsed": false
   },
   "outputs": [
    {
     "name": "stdout",
     "output_type": "stream",
     "text": [
      "164.572 -245.146 -6.29573 18.899 -1.32419621944\n"
     ]
    },
    {
     "data": {
      "image/png": "[encoded data removed]",
      "text/plain": [
       "<matplotlib.figure.Figure at 0x7fbb2137add0>"
      ]
     },
     "metadata": {},
     "output_type": "display_data"
    }
   ],
   "source": [
    "c = 4\n",
    "from scipy.stats import skew\n",
    "diff =[]\n",
    "index = (prediction_a.label == c)\n",
    "n = 300 #np.where(index)[0].shape[0]\n",
    "for i in range(n):\n",
    "    sentences = prediction_a[index].txt.values[i]\n",
    "    data_others = []\n",
    "    for g in groups:\n",
    "        if g != str(c):\n",
    "            data_others.append(model[g].score(sentences))\n",
    "    data_others=np.array(data_others)\n",
    "    data = model[str(c)].score(sentences)\n",
    "    dif =  data - data_others.max(axis=0)\n",
    "    diff.append(dif)\n",
    "diff = np.concatenate(diff)\n",
    "_=plt.hist(diff,bins=200,normed=True)\n",
    "\n",
    "print diff.max(),diff.min(),diff.mean(),diff.std(),skew(diff)"
   ]
  },
  {
   "cell_type": "code",
   "execution_count": 32,
   "metadata": {
    "collapsed": false
   },
   "outputs": [
    {
     "name": "stdout",
     "output_type": "stream",
     "text": [
      "79.2646 -209.514 -8.41033 18.4963 -1.80496788025\n"
     ]
    },
    {
     "data": {
      "image/png": "[encoded data removed]",
      "text/plain": [
       "<matplotlib.figure.Figure at 0x7fbb1acb8090>"
      ]
     },
     "metadata": {},
     "output_type": "display_data"
    }
   ],
   "source": [
    "c = 3\n",
    "from scipy.stats import skew\n",
    "diff =[]\n",
    "index = (prediction_a.label == c)\n",
    "n = 300 #np.where(index)[0].shape[0]\n",
    "for i in range(n):\n",
    "    sentences = prediction_a[index].txt.values[i]\n",
    "    data_others = []\n",
    "    for g in groups:\n",
    "        if g != str(c):\n",
    "            data_others.append(model[g].score(sentences))\n",
    "    data_others=np.array(data_others)\n",
    "    data = model[str(c)].score(sentences)\n",
    "    dif =  data - data_others.max(axis=0)\n",
    "    diff.append(dif)\n",
    "diff = np.concatenate(diff)\n",
    "_=plt.hist(diff,bins=200,normed=True)\n",
    "\n",
    "print diff.max(),diff.min(),diff.mean(),diff.std(),skew(diff)"
   ]
  },
  {
   "cell_type": "code",
   "execution_count": 33,
   "metadata": {
    "collapsed": false
   },
   "outputs": [
    {
     "name": "stdout",
     "output_type": "stream",
     "text": [
      "86.8306 -597.607 -10.6104 29.5046 -8.94784641266\n"
     ]
    },
    {
     "data": {
      "image/png": "[encoded data removed]",
      "text/plain": [
       "<matplotlib.figure.Figure at 0x7fbb20bc50d0>"
      ]
     },
     "metadata": {},
     "output_type": "display_data"
    }
   ],
   "source": [
    "c = 2\n",
    "from scipy.stats import skew\n",
    "diff =[]\n",
    "index = (prediction_a.label == c)\n",
    "n = 300 #np.where(index)[0].shape[0]\n",
    "for i in range(n):\n",
    "    sentences = prediction_a[index].txt.values[i]\n",
    "    data_others = []\n",
    "    for g in groups:\n",
    "        if g != str(c):\n",
    "            data_others.append(model[g].score(sentences))\n",
    "    data_others=np.array(data_others)\n",
    "    data = model[str(c)].score(sentences)\n",
    "    dif =  data - data_others.max(axis=0)\n",
    "    diff.append(dif)\n",
    "diff = np.concatenate(diff)\n",
    "_=plt.hist(diff,bins=200,normed=True)\n",
    "\n",
    "print diff.max(),diff.min(),diff.mean(),diff.std(),skew(diff)"
   ]
  },
  {
   "cell_type": "code",
   "execution_count": 34,
   "metadata": {
    "collapsed": false
   },
   "outputs": [
    {
     "name": "stdout",
     "output_type": "stream",
     "text": [
      "580.689 -244.674 1.11285 29.0051 1.71896135807\n"
     ]
    },
    {
     "data": {
      "image/png": "[encoded data removed]",
      "text/plain": [
       "<matplotlib.figure.Figure at 0x7fbb36623510>"
      ]
     },
     "metadata": {},
     "output_type": "display_data"
    }
   ],
   "source": [
    "c = 1\n",
    "from scipy.stats import skew\n",
    "diff =[]\n",
    "index = (prediction_a.label == c)\n",
    "n = 300 #np.where(index)[0].shape[0]\n",
    "for i in range(n):\n",
    "    sentences = prediction_a[index].txt.values[i]\n",
    "    data_others = []\n",
    "    for g in groups:\n",
    "        if g != str(c):\n",
    "            data_others.append(model[g].score(sentences))\n",
    "    data_others=np.array(data_others)\n",
    "    data = model[str(c)].score(sentences)\n",
    "    dif =  data - data_others.max(axis=0)\n",
    "    diff.append(dif)\n",
    "diff = np.concatenate(diff)\n",
    "_=plt.hist(diff,bins=200,normed=True)\n",
    "\n",
    "print diff.max(),diff.min(),diff.mean(),diff.std(),skew(diff)"
   ]
  },
  {
   "cell_type": "code",
   "execution_count": null,
   "metadata": {
    "collapsed": true
   },
   "outputs": [],
   "source": []
  },
  {
   "cell_type": "code",
   "execution_count": 136,
   "metadata": {
    "collapsed": false
   },
   "outputs": [
    {
     "data": {
      "text/plain": [
       "(array([ 54.,  31.,  25.,  44.,  53.,  55.,  44.,  28.,   6.,   2.]),\n",
       " array([  2.02533073e-25,   7.89983869e-02,   1.57996774e-01,\n",
       "          2.36995161e-01,   3.15993547e-01,   3.94991934e-01,\n",
       "          4.73990321e-01,   5.52988708e-01,   6.31987095e-01,\n",
       "          7.10985482e-01,   7.89983869e-01]),\n",
       " <a list of 10 Patch objects>)"
      ]
     },
     "execution_count": 136,
     "metadata": {},
     "output_type": "execute_result"
    },
    {
     "data": {
      "image/png": "[encoded data removed]",
      "text/plain": [
       "<matplotlib.figure.Figure at 0x7f2a3135f350>"
      ]
     },
     "metadata": {},
     "output_type": "display_data"
    }
   ],
   "source": [
    "# explore class 5\n",
    "# average right, product wrong\n",
    "index_ww = (prediction_a.prediction == prediction_a.label) & (prediction_p.prediction != prediction_p.label)\n",
    "plt.hist(prediction_a[index_ww]['5'].values,alpha=0.7,color='r')\n",
    "\n",
    "\n",
    "\n",
    "\n",
    "# plt.figure()\n",
    "# index_ww = (prediction_a.prediction == prediction_a.label)\n",
    "# plt.hist(prediction_a[index_ww]['5'].values,alpha=0.7,color='r')\n",
    "\n",
    "# plt.figure()\n",
    "# index_ww = (prediction_p.prediction == prediction_p.label)\n",
    "# plt.hist(prediction_p[index_ww]['5'].values)"
   ]
  },
  {
   "cell_type": "code",
   "execution_count": 179,
   "metadata": {
    "collapsed": false
   },
   "outputs": [
    {
     "data": {
      "image/png": "[encoded data removed]",
      "text/plain": [
       "<matplotlib.figure.Figure at 0x7f2a32d6e790>"
      ]
     },
     "metadata": {},
     "output_type": "display_data"
    }
   ],
   "source": [
    "tmp1 = prediction_a[groups]\n",
    "#tmp1 = (tmp1 - tmp1.values.ravel().mean())/tmp1.values.ravel().std()\n",
    "tmp1.values.sort(axis=1)\n",
    "tmp1 = tmp1['5'] - tmp1['4']\n",
    "plt.figure()\n",
    "_=plt.hist(tmp1.values,bins=50,normed=True)"
   ]
  },
  {
   "cell_type": "code",
   "execution_count": 190,
   "metadata": {
    "collapsed": false
   },
   "outputs": [
    {
     "data": {
      "image/png": "[encoded data removed]",
      "text/plain": [
       "<matplotlib.figure.Figure at 0x7f2942e71090>"
      ]
     },
     "metadata": {},
     "output_type": "display_data"
    }
   ],
   "source": [
    "tmp2 = prediction_p[groups]\n",
    "#tmp2 = (tmp2 - tmp2.values.ravel().mean())/tmp2.values.ravel().std()\n",
    "tmp2.values.sort(axis=1)\n",
    "tmp2 = tmp2['5'] - tmp2['4']\n",
    "plt.figure()\n",
    "_=plt.hist(tmp2.values,bins=50,normed=True)"
   ]
  },
  {
   "cell_type": "code",
   "execution_count": 188,
   "metadata": {
    "collapsed": false,
    "scrolled": false
   },
   "outputs": [
    {
     "data": {
      "text/plain": [
       "(-1, 1)"
      ]
     },
     "execution_count": 188,
     "metadata": {},
     "output_type": "execute_result"
    },
    {
     "data": {
      "image/png": "[encoded data removed]",
      "text/plain": [
       "<matplotlib.figure.Figure at 0x7f29435e7590>"
      ]
     },
     "metadata": {},
     "output_type": "display_data"
    },
    {
     "data": {
      "image/png": "[encoded data removed]",
      "text/plain": [
       "<matplotlib.figure.Figure at 0x7f2948906890>"
      ]
     },
     "metadata": {},
     "output_type": "display_data"
    },
    {
     "data": {
      "image/png": "[encoded data removed]",
      "text/plain": [
       "<matplotlib.figure.Figure at 0x7f2948906e50>"
      ]
     },
     "metadata": {},
     "output_type": "display_data"
    }
   ],
   "source": [
    "index_ww = (prediction_a.prediction == prediction_a.label) & (prediction_p.prediction != prediction_p.label)\n",
    "tmp1 = prediction_a[groups]\n",
    "tmp1.values.sort(axis=1)\n",
    "tmp1 = tmp1['5'] - tmp1['4']\n",
    "plt.figure()\n",
    "plt.hist(tmp1.values,bins=50,normed=True)\n",
    "#plt.title('Margin of product for all predictions')\n",
    "\n",
    "tmp1 = prediction_a[index_ww][groups]\n",
    "tmp1.values.sort(axis=1)\n",
    "tmp1 = tmp1['5'] - tmp1['4']\n",
    "plt.figure()\n",
    "plt.hist(tmp1.values,bins=50,normed=True)\n",
    "#plt.title('Margin of product for wrong predictions')\n",
    "plt.xlim((0,1))\n",
    "\n",
    "tmp1 = prediction_a[index_ww][groups]\n",
    "tmp1.values.sort(axis=1)\n",
    "tmp1 = tmp1['5'] - tmp1['4']\n",
    "\n",
    "tmp2 = prediction_p[index_ww][groups]\n",
    "tmp2.values.sort(axis=1)\n",
    "tmp2 = tmp2['5'] - tmp2['4']\n",
    "\n",
    "plt.figure()\n",
    "plt.hist(tmp1.values-tmp2.values,bins=50,normed=True)\n",
    "#plt.title('Difference for margin of average-product in cases where average is right')\n",
    "plt.xlim(-1,1)"
   ]
  },
  {
   "cell_type": "code",
   "execution_count": 189,
   "metadata": {
    "collapsed": false
   },
   "outputs": [
    {
     "data": {
      "text/plain": [
       "(-1, 1)"
      ]
     },
     "execution_count": 189,
     "metadata": {},
     "output_type": "execute_result"
    },
    {
     "data": {
      "image/png": "[encoded data removed]",
      "text/plain": [
       "<matplotlib.figure.Figure at 0x7f2948f67a50>"
      ]
     },
     "metadata": {},
     "output_type": "display_data"
    },
    {
     "data": {
      "image/png": "[encoded data removed]",
      "text/plain": [
       "<matplotlib.figure.Figure at 0x7f2948e06410>"
      ]
     },
     "metadata": {},
     "output_type": "display_data"
    },
    {
     "data": {
      "image/png": "[encoded data removed]",
      "text/plain": [
       "<matplotlib.figure.Figure at 0x7f2a2e2a1350>"
      ]
     },
     "metadata": {},
     "output_type": "display_data"
    }
   ],
   "source": [
    "index_ww = (prediction_a.prediction != prediction_a.label) & (prediction_p.prediction == prediction_p.label)\n",
    "tmp1 = prediction_a[groups]\n",
    "tmp1.values.sort(axis=1)\n",
    "tmp1 = tmp1['5'] - tmp1['4']\n",
    "plt.figure()\n",
    "plt.hist(tmp1.values,bins=50,normed=True)\n",
    "plt.title('Margin of product for all predictions')\n",
    "\n",
    "tmp1 = prediction_a[index_ww][groups]\n",
    "tmp1.values.sort(axis=1)\n",
    "tmp1 = tmp1['5'] - tmp1['4']\n",
    "plt.figure()\n",
    "plt.hist(tmp1.values,bins=50,normed=True)\n",
    "plt.title('Margin of product for wrong predictions')\n",
    "plt.xlim((0,1))\n",
    "\n",
    "tmp1 = prediction_a[index_ww][groups]\n",
    "tmp1.values.sort(axis=1)\n",
    "tmp1 = tmp1['5'] - tmp1['4']\n",
    "\n",
    "tmp2 = prediction_p[index_ww][groups]\n",
    "tmp2 = np.exp(tmp2)\n",
    "tmp2.values.sort(axis=1)\n",
    "tmp2 = tmp2['5'] - tmp2['4']\n",
    "\n",
    "plt.figure()\n",
    "plt.hist(tmp2.values-tmp1.values,bins=50,normed=True)\n",
    "#plt.title('Difference for margin of average-product in cases where average is right')\n",
    "plt.xlim(-1,1)"
   ]
  },
  {
   "cell_type": "raw",
   "metadata": {
    "collapsed": false
   },
   "source": [
    "testrev = {}\n",
    "probs = {}\n",
    "yhat = {}\n",
    "g = '5'\n",
    "testrev[g] =  preprocessed_test_df[preprocessed_test_df['stars']==docgrp_fine[g]].txt.values[:20]\n",
    "print testrev[g][6]\n",
    "probs[g] = getprobs(testrev[g], docgrp_fine)\n",
    "print probs\n",
    "yhat[g] = probs[g].idxmax(\"columns\")\n",
    "print yhat"
   ]
  },
  {
   "cell_type": "raw",
   "metadata": {
    "collapsed": false
   },
   "source": [
    "testrev = {}\n",
    "probs = {}\n",
    "yhat = {}\n",
    "g ='5'\n",
    "testrev[g] =  preprocessed_test_df[preprocessed_test_df['stars']==docgrp_fine[g]].txt.values[:20]\n",
    "print testrev[g][6]\n",
    "probs[g] = getprobs(testrev[g], docgrp_fine, by='product')\n",
    "print probs\n",
    "yhat[g] = probs[g].idxmax(\"columns\")\n",
    "print yhat"
   ]
  },
  {
   "cell_type": "raw",
   "metadata": {
    "collapsed": false
   },
   "source": [
    "## by average 25 iterations\n",
    "%time preprocessed_test_df = YelpReviews(test_df)\n",
    "testrev = {}\n",
    "probs = {}\n",
    "yhat = {}\n",
    "for g in docgrp_fine:\n",
    "    testrev[g] =  preprocessed_test_df[preprocessed_test_df['stars']==docgrp_fine[g]].txt.values\n",
    "    probs[g] = getprobs(testrev[g], docgrp_fine)\n",
    "    yhat[g] = probs[g].idxmax(\"columns\")\n",
    "\n",
    "mc_fine = pd.DataFrame({\n",
    "    'mcr': {g: (yhat[g] != g).mean() for g in docgrp_fine},\n",
    "    'n': {g: len(testrev[g]) for g in docgrp_fine}\n",
    "    })\n",
    "print(mc_fine)\n",
    "\n",
    "ntest = mc_fine['n'].sum()\n",
    "overall_fine = mc_fine.product(\"columns\").sum()/ntest\n",
    "print(\"\\nOverall Fine-Scale MCR: %.3f\" %overall_fine)"
   ]
  },
  {
   "cell_type": "raw",
   "metadata": {
    "collapsed": false,
    "scrolled": true
   },
   "source": [
    "## by product 25 iterations\n",
    "for g in docgrp_fine:\n",
    "    testrev[g] =  preprocessed_test_df[preprocessed_test_df['stars']==docgrp_fine[g]].txt.values\n",
    "    probs[g] = getprobs(testrev[g], docgrp_fine, by='product')\n",
    "    yhat[g] = probs[g].idxmax(\"columns\")\n",
    "\n",
    "mc_fine = pd.DataFrame({\n",
    "    'mcr': {g: (yhat[g] != g).mean() for g in docgrp_fine},\n",
    "    'n': {g: len(testrev[g]) for g in docgrp_fine}\n",
    "    })\n",
    "print(mc_fine)\n",
    "\n",
    "ntest = mc_fine['n'].sum()\n",
    "overall_fine = mc_fine.product(\"columns\").sum()/ntest\n",
    "print(\"\\nOverall Fine-Scale MCR: %.3f\" %overall_fine)"
   ]
  },
  {
   "cell_type": "code",
   "execution_count": null,
   "metadata": {
    "collapsed": true
   },
   "outputs": [],
   "source": []
  },
  {
   "cell_type": "code",
   "execution_count": null,
   "metadata": {
    "collapsed": true
   },
   "outputs": [],
   "source": []
  }
 ],
 "metadata": {
  "kernelspec": {
   "display_name": "Python 2",
   "language": "python",
   "name": "python2"
  },
  "language_info": {
   "codemirror_mode": {
    "name": "ipython",
    "version": 2
   },
   "file_extension": ".py",
   "mimetype": "text/x-python",
   "name": "python",
   "nbconvert_exporter": "python",
   "pygments_lexer": "ipython2",
   "version": "2.7.6"
  }
 },
 "nbformat": 4,
 "nbformat_minor": 0
}
